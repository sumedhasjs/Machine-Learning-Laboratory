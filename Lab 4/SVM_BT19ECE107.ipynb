{
  "nbformat": 4,
  "nbformat_minor": 0,
  "metadata": {
    "colab": {
      "provenance": []
    },
    "kernelspec": {
      "name": "python3",
      "display_name": "Python 3"
    },
    "language_info": {
      "name": "python"
    }
  },
  "cells": [
    {
      "cell_type": "markdown",
      "source": [
        "# **Importing the Dataset**"
      ],
      "metadata": {
        "id": "GWCOVRYmKSbq"
      }
    },
    {
      "cell_type": "code",
      "execution_count": 1,
      "metadata": {
        "id": "NpHGVIZnD_hQ",
        "colab": {
          "base_uri": "https://localhost:8080/"
        },
        "outputId": "fa38dba4-6051-4ce5-9ea7-e319a7c93df1"
      },
      "outputs": [
        {
          "output_type": "stream",
          "name": "stdout",
          "text": [
            "Mounted at /content/gdrive\n"
          ]
        }
      ],
      "source": [
        "from google.colab import drive\n",
        "drive.mount('/content/gdrive')"
      ]
    },
    {
      "cell_type": "code",
      "source": [
        "%cd 'gdrive/MyDrive/ML Lab Datasets'"
      ],
      "metadata": {
        "colab": {
          "base_uri": "https://localhost:8080/"
        },
        "id": "qeDu4QL_H_5u",
        "outputId": "26a49a45-f348-4974-a808-954257ae4b7e"
      },
      "execution_count": 2,
      "outputs": [
        {
          "output_type": "stream",
          "name": "stdout",
          "text": [
            "/content/gdrive/MyDrive/ML Lab Datasets\n"
          ]
        }
      ]
    },
    {
      "cell_type": "markdown",
      "source": [
        "# **Importing Libraries**"
      ],
      "metadata": {
        "id": "YfirozvnKa1v"
      }
    },
    {
      "cell_type": "code",
      "source": [
        "import numpy as np\n",
        "import matplotlib.pyplot as plt\n",
        "import pandas as pd\n",
        "from scipy.io import loadmat\n",
        "from sklearn.model_selection import train_test_split\n",
        "from sklearn.metrics import accuracy_score,confusion_matrix,ConfusionMatrixDisplay\n",
        "from sklearn.model_selection import GridSearchCV\n",
        "from sklearn.svm import SVC\n",
        "from sklearn.preprocessing import label_binarize\n",
        "from sklearn.metrics import roc_curve, roc_auc_score \n",
        "from sklearn.metrics import accuracy_score ,  confusion_matrix , ConfusionMatrixDisplay , roc_curve , roc_auc_score , RocCurveDisplay,auc"
      ],
      "metadata": {
        "id": "w7KEm6aGIBac"
      },
      "execution_count": 3,
      "outputs": []
    },
    {
      "cell_type": "markdown",
      "source": [
        "# **Loading Data and Preprocessing**"
      ],
      "metadata": {
        "id": "9oWl-IQrKkQR"
      }
    },
    {
      "cell_type": "code",
      "source": [
        "data=loadmat('fisheriris_matlab.mat')"
      ],
      "metadata": {
        "id": "usTZflb4IOLN"
      },
      "execution_count": 4,
      "outputs": []
    },
    {
      "cell_type": "code",
      "source": [
        "data.keys()"
      ],
      "metadata": {
        "colab": {
          "base_uri": "https://localhost:8080/"
        },
        "id": "lsh9lZ8SIn_K",
        "outputId": "8e0ddc3f-b075-4497-e41e-8d8b408baa18"
      },
      "execution_count": 5,
      "outputs": [
        {
          "output_type": "execute_result",
          "data": {
            "text/plain": [
              "dict_keys(['__header__', '__version__', '__globals__', 'meas', 'species'])"
            ]
          },
          "metadata": {},
          "execution_count": 5
        }
      ]
    },
    {
      "cell_type": "code",
      "source": [
        "df=pd.DataFrame(data['meas'])"
      ],
      "metadata": {
        "id": "w4gL6rOOIp57"
      },
      "execution_count": 6,
      "outputs": []
    },
    {
      "cell_type": "code",
      "source": [
        "df.head()"
      ],
      "metadata": {
        "colab": {
          "base_uri": "https://localhost:8080/",
          "height": 206
        },
        "id": "f75z716BIwTB",
        "outputId": "2266639e-87ff-478e-b536-01d5a5e9c80b"
      },
      "execution_count": 7,
      "outputs": [
        {
          "output_type": "execute_result",
          "data": {
            "text/plain": [
              "     0    1    2    3\n",
              "0  5.1  3.5  1.4  0.2\n",
              "1  4.9  3.0  1.4  0.2\n",
              "2  4.7  3.2  1.3  0.2\n",
              "3  4.6  3.1  1.5  0.2\n",
              "4  5.0  3.6  1.4  0.2"
            ],
            "text/html": [
              "\n",
              "  <div id=\"df-1ada7555-9eb7-4e62-9401-1cdb06380ac3\">\n",
              "    <div class=\"colab-df-container\">\n",
              "      <div>\n",
              "<style scoped>\n",
              "    .dataframe tbody tr th:only-of-type {\n",
              "        vertical-align: middle;\n",
              "    }\n",
              "\n",
              "    .dataframe tbody tr th {\n",
              "        vertical-align: top;\n",
              "    }\n",
              "\n",
              "    .dataframe thead th {\n",
              "        text-align: right;\n",
              "    }\n",
              "</style>\n",
              "<table border=\"1\" class=\"dataframe\">\n",
              "  <thead>\n",
              "    <tr style=\"text-align: right;\">\n",
              "      <th></th>\n",
              "      <th>0</th>\n",
              "      <th>1</th>\n",
              "      <th>2</th>\n",
              "      <th>3</th>\n",
              "    </tr>\n",
              "  </thead>\n",
              "  <tbody>\n",
              "    <tr>\n",
              "      <th>0</th>\n",
              "      <td>5.1</td>\n",
              "      <td>3.5</td>\n",
              "      <td>1.4</td>\n",
              "      <td>0.2</td>\n",
              "    </tr>\n",
              "    <tr>\n",
              "      <th>1</th>\n",
              "      <td>4.9</td>\n",
              "      <td>3.0</td>\n",
              "      <td>1.4</td>\n",
              "      <td>0.2</td>\n",
              "    </tr>\n",
              "    <tr>\n",
              "      <th>2</th>\n",
              "      <td>4.7</td>\n",
              "      <td>3.2</td>\n",
              "      <td>1.3</td>\n",
              "      <td>0.2</td>\n",
              "    </tr>\n",
              "    <tr>\n",
              "      <th>3</th>\n",
              "      <td>4.6</td>\n",
              "      <td>3.1</td>\n",
              "      <td>1.5</td>\n",
              "      <td>0.2</td>\n",
              "    </tr>\n",
              "    <tr>\n",
              "      <th>4</th>\n",
              "      <td>5.0</td>\n",
              "      <td>3.6</td>\n",
              "      <td>1.4</td>\n",
              "      <td>0.2</td>\n",
              "    </tr>\n",
              "  </tbody>\n",
              "</table>\n",
              "</div>\n",
              "      <button class=\"colab-df-convert\" onclick=\"convertToInteractive('df-1ada7555-9eb7-4e62-9401-1cdb06380ac3')\"\n",
              "              title=\"Convert this dataframe to an interactive table.\"\n",
              "              style=\"display:none;\">\n",
              "        \n",
              "  <svg xmlns=\"http://www.w3.org/2000/svg\" height=\"24px\"viewBox=\"0 0 24 24\"\n",
              "       width=\"24px\">\n",
              "    <path d=\"M0 0h24v24H0V0z\" fill=\"none\"/>\n",
              "    <path d=\"M18.56 5.44l.94 2.06.94-2.06 2.06-.94-2.06-.94-.94-2.06-.94 2.06-2.06.94zm-11 1L8.5 8.5l.94-2.06 2.06-.94-2.06-.94L8.5 2.5l-.94 2.06-2.06.94zm10 10l.94 2.06.94-2.06 2.06-.94-2.06-.94-.94-2.06-.94 2.06-2.06.94z\"/><path d=\"M17.41 7.96l-1.37-1.37c-.4-.4-.92-.59-1.43-.59-.52 0-1.04.2-1.43.59L10.3 9.45l-7.72 7.72c-.78.78-.78 2.05 0 2.83L4 21.41c.39.39.9.59 1.41.59.51 0 1.02-.2 1.41-.59l7.78-7.78 2.81-2.81c.8-.78.8-2.07 0-2.86zM5.41 20L4 18.59l7.72-7.72 1.47 1.35L5.41 20z\"/>\n",
              "  </svg>\n",
              "      </button>\n",
              "      \n",
              "  <style>\n",
              "    .colab-df-container {\n",
              "      display:flex;\n",
              "      flex-wrap:wrap;\n",
              "      gap: 12px;\n",
              "    }\n",
              "\n",
              "    .colab-df-convert {\n",
              "      background-color: #E8F0FE;\n",
              "      border: none;\n",
              "      border-radius: 50%;\n",
              "      cursor: pointer;\n",
              "      display: none;\n",
              "      fill: #1967D2;\n",
              "      height: 32px;\n",
              "      padding: 0 0 0 0;\n",
              "      width: 32px;\n",
              "    }\n",
              "\n",
              "    .colab-df-convert:hover {\n",
              "      background-color: #E2EBFA;\n",
              "      box-shadow: 0px 1px 2px rgba(60, 64, 67, 0.3), 0px 1px 3px 1px rgba(60, 64, 67, 0.15);\n",
              "      fill: #174EA6;\n",
              "    }\n",
              "\n",
              "    [theme=dark] .colab-df-convert {\n",
              "      background-color: #3B4455;\n",
              "      fill: #D2E3FC;\n",
              "    }\n",
              "\n",
              "    [theme=dark] .colab-df-convert:hover {\n",
              "      background-color: #434B5C;\n",
              "      box-shadow: 0px 1px 3px 1px rgba(0, 0, 0, 0.15);\n",
              "      filter: drop-shadow(0px 1px 2px rgba(0, 0, 0, 0.3));\n",
              "      fill: #FFFFFF;\n",
              "    }\n",
              "  </style>\n",
              "\n",
              "      <script>\n",
              "        const buttonEl =\n",
              "          document.querySelector('#df-1ada7555-9eb7-4e62-9401-1cdb06380ac3 button.colab-df-convert');\n",
              "        buttonEl.style.display =\n",
              "          google.colab.kernel.accessAllowed ? 'block' : 'none';\n",
              "\n",
              "        async function convertToInteractive(key) {\n",
              "          const element = document.querySelector('#df-1ada7555-9eb7-4e62-9401-1cdb06380ac3');\n",
              "          const dataTable =\n",
              "            await google.colab.kernel.invokeFunction('convertToInteractive',\n",
              "                                                     [key], {});\n",
              "          if (!dataTable) return;\n",
              "\n",
              "          const docLinkHtml = 'Like what you see? Visit the ' +\n",
              "            '<a target=\"_blank\" href=https://colab.research.google.com/notebooks/data_table.ipynb>data table notebook</a>'\n",
              "            + ' to learn more about interactive tables.';\n",
              "          element.innerHTML = '';\n",
              "          dataTable['output_type'] = 'display_data';\n",
              "          await google.colab.output.renderOutput(dataTable, element);\n",
              "          const docLink = document.createElement('div');\n",
              "          docLink.innerHTML = docLinkHtml;\n",
              "          element.appendChild(docLink);\n",
              "        }\n",
              "      </script>\n",
              "    </div>\n",
              "  </div>\n",
              "  "
            ]
          },
          "metadata": {},
          "execution_count": 7
        }
      ]
    },
    {
      "cell_type": "code",
      "source": [
        "species_col=[]\n",
        "for i in data['species']:\n",
        "  species_col.append(i[0][0])"
      ],
      "metadata": {
        "id": "yT-itGhcJHGk"
      },
      "execution_count": 8,
      "outputs": []
    },
    {
      "cell_type": "code",
      "source": [
        "df['Species']=species_col"
      ],
      "metadata": {
        "id": "NG95oHfSJZsQ"
      },
      "execution_count": 9,
      "outputs": []
    },
    {
      "cell_type": "code",
      "source": [
        "df.head()"
      ],
      "metadata": {
        "colab": {
          "base_uri": "https://localhost:8080/",
          "height": 206
        },
        "id": "ELmrjkLfJbHD",
        "outputId": "5865e6b6-7bf4-4272-a612-187e21396635"
      },
      "execution_count": 10,
      "outputs": [
        {
          "output_type": "execute_result",
          "data": {
            "text/plain": [
              "     0    1    2    3 Species\n",
              "0  5.1  3.5  1.4  0.2  setosa\n",
              "1  4.9  3.0  1.4  0.2  setosa\n",
              "2  4.7  3.2  1.3  0.2  setosa\n",
              "3  4.6  3.1  1.5  0.2  setosa\n",
              "4  5.0  3.6  1.4  0.2  setosa"
            ],
            "text/html": [
              "\n",
              "  <div id=\"df-de52f75e-0ffc-4a25-a26b-cd8c293bed4f\">\n",
              "    <div class=\"colab-df-container\">\n",
              "      <div>\n",
              "<style scoped>\n",
              "    .dataframe tbody tr th:only-of-type {\n",
              "        vertical-align: middle;\n",
              "    }\n",
              "\n",
              "    .dataframe tbody tr th {\n",
              "        vertical-align: top;\n",
              "    }\n",
              "\n",
              "    .dataframe thead th {\n",
              "        text-align: right;\n",
              "    }\n",
              "</style>\n",
              "<table border=\"1\" class=\"dataframe\">\n",
              "  <thead>\n",
              "    <tr style=\"text-align: right;\">\n",
              "      <th></th>\n",
              "      <th>0</th>\n",
              "      <th>1</th>\n",
              "      <th>2</th>\n",
              "      <th>3</th>\n",
              "      <th>Species</th>\n",
              "    </tr>\n",
              "  </thead>\n",
              "  <tbody>\n",
              "    <tr>\n",
              "      <th>0</th>\n",
              "      <td>5.1</td>\n",
              "      <td>3.5</td>\n",
              "      <td>1.4</td>\n",
              "      <td>0.2</td>\n",
              "      <td>setosa</td>\n",
              "    </tr>\n",
              "    <tr>\n",
              "      <th>1</th>\n",
              "      <td>4.9</td>\n",
              "      <td>3.0</td>\n",
              "      <td>1.4</td>\n",
              "      <td>0.2</td>\n",
              "      <td>setosa</td>\n",
              "    </tr>\n",
              "    <tr>\n",
              "      <th>2</th>\n",
              "      <td>4.7</td>\n",
              "      <td>3.2</td>\n",
              "      <td>1.3</td>\n",
              "      <td>0.2</td>\n",
              "      <td>setosa</td>\n",
              "    </tr>\n",
              "    <tr>\n",
              "      <th>3</th>\n",
              "      <td>4.6</td>\n",
              "      <td>3.1</td>\n",
              "      <td>1.5</td>\n",
              "      <td>0.2</td>\n",
              "      <td>setosa</td>\n",
              "    </tr>\n",
              "    <tr>\n",
              "      <th>4</th>\n",
              "      <td>5.0</td>\n",
              "      <td>3.6</td>\n",
              "      <td>1.4</td>\n",
              "      <td>0.2</td>\n",
              "      <td>setosa</td>\n",
              "    </tr>\n",
              "  </tbody>\n",
              "</table>\n",
              "</div>\n",
              "      <button class=\"colab-df-convert\" onclick=\"convertToInteractive('df-de52f75e-0ffc-4a25-a26b-cd8c293bed4f')\"\n",
              "              title=\"Convert this dataframe to an interactive table.\"\n",
              "              style=\"display:none;\">\n",
              "        \n",
              "  <svg xmlns=\"http://www.w3.org/2000/svg\" height=\"24px\"viewBox=\"0 0 24 24\"\n",
              "       width=\"24px\">\n",
              "    <path d=\"M0 0h24v24H0V0z\" fill=\"none\"/>\n",
              "    <path d=\"M18.56 5.44l.94 2.06.94-2.06 2.06-.94-2.06-.94-.94-2.06-.94 2.06-2.06.94zm-11 1L8.5 8.5l.94-2.06 2.06-.94-2.06-.94L8.5 2.5l-.94 2.06-2.06.94zm10 10l.94 2.06.94-2.06 2.06-.94-2.06-.94-.94-2.06-.94 2.06-2.06.94z\"/><path d=\"M17.41 7.96l-1.37-1.37c-.4-.4-.92-.59-1.43-.59-.52 0-1.04.2-1.43.59L10.3 9.45l-7.72 7.72c-.78.78-.78 2.05 0 2.83L4 21.41c.39.39.9.59 1.41.59.51 0 1.02-.2 1.41-.59l7.78-7.78 2.81-2.81c.8-.78.8-2.07 0-2.86zM5.41 20L4 18.59l7.72-7.72 1.47 1.35L5.41 20z\"/>\n",
              "  </svg>\n",
              "      </button>\n",
              "      \n",
              "  <style>\n",
              "    .colab-df-container {\n",
              "      display:flex;\n",
              "      flex-wrap:wrap;\n",
              "      gap: 12px;\n",
              "    }\n",
              "\n",
              "    .colab-df-convert {\n",
              "      background-color: #E8F0FE;\n",
              "      border: none;\n",
              "      border-radius: 50%;\n",
              "      cursor: pointer;\n",
              "      display: none;\n",
              "      fill: #1967D2;\n",
              "      height: 32px;\n",
              "      padding: 0 0 0 0;\n",
              "      width: 32px;\n",
              "    }\n",
              "\n",
              "    .colab-df-convert:hover {\n",
              "      background-color: #E2EBFA;\n",
              "      box-shadow: 0px 1px 2px rgba(60, 64, 67, 0.3), 0px 1px 3px 1px rgba(60, 64, 67, 0.15);\n",
              "      fill: #174EA6;\n",
              "    }\n",
              "\n",
              "    [theme=dark] .colab-df-convert {\n",
              "      background-color: #3B4455;\n",
              "      fill: #D2E3FC;\n",
              "    }\n",
              "\n",
              "    [theme=dark] .colab-df-convert:hover {\n",
              "      background-color: #434B5C;\n",
              "      box-shadow: 0px 1px 3px 1px rgba(0, 0, 0, 0.15);\n",
              "      filter: drop-shadow(0px 1px 2px rgba(0, 0, 0, 0.3));\n",
              "      fill: #FFFFFF;\n",
              "    }\n",
              "  </style>\n",
              "\n",
              "      <script>\n",
              "        const buttonEl =\n",
              "          document.querySelector('#df-de52f75e-0ffc-4a25-a26b-cd8c293bed4f button.colab-df-convert');\n",
              "        buttonEl.style.display =\n",
              "          google.colab.kernel.accessAllowed ? 'block' : 'none';\n",
              "\n",
              "        async function convertToInteractive(key) {\n",
              "          const element = document.querySelector('#df-de52f75e-0ffc-4a25-a26b-cd8c293bed4f');\n",
              "          const dataTable =\n",
              "            await google.colab.kernel.invokeFunction('convertToInteractive',\n",
              "                                                     [key], {});\n",
              "          if (!dataTable) return;\n",
              "\n",
              "          const docLinkHtml = 'Like what you see? Visit the ' +\n",
              "            '<a target=\"_blank\" href=https://colab.research.google.com/notebooks/data_table.ipynb>data table notebook</a>'\n",
              "            + ' to learn more about interactive tables.';\n",
              "          element.innerHTML = '';\n",
              "          dataTable['output_type'] = 'display_data';\n",
              "          await google.colab.output.renderOutput(dataTable, element);\n",
              "          const docLink = document.createElement('div');\n",
              "          docLink.innerHTML = docLinkHtml;\n",
              "          element.appendChild(docLink);\n",
              "        }\n",
              "      </script>\n",
              "    </div>\n",
              "  </div>\n",
              "  "
            ]
          },
          "metadata": {},
          "execution_count": 10
        }
      ]
    },
    {
      "cell_type": "code",
      "source": [
        "headings ={0:\"Sepal Length\",1:\"Sepal Width\",2:\"Petal Length\",3:\"Petal Width\",4:\"Species\"}\n",
        "df.rename(columns=headings, inplace=True)"
      ],
      "metadata": {
        "id": "81yfsfyPJyCB"
      },
      "execution_count": 11,
      "outputs": []
    },
    {
      "cell_type": "code",
      "source": [
        "df.head()"
      ],
      "metadata": {
        "colab": {
          "base_uri": "https://localhost:8080/",
          "height": 206
        },
        "id": "R7tYbBtgKCZY",
        "outputId": "7fa44b3b-9d58-4107-f33d-4e57d79f6f93"
      },
      "execution_count": 12,
      "outputs": [
        {
          "output_type": "execute_result",
          "data": {
            "text/plain": [
              "   Sepal Length  Sepal Width  Petal Length  Petal Width Species\n",
              "0           5.1          3.5           1.4          0.2  setosa\n",
              "1           4.9          3.0           1.4          0.2  setosa\n",
              "2           4.7          3.2           1.3          0.2  setosa\n",
              "3           4.6          3.1           1.5          0.2  setosa\n",
              "4           5.0          3.6           1.4          0.2  setosa"
            ],
            "text/html": [
              "\n",
              "  <div id=\"df-a776ae7f-6159-40d2-bd33-942332b046f9\">\n",
              "    <div class=\"colab-df-container\">\n",
              "      <div>\n",
              "<style scoped>\n",
              "    .dataframe tbody tr th:only-of-type {\n",
              "        vertical-align: middle;\n",
              "    }\n",
              "\n",
              "    .dataframe tbody tr th {\n",
              "        vertical-align: top;\n",
              "    }\n",
              "\n",
              "    .dataframe thead th {\n",
              "        text-align: right;\n",
              "    }\n",
              "</style>\n",
              "<table border=\"1\" class=\"dataframe\">\n",
              "  <thead>\n",
              "    <tr style=\"text-align: right;\">\n",
              "      <th></th>\n",
              "      <th>Sepal Length</th>\n",
              "      <th>Sepal Width</th>\n",
              "      <th>Petal Length</th>\n",
              "      <th>Petal Width</th>\n",
              "      <th>Species</th>\n",
              "    </tr>\n",
              "  </thead>\n",
              "  <tbody>\n",
              "    <tr>\n",
              "      <th>0</th>\n",
              "      <td>5.1</td>\n",
              "      <td>3.5</td>\n",
              "      <td>1.4</td>\n",
              "      <td>0.2</td>\n",
              "      <td>setosa</td>\n",
              "    </tr>\n",
              "    <tr>\n",
              "      <th>1</th>\n",
              "      <td>4.9</td>\n",
              "      <td>3.0</td>\n",
              "      <td>1.4</td>\n",
              "      <td>0.2</td>\n",
              "      <td>setosa</td>\n",
              "    </tr>\n",
              "    <tr>\n",
              "      <th>2</th>\n",
              "      <td>4.7</td>\n",
              "      <td>3.2</td>\n",
              "      <td>1.3</td>\n",
              "      <td>0.2</td>\n",
              "      <td>setosa</td>\n",
              "    </tr>\n",
              "    <tr>\n",
              "      <th>3</th>\n",
              "      <td>4.6</td>\n",
              "      <td>3.1</td>\n",
              "      <td>1.5</td>\n",
              "      <td>0.2</td>\n",
              "      <td>setosa</td>\n",
              "    </tr>\n",
              "    <tr>\n",
              "      <th>4</th>\n",
              "      <td>5.0</td>\n",
              "      <td>3.6</td>\n",
              "      <td>1.4</td>\n",
              "      <td>0.2</td>\n",
              "      <td>setosa</td>\n",
              "    </tr>\n",
              "  </tbody>\n",
              "</table>\n",
              "</div>\n",
              "      <button class=\"colab-df-convert\" onclick=\"convertToInteractive('df-a776ae7f-6159-40d2-bd33-942332b046f9')\"\n",
              "              title=\"Convert this dataframe to an interactive table.\"\n",
              "              style=\"display:none;\">\n",
              "        \n",
              "  <svg xmlns=\"http://www.w3.org/2000/svg\" height=\"24px\"viewBox=\"0 0 24 24\"\n",
              "       width=\"24px\">\n",
              "    <path d=\"M0 0h24v24H0V0z\" fill=\"none\"/>\n",
              "    <path d=\"M18.56 5.44l.94 2.06.94-2.06 2.06-.94-2.06-.94-.94-2.06-.94 2.06-2.06.94zm-11 1L8.5 8.5l.94-2.06 2.06-.94-2.06-.94L8.5 2.5l-.94 2.06-2.06.94zm10 10l.94 2.06.94-2.06 2.06-.94-2.06-.94-.94-2.06-.94 2.06-2.06.94z\"/><path d=\"M17.41 7.96l-1.37-1.37c-.4-.4-.92-.59-1.43-.59-.52 0-1.04.2-1.43.59L10.3 9.45l-7.72 7.72c-.78.78-.78 2.05 0 2.83L4 21.41c.39.39.9.59 1.41.59.51 0 1.02-.2 1.41-.59l7.78-7.78 2.81-2.81c.8-.78.8-2.07 0-2.86zM5.41 20L4 18.59l7.72-7.72 1.47 1.35L5.41 20z\"/>\n",
              "  </svg>\n",
              "      </button>\n",
              "      \n",
              "  <style>\n",
              "    .colab-df-container {\n",
              "      display:flex;\n",
              "      flex-wrap:wrap;\n",
              "      gap: 12px;\n",
              "    }\n",
              "\n",
              "    .colab-df-convert {\n",
              "      background-color: #E8F0FE;\n",
              "      border: none;\n",
              "      border-radius: 50%;\n",
              "      cursor: pointer;\n",
              "      display: none;\n",
              "      fill: #1967D2;\n",
              "      height: 32px;\n",
              "      padding: 0 0 0 0;\n",
              "      width: 32px;\n",
              "    }\n",
              "\n",
              "    .colab-df-convert:hover {\n",
              "      background-color: #E2EBFA;\n",
              "      box-shadow: 0px 1px 2px rgba(60, 64, 67, 0.3), 0px 1px 3px 1px rgba(60, 64, 67, 0.15);\n",
              "      fill: #174EA6;\n",
              "    }\n",
              "\n",
              "    [theme=dark] .colab-df-convert {\n",
              "      background-color: #3B4455;\n",
              "      fill: #D2E3FC;\n",
              "    }\n",
              "\n",
              "    [theme=dark] .colab-df-convert:hover {\n",
              "      background-color: #434B5C;\n",
              "      box-shadow: 0px 1px 3px 1px rgba(0, 0, 0, 0.15);\n",
              "      filter: drop-shadow(0px 1px 2px rgba(0, 0, 0, 0.3));\n",
              "      fill: #FFFFFF;\n",
              "    }\n",
              "  </style>\n",
              "\n",
              "      <script>\n",
              "        const buttonEl =\n",
              "          document.querySelector('#df-a776ae7f-6159-40d2-bd33-942332b046f9 button.colab-df-convert');\n",
              "        buttonEl.style.display =\n",
              "          google.colab.kernel.accessAllowed ? 'block' : 'none';\n",
              "\n",
              "        async function convertToInteractive(key) {\n",
              "          const element = document.querySelector('#df-a776ae7f-6159-40d2-bd33-942332b046f9');\n",
              "          const dataTable =\n",
              "            await google.colab.kernel.invokeFunction('convertToInteractive',\n",
              "                                                     [key], {});\n",
              "          if (!dataTable) return;\n",
              "\n",
              "          const docLinkHtml = 'Like what you see? Visit the ' +\n",
              "            '<a target=\"_blank\" href=https://colab.research.google.com/notebooks/data_table.ipynb>data table notebook</a>'\n",
              "            + ' to learn more about interactive tables.';\n",
              "          element.innerHTML = '';\n",
              "          dataTable['output_type'] = 'display_data';\n",
              "          await google.colab.output.renderOutput(dataTable, element);\n",
              "          const docLink = document.createElement('div');\n",
              "          docLink.innerHTML = docLinkHtml;\n",
              "          element.appendChild(docLink);\n",
              "        }\n",
              "      </script>\n",
              "    </div>\n",
              "  </div>\n",
              "  "
            ]
          },
          "metadata": {},
          "execution_count": 12
        }
      ]
    },
    {
      "cell_type": "markdown",
      "source": [
        "# **Splitting Data into Testing, training and Validation sets**"
      ],
      "metadata": {
        "id": "wAmLcHrZKqbg"
      }
    },
    {
      "cell_type": "code",
      "source": [
        "test_ratio=0.45\n",
        "train_ratio=0.55"
      ],
      "metadata": {
        "id": "fX-Uhg8_KFkI"
      },
      "execution_count": 13,
      "outputs": []
    },
    {
      "cell_type": "code",
      "source": [
        "Train,Test = train_test_split(df,test_size=test_ratio,train_size=train_ratio,shuffle=True)\n",
        "Test, Validation = train_test_split(Test,test_size=test_ratio/2,train_size=test_ratio/2,shuffle=True)"
      ],
      "metadata": {
        "id": "45jk3UlzKJjZ"
      },
      "execution_count": 14,
      "outputs": []
    },
    {
      "cell_type": "markdown",
      "source": [
        "# **Linear Kernal**"
      ],
      "metadata": {
        "id": "zFYkIKmXK3qI"
      }
    },
    {
      "cell_type": "code",
      "source": [
        "kernel = ['linear']\n",
        "C = [0.001,0.01,1,10,100]\n",
        "gamma = ['scale']"
      ],
      "metadata": {
        "id": "n-P0APG1KN1O"
      },
      "execution_count": 15,
      "outputs": []
    },
    {
      "cell_type": "code",
      "source": [
        "grid = dict(kernel=kernel,C=C,gamma=gamma)\n",
        "cv = 2\n",
        "grid_search = GridSearchCV(estimator=SVC(), param_grid=grid, n_jobs=-1, cv=cv, scoring='accuracy',error_score=0)\n",
        "grid_result = grid_search.fit(Validation[[\"Sepal Length\",\"Sepal Width\",\"Petal Length\",\"Petal Width\"]], Validation[[\"Species\"]])"
      ],
      "metadata": {
        "colab": {
          "base_uri": "https://localhost:8080/"
        },
        "id": "wLr71AjsK8Cy",
        "outputId": "e7a97a66-b4b0-4c4f-882e-3ddf2d37f22a"
      },
      "execution_count": 16,
      "outputs": [
        {
          "output_type": "stream",
          "name": "stderr",
          "text": [
            "/usr/local/lib/python3.7/dist-packages/sklearn/utils/validation.py:993: DataConversionWarning: A column-vector y was passed when a 1d array was expected. Please change the shape of y to (n_samples, ), for example using ravel().\n",
            "  y = column_or_1d(y, warn=True)\n"
          ]
        }
      ]
    },
    {
      "cell_type": "code",
      "source": [
        "print(\"Best: \\n Accuracy %f using prameters: %s\" % (grid_result.best_score_, grid_result.best_params_))"
      ],
      "metadata": {
        "colab": {
          "base_uri": "https://localhost:8080/"
        },
        "id": "LGvJzliFLSry",
        "outputId": "4ef1d2a2-f33a-4793-bd1e-a3361bee532c"
      },
      "execution_count": 17,
      "outputs": [
        {
          "output_type": "stream",
          "name": "stdout",
          "text": [
            "Best: \n",
            " Accuracy 0.875000 using prameters: {'C': 1, 'gamma': 'scale', 'kernel': 'linear'}\n"
          ]
        }
      ]
    },
    {
      "cell_type": "code",
      "source": [
        "means = grid_result.cv_results_['mean_test_score']\n",
        "stds = grid_result.cv_results_['std_test_score']\n",
        "params = grid_result.cv_results_['params']\n",
        "linear_grid = {'accuracy':[],'params':[]}"
      ],
      "metadata": {
        "id": "Pc4TnaiWLWra"
      },
      "execution_count": 18,
      "outputs": []
    },
    {
      "cell_type": "code",
      "source": [
        "for mean, stdev, param in zip(means, stds, params):\n",
        "  print(\"%f with: %r\" % (mean, param))\n",
        "  if param['kernel']=='linear':\n",
        "    linear_grid['accuracy'].append(mean)\n",
        "    linear_grid['params'].append(param['C'])"
      ],
      "metadata": {
        "colab": {
          "base_uri": "https://localhost:8080/"
        },
        "id": "MoXg45AxLbCb",
        "outputId": "80acae94-65d1-4020-8265-b93eee696ada"
      },
      "execution_count": 19,
      "outputs": [
        {
          "output_type": "stream",
          "name": "stdout",
          "text": [
            "0.562500 with: {'C': 0.001, 'gamma': 'scale', 'kernel': 'linear'}\n",
            "0.562500 with: {'C': 0.01, 'gamma': 'scale', 'kernel': 'linear'}\n",
            "0.875000 with: {'C': 1, 'gamma': 'scale', 'kernel': 'linear'}\n",
            "0.875000 with: {'C': 10, 'gamma': 'scale', 'kernel': 'linear'}\n",
            "0.875000 with: {'C': 100, 'gamma': 'scale', 'kernel': 'linear'}\n"
          ]
        }
      ]
    },
    {
      "cell_type": "code",
      "source": [
        "test_grid = dict(kernel = [grid_result.best_params_['kernel']], C = [grid_result.best_params_['C']], gamma = [grid_result.best_params_['gamma']])\n",
        "test_grid_search = GridSearchCV(estimator=SVC(), param_grid=test_grid, n_jobs=-1, cv=2, scoring='accuracy',error_score=0)\n",
        "test_grid_result = test_grid_search.fit(Validation[[\"Sepal Length\",\"Sepal Width\",\"Petal Length\",\"Petal Width\"]], Validation[[\"Species\"]])\n",
        "pred_test = test_grid_result.predict(Test[[\"Sepal Length\",\"Sepal Width\",\"Petal Length\",\"Petal Width\"]])\n",
        "print(\"Accuracy on best parameters from linear kernel: \",test_grid_result.score(Test[[\"Sepal Length\",\"Sepal Width\",\"Petal Length\",\"Petal Width\"]], Test[[\"Species\"]]))"
      ],
      "metadata": {
        "colab": {
          "base_uri": "https://localhost:8080/"
        },
        "id": "CChqWBQxLdrO",
        "outputId": "95c5a795-a8bb-4897-df28-6864ec0527c7"
      },
      "execution_count": 20,
      "outputs": [
        {
          "output_type": "stream",
          "name": "stdout",
          "text": [
            "Accuracy on best parameters from linear kernel:  1.0\n"
          ]
        },
        {
          "output_type": "stream",
          "name": "stderr",
          "text": [
            "/usr/local/lib/python3.7/dist-packages/sklearn/utils/validation.py:993: DataConversionWarning: A column-vector y was passed when a 1d array was expected. Please change the shape of y to (n_samples, ), for example using ravel().\n",
            "  y = column_or_1d(y, warn=True)\n"
          ]
        }
      ]
    },
    {
      "cell_type": "code",
      "source": [
        "test_grid = dict(kernel = [grid_result.best_params_['kernel']], C = [grid_result.best_params_['C']], gamma = [grid_result.best_params_['gamma']])\n",
        "test_grid_search = GridSearchCV(estimator=SVC(), param_grid=test_grid, n_jobs=-1, cv=2, scoring='accuracy',error_score=0)\n",
        "test_grid_result = test_grid_search.fit(Validation[[\"Sepal Length\",\"Sepal Width\",\"Petal Length\",\"Petal Width\"]], Validation[[\"Species\"]])\n",
        "pred_test = test_grid_result.predict(Test[[\"Sepal Length\",\"Sepal Width\",\"Petal Length\",\"Petal Width\"]])\n",
        "print(\"Accuracy on best parameters from linear kernel: \",test_grid_result.score(Test[[\"Sepal Length\",\"Sepal Width\",\"Petal Length\",\"Petal Width\"]], Test[[\"Species\"]]))"
      ],
      "metadata": {
        "id": "Vzz7ATPQnyz5",
        "colab": {
          "base_uri": "https://localhost:8080/"
        },
        "outputId": "070cd7c1-beed-4ba5-b4da-9d7f3046a4a9"
      },
      "execution_count": 21,
      "outputs": [
        {
          "output_type": "stream",
          "name": "stdout",
          "text": [
            "Accuracy on best parameters from linear kernel:  1.0\n"
          ]
        },
        {
          "output_type": "stream",
          "name": "stderr",
          "text": [
            "/usr/local/lib/python3.7/dist-packages/sklearn/utils/validation.py:993: DataConversionWarning: A column-vector y was passed when a 1d array was expected. Please change the shape of y to (n_samples, ), for example using ravel().\n",
            "  y = column_or_1d(y, warn=True)\n"
          ]
        }
      ]
    },
    {
      "cell_type": "markdown",
      "source": [
        "**Accuracy-Linear Kernal**"
      ],
      "metadata": {
        "id": "e05a3asaMDcX"
      }
    },
    {
      "cell_type": "code",
      "source": [
        "plt.figure()\n",
        "plt.plot(linear_grid['params'],linear_grid['accuracy'])\n",
        "plt.xlim([0,2])\n",
        "plt.title(\"Accuracy vs hyperparameters for linear kernel\")"
      ],
      "metadata": {
        "colab": {
          "base_uri": "https://localhost:8080/",
          "height": 298
        },
        "id": "h79CJpbTLzgx",
        "outputId": "33ea550a-5ab6-4232-9f51-0f6fac232b65"
      },
      "execution_count": 22,
      "outputs": [
        {
          "output_type": "execute_result",
          "data": {
            "text/plain": [
              "Text(0.5, 1.0, 'Accuracy vs hyperparameters for linear kernel')"
            ]
          },
          "metadata": {},
          "execution_count": 22
        },
        {
          "output_type": "display_data",
          "data": {
            "text/plain": [
              "<Figure size 432x288 with 1 Axes>"
            ],
            "image/png": "[encoded data removed]"
          },
          "metadata": {
            "needs_background": "light"
          }
        }
      ]
    },
    {
      "cell_type": "markdown",
      "source": [
        "**Confusion Matrix- Linear Kernal**"
      ],
      "metadata": {
        "id": "BhNL5LYOMIjd"
      }
    },
    {
      "cell_type": "code",
      "source": [
        "cm=confusion_matrix(Test[\"Species\"],pred_test)\n",
        "print(\"Confusion matrix :\\n\",cm)\n",
        "disp_lin = ConfusionMatrixDisplay(cm)\n",
        "disp_lin.plot()\n",
        "plt.show()"
      ],
      "metadata": {
        "colab": {
          "base_uri": "https://localhost:8080/",
          "height": 352
        },
        "id": "6nPvIvkiMFsa",
        "outputId": "cc1997df-e1ed-412b-af03-0d1a32151099"
      },
      "execution_count": 23,
      "outputs": [
        {
          "output_type": "stream",
          "name": "stdout",
          "text": [
            "Confusion matrix :\n",
            " [[9 0 0]\n",
            " [0 4 0]\n",
            " [0 0 2]]\n"
          ]
        },
        {
          "output_type": "display_data",
          "data": {
            "text/plain": [
              "<Figure size 432x288 with 2 Axes>"
            ],
            "image/png": "[encoded data removed]"
          },
          "metadata": {
            "needs_background": "light"
          }
        }
      ]
    },
    {
      "cell_type": "markdown",
      "source": [
        "**Sensitivity and Specifivity- Linear Kernal**"
      ],
      "metadata": {
        "id": "uNMyIi6HMlug"
      }
    },
    {
      "cell_type": "markdown",
      "source": [
        "For Setosa"
      ],
      "metadata": {
        "id": "PSqytCCzTcfL"
      }
    },
    {
      "cell_type": "code",
      "source": [
        "tp=cm[0,0]\n",
        "fn=cm[0,1]+cm[0,2]\n",
        "fp=cm[1,0]+cm[2,0]\n",
        "tn=cm[1,1]+cm[1,2]+cm[2,1]+cm[2,2]"
      ],
      "metadata": {
        "id": "aGGpYDSBNkng"
      },
      "execution_count": 24,
      "outputs": []
    },
    {
      "cell_type": "code",
      "source": [
        "sensitivity = tp/(tp+fn)\n",
        "print('Sensitivity for Setosa: ', sensitivity )\n",
        "\n",
        "specificity = tn/(tn+fp)\n",
        "print('Specificity for Setosa : ', specificity)"
      ],
      "metadata": {
        "colab": {
          "base_uri": "https://localhost:8080/"
        },
        "id": "bUXhnvLaMebT",
        "outputId": "42016a05-7a2f-4445-8ada-36a96bb64c1d"
      },
      "execution_count": 25,
      "outputs": [
        {
          "output_type": "stream",
          "name": "stdout",
          "text": [
            "Sensitivity for Setosa:  1.0\n",
            "Specificity for Setosa :  1.0\n"
          ]
        }
      ]
    },
    {
      "cell_type": "markdown",
      "source": [
        "For Versicolor"
      ],
      "metadata": {
        "id": "cAD3OtYFUflj"
      }
    },
    {
      "cell_type": "code",
      "source": [
        "tp=cm[1,1]\n",
        "fn=cm[1,0]+cm[1,2]\n",
        "fp=cm[0,1]+cm[2,1]\n",
        "tn=cm[0,0]+cm[0,2]+cm[2,0]+cm[2,2]"
      ],
      "metadata": {
        "id": "tMEahhjIUld1"
      },
      "execution_count": 26,
      "outputs": []
    },
    {
      "cell_type": "code",
      "source": [
        "sensitivity = tp/(tp+fn)\n",
        "print('Sensitivity for Versicolor: ', sensitivity )\n",
        "\n",
        "specificity = tn/(tn+fp)\n",
        "print('Specificity for Versicolor: ', specificity)"
      ],
      "metadata": {
        "colab": {
          "base_uri": "https://localhost:8080/"
        },
        "id": "FuMagqtzUlPN",
        "outputId": "a5674f79-f6f5-4b5d-f167-a4229234195c"
      },
      "execution_count": 27,
      "outputs": [
        {
          "output_type": "stream",
          "name": "stdout",
          "text": [
            "Sensitivity for Versicolor:  1.0\n",
            "Specificity for Versicolor:  1.0\n"
          ]
        }
      ]
    },
    {
      "cell_type": "markdown",
      "source": [
        "For Virginia"
      ],
      "metadata": {
        "id": "LECwJs2nVKd7"
      }
    },
    {
      "cell_type": "code",
      "source": [
        "tp=cm[2,2]\n",
        "fn=cm[2,0]+cm[2,1]\n",
        "fp=cm[0,2]+cm[1,2]\n",
        "tn=cm[0,0]+cm[0,1]+cm[1,0]+cm[1,1]"
      ],
      "metadata": {
        "id": "92AAJdmbWMx8"
      },
      "execution_count": 28,
      "outputs": []
    },
    {
      "cell_type": "code",
      "source": [
        "sensitivity = tp/(tp+fn)\n",
        "print('Sensitivity for Virginia: ', sensitivity )\n",
        "\n",
        "specificity = tn/(tn+fp)\n",
        "print('Specificity for Virginia: ', specificity)"
      ],
      "metadata": {
        "colab": {
          "base_uri": "https://localhost:8080/"
        },
        "id": "15tHx-qRWK10",
        "outputId": "da0694ed-5ac2-4f79-ccf8-db634a14d927"
      },
      "execution_count": 40,
      "outputs": [
        {
          "output_type": "stream",
          "name": "stdout",
          "text": [
            "Sensitivity for Virginia:  1.0\n",
            "Specificity for Virginia:  1.0\n"
          ]
        }
      ]
    },
    {
      "cell_type": "markdown",
      "source": [
        "# **Polynomial Kernal**"
      ],
      "metadata": {
        "id": "5Iqh-IY_QNNZ"
      }
    },
    {
      "cell_type": "code",
      "source": [
        "kernel = ['poly']\n",
        "C = [0.001,0.01,1,10,100]\n",
        "gamma = ['scale']"
      ],
      "metadata": {
        "id": "DRz4wQgbPyIZ"
      },
      "execution_count": 41,
      "outputs": []
    },
    {
      "cell_type": "code",
      "source": [
        "grid = dict(kernel=kernel,C=C,gamma=gamma)\n",
        "cv = 2\n",
        "grid_search = GridSearchCV(estimator=SVC(), param_grid=grid, n_jobs=-1, cv=cv, scoring='accuracy',error_score=0)\n",
        "grid_result = grid_search.fit(Validation[[\"Sepal Length\",\"Sepal Width\",\"Petal Length\",\"Petal Width\"]], Validation[[\"Species\"]])"
      ],
      "metadata": {
        "colab": {
          "base_uri": "https://localhost:8080/"
        },
        "id": "iNphn2cqQWjE",
        "outputId": "866330d9-a25c-4f1a-bbe1-d27359ace125"
      },
      "execution_count": 42,
      "outputs": [
        {
          "output_type": "stream",
          "name": "stderr",
          "text": [
            "/usr/local/lib/python3.7/dist-packages/sklearn/utils/validation.py:993: DataConversionWarning: A column-vector y was passed when a 1d array was expected. Please change the shape of y to (n_samples, ), for example using ravel().\n",
            "  y = column_or_1d(y, warn=True)\n"
          ]
        }
      ]
    },
    {
      "cell_type": "code",
      "source": [
        "print(\"Best: \\n Accuracy %f using prameters: %s\" % (grid_result.best_score_, grid_result.best_params_))"
      ],
      "metadata": {
        "colab": {
          "base_uri": "https://localhost:8080/"
        },
        "id": "nqsl3RDqQb1Z",
        "outputId": "6b159eba-f38b-4af2-d570-ede46708b4b1"
      },
      "execution_count": 43,
      "outputs": [
        {
          "output_type": "stream",
          "name": "stdout",
          "text": [
            "Best: \n",
            " Accuracy 0.875000 using prameters: {'C': 1, 'gamma': 'scale', 'kernel': 'poly'}\n"
          ]
        }
      ]
    },
    {
      "cell_type": "code",
      "source": [
        "means = grid_result.cv_results_['mean_test_score']\n",
        "stds = grid_result.cv_results_['std_test_score']\n",
        "params = grid_result.cv_results_['params']\n",
        "poly_grid = {'accuracy':[],'params':[]}"
      ],
      "metadata": {
        "id": "hhWj-ffnQfC2"
      },
      "execution_count": 44,
      "outputs": []
    },
    {
      "cell_type": "code",
      "source": [
        "for mean, stdev, param in zip(means, stds, params):\n",
        "  print(\"%f with: %r\" % (mean, param))\n",
        "  if param['kernel']=='poly':\n",
        "    poly_grid['accuracy'].append(mean)\n",
        "    poly_grid['params'].append(param['C'])"
      ],
      "metadata": {
        "colab": {
          "base_uri": "https://localhost:8080/"
        },
        "id": "lnJtHdvnQoIN",
        "outputId": "67fa65bb-cce8-4a55-8bf5-6423d90babdb"
      },
      "execution_count": 45,
      "outputs": [
        {
          "output_type": "stream",
          "name": "stdout",
          "text": [
            "0.437500 with: {'C': 0.001, 'gamma': 'scale', 'kernel': 'poly'}\n",
            "0.437500 with: {'C': 0.01, 'gamma': 'scale', 'kernel': 'poly'}\n",
            "0.875000 with: {'C': 1, 'gamma': 'scale', 'kernel': 'poly'}\n",
            "0.875000 with: {'C': 10, 'gamma': 'scale', 'kernel': 'poly'}\n",
            "0.875000 with: {'C': 100, 'gamma': 'scale', 'kernel': 'poly'}\n"
          ]
        }
      ]
    },
    {
      "cell_type": "code",
      "source": [
        "test_grid = dict(kernel = [grid_result.best_params_['kernel']], C = [grid_result.best_params_['C']], gamma = [grid_result.best_params_['gamma']])\n",
        "test_grid_search = GridSearchCV(estimator=SVC(), param_grid=test_grid, n_jobs=-1, cv=2, scoring='accuracy',error_score=0)\n",
        "test_grid_result = test_grid_search.fit(Validation[[\"Sepal Length\",\"Sepal Width\",\"Petal Length\",\"Petal Width\"]], Validation[[\"Species\"]])\n",
        "pred_test = test_grid_result.predict(Test[[\"Sepal Length\",\"Sepal Width\",\"Petal Length\",\"Petal Width\"]])\n",
        "print(\"Accuracy on best parameters from polynomial kernel: \",test_grid_result.score(Test[[\"Sepal Length\",\"Sepal Width\",\"Petal Length\",\"Petal Width\"]], Test[[\"Species\"]]))"
      ],
      "metadata": {
        "colab": {
          "base_uri": "https://localhost:8080/"
        },
        "id": "FyXDqPwJQu4S",
        "outputId": "322fc7aa-50a3-41e2-ce90-2f90178c89a6"
      },
      "execution_count": 46,
      "outputs": [
        {
          "output_type": "stream",
          "name": "stdout",
          "text": [
            "Accuracy on best parameters from polynomial kernel:  1.0\n"
          ]
        },
        {
          "output_type": "stream",
          "name": "stderr",
          "text": [
            "/usr/local/lib/python3.7/dist-packages/sklearn/utils/validation.py:993: DataConversionWarning: A column-vector y was passed when a 1d array was expected. Please change the shape of y to (n_samples, ), for example using ravel().\n",
            "  y = column_or_1d(y, warn=True)\n"
          ]
        }
      ]
    },
    {
      "cell_type": "markdown",
      "source": [
        "**Accuracy-Polynomial Kernal**"
      ],
      "metadata": {
        "id": "ZG_jAMDVRHBR"
      }
    },
    {
      "cell_type": "code",
      "source": [
        "plt.figure()\n",
        "plt.plot(poly_grid['params'],poly_grid['accuracy'])\n",
        "plt.xlim([0,2])\n",
        "plt.title(\"Accuracy vs hyperparameters for polynomial kernel\")"
      ],
      "metadata": {
        "colab": {
          "base_uri": "https://localhost:8080/",
          "height": 298
        },
        "id": "vRWQS0CpRAit",
        "outputId": "77966947-0f13-4592-fd57-abe37e2d1a3b"
      },
      "execution_count": 47,
      "outputs": [
        {
          "output_type": "execute_result",
          "data": {
            "text/plain": [
              "Text(0.5, 1.0, 'Accuracy vs hyperparameters for polynomial kernel')"
            ]
          },
          "metadata": {},
          "execution_count": 47
        },
        {
          "output_type": "display_data",
          "data": {
            "text/plain": [
              "<Figure size 432x288 with 1 Axes>"
            ],
            "image/png": "[encoded data removed]"
          },
          "metadata": {
            "needs_background": "light"
          }
        }
      ]
    },
    {
      "cell_type": "markdown",
      "source": [
        "**Confusion Matrix-Polynomial Kernal**"
      ],
      "metadata": {
        "id": "T2nQx-pNRbSo"
      }
    },
    {
      "cell_type": "code",
      "source": [
        "cm=confusion_matrix(Test[\"Species\"],pred_test)\n",
        "print(\"Confusion matrix :\\n\",cm)\n",
        "disp_poly = ConfusionMatrixDisplay(cm)\n",
        "disp_poly.plot()\n",
        "plt.show()"
      ],
      "metadata": {
        "colab": {
          "base_uri": "https://localhost:8080/",
          "height": 352
        },
        "id": "BClMgAY0RJez",
        "outputId": "d4e1af2f-6855-4316-d5f5-ec86c502b90f"
      },
      "execution_count": 48,
      "outputs": [
        {
          "output_type": "stream",
          "name": "stdout",
          "text": [
            "Confusion matrix :\n",
            " [[9 0 0]\n",
            " [0 4 0]\n",
            " [0 0 2]]\n"
          ]
        },
        {
          "output_type": "display_data",
          "data": {
            "text/plain": [
              "<Figure size 432x288 with 2 Axes>"
            ],
            "image/png": "[encoded data removed]"
          },
          "metadata": {
            "needs_background": "light"
          }
        }
      ]
    },
    {
      "cell_type": "markdown",
      "source": [
        "**Sensitivity and Specifivity - Polynomial Kernal**"
      ],
      "metadata": {
        "id": "EP72J41lXKOW"
      }
    },
    {
      "cell_type": "markdown",
      "source": [
        "For Setosa"
      ],
      "metadata": {
        "id": "haCLTytaXQ4O"
      }
    },
    {
      "cell_type": "code",
      "source": [
        "tp=cm[0,0]\n",
        "fn=cm[0,1]+cm[0,2]\n",
        "fp=cm[1,0]+cm[2,0]\n",
        "tn=cm[1,1]+cm[1,2]+cm[2,1]+cm[2,2]"
      ],
      "metadata": {
        "id": "rNFuTUTFRmm_"
      },
      "execution_count": 49,
      "outputs": []
    },
    {
      "cell_type": "code",
      "source": [
        "sensitivity = tp/(tp+fn)\n",
        "print('Sensitivity for Setosa: ', sensitivity )\n",
        "\n",
        "specificity = tn/(tn+fp)\n",
        "print('Specificity for Setosa : ', specificity)"
      ],
      "metadata": {
        "colab": {
          "base_uri": "https://localhost:8080/"
        },
        "id": "BJvoXXzNXVCk",
        "outputId": "e5f44914-8c41-49c6-c259-ea150176e3e4"
      },
      "execution_count": 50,
      "outputs": [
        {
          "output_type": "stream",
          "name": "stdout",
          "text": [
            "Sensitivity for Setosa:  1.0\n",
            "Specificity for Setosa :  1.0\n"
          ]
        }
      ]
    },
    {
      "cell_type": "markdown",
      "source": [
        "For Versicolor"
      ],
      "metadata": {
        "id": "aQ0eHqnlXVZG"
      }
    },
    {
      "cell_type": "code",
      "source": [
        "tp=cm[1,1]\n",
        "fn=cm[1,0]+cm[1,2]\n",
        "fp=cm[0,1]+cm[2,1]\n",
        "tn=cm[0,0]+cm[0,2]+cm[2,0]+cm[2,2]"
      ],
      "metadata": {
        "id": "frqwKVSyXXPd"
      },
      "execution_count": 51,
      "outputs": []
    },
    {
      "cell_type": "code",
      "source": [
        "sensitivity = tp/(tp+fn)\n",
        "print('Sensitivity for Versicolor: ', sensitivity )\n",
        "\n",
        "specificity = tn/(tn+fp)\n",
        "print('Specificity for Versicolor: ', specificity)"
      ],
      "metadata": {
        "colab": {
          "base_uri": "https://localhost:8080/"
        },
        "id": "87LACf3SXWm8",
        "outputId": "1c308132-60e8-48d2-bc2c-1bb6c4b96c3e"
      },
      "execution_count": 52,
      "outputs": [
        {
          "output_type": "stream",
          "name": "stdout",
          "text": [
            "Sensitivity for Versicolor:  1.0\n",
            "Specificity for Versicolor:  1.0\n"
          ]
        }
      ]
    },
    {
      "cell_type": "markdown",
      "source": [
        "For Virginia"
      ],
      "metadata": {
        "id": "RjKDLsEfXXiX"
      }
    },
    {
      "cell_type": "code",
      "source": [
        "tp=cm[2,2]\n",
        "fn=cm[2,0]+cm[2,1]\n",
        "fp=cm[0,2]+cm[1,2]\n",
        "tn=cm[0,0]+cm[0,1]+cm[1,0]+cm[1,1]"
      ],
      "metadata": {
        "id": "vEntkTwBXYxf"
      },
      "execution_count": 53,
      "outputs": []
    },
    {
      "cell_type": "code",
      "source": [
        "sensitivity = tp/(tp+fn)\n",
        "print('Sensitivity for Virginia: ', sensitivity )\n",
        "\n",
        "specificity = tn/(tn+fp)\n",
        "print('Specificity for Virginia: ', specificity)"
      ],
      "metadata": {
        "colab": {
          "base_uri": "https://localhost:8080/"
        },
        "id": "1-l3c0drXpTt",
        "outputId": "4f5ad510-8718-4445-b6d5-8fc3244a6a69"
      },
      "execution_count": 54,
      "outputs": [
        {
          "output_type": "stream",
          "name": "stdout",
          "text": [
            "Sensitivity for Virginia:  1.0\n",
            "Specificity for Virginia:  1.0\n"
          ]
        }
      ]
    },
    {
      "cell_type": "markdown",
      "source": [
        "# RBF Kernal"
      ],
      "metadata": {
        "id": "lU-Gxjl3YCGp"
      }
    },
    {
      "cell_type": "code",
      "source": [
        "kernel = ['rbf']\n",
        "C = [0.001,0.01,1,10,100]\n",
        "gamma = [0.1,1,10]"
      ],
      "metadata": {
        "id": "H-_zEAygX9um"
      },
      "execution_count": 55,
      "outputs": []
    },
    {
      "cell_type": "code",
      "source": [
        "grid = dict(kernel=kernel,C=C,gamma=gamma)\n",
        "cv = 2\n",
        "grid_search = GridSearchCV(estimator=SVC(), param_grid=grid, n_jobs=-1, cv=cv, scoring='accuracy',error_score=0)\n",
        "grid_result = grid_search.fit(Validation[[\"Sepal Length\",\"Sepal Width\",\"Petal Length\",\"Petal Width\"]], Validation[[\"Species\"]])"
      ],
      "metadata": {
        "colab": {
          "base_uri": "https://localhost:8080/"
        },
        "id": "Gd3OvexwYKZW",
        "outputId": "8adb1c2a-1dca-4fc3-b798-ef4468b21a19"
      },
      "execution_count": 56,
      "outputs": [
        {
          "output_type": "stream",
          "name": "stderr",
          "text": [
            "/usr/local/lib/python3.7/dist-packages/sklearn/utils/validation.py:993: DataConversionWarning: A column-vector y was passed when a 1d array was expected. Please change the shape of y to (n_samples, ), for example using ravel().\n",
            "  y = column_or_1d(y, warn=True)\n"
          ]
        }
      ]
    },
    {
      "cell_type": "code",
      "source": [
        "print(\"Best: \\n Accuracy %f using prameters: %s\" % (grid_result.best_score_, grid_result.best_params_))"
      ],
      "metadata": {
        "colab": {
          "base_uri": "https://localhost:8080/"
        },
        "id": "x-JJRJREYMUA",
        "outputId": "67e53455-4c3d-4458-d4c8-b1a3b7edaff9"
      },
      "execution_count": 57,
      "outputs": [
        {
          "output_type": "stream",
          "name": "stdout",
          "text": [
            "Best: \n",
            " Accuracy 0.875000 using prameters: {'C': 10, 'gamma': 0.1, 'kernel': 'rbf'}\n"
          ]
        }
      ]
    },
    {
      "cell_type": "code",
      "source": [
        "means = grid_result.cv_results_['mean_test_score']\n",
        "stds = grid_result.cv_results_['std_test_score']\n",
        "params = grid_result.cv_results_['params']\n",
        "rbf_grid = {'accuracy':[],'params':[]}"
      ],
      "metadata": {
        "id": "ZcbdtwgLYTXY"
      },
      "execution_count": 58,
      "outputs": []
    },
    {
      "cell_type": "code",
      "source": [
        "for mean, stdev, param in zip(means, stds, params):\n",
        "  print(\"%f with: %r\" % (mean, param))\n",
        "  if param['kernel']=='rbf':\n",
        "    rbf_grid['accuracy'].append(mean)\n",
        "    rbf_grid['params'].append(param['C'])"
      ],
      "metadata": {
        "colab": {
          "base_uri": "https://localhost:8080/"
        },
        "id": "sybSY4e-YYKy",
        "outputId": "7a2fc44e-6d88-451b-a5a9-6890acb87421"
      },
      "execution_count": 59,
      "outputs": [
        {
          "output_type": "stream",
          "name": "stdout",
          "text": [
            "0.562500 with: {'C': 0.001, 'gamma': 0.1, 'kernel': 'rbf'}\n",
            "0.562500 with: {'C': 0.001, 'gamma': 1, 'kernel': 'rbf'}\n",
            "0.375000 with: {'C': 0.001, 'gamma': 10, 'kernel': 'rbf'}\n",
            "0.562500 with: {'C': 0.01, 'gamma': 0.1, 'kernel': 'rbf'}\n",
            "0.562500 with: {'C': 0.01, 'gamma': 1, 'kernel': 'rbf'}\n",
            "0.375000 with: {'C': 0.01, 'gamma': 10, 'kernel': 'rbf'}\n",
            "0.750000 with: {'C': 1, 'gamma': 0.1, 'kernel': 'rbf'}\n",
            "0.812500 with: {'C': 1, 'gamma': 1, 'kernel': 'rbf'}\n",
            "0.437500 with: {'C': 1, 'gamma': 10, 'kernel': 'rbf'}\n",
            "0.875000 with: {'C': 10, 'gamma': 0.1, 'kernel': 'rbf'}\n",
            "0.812500 with: {'C': 10, 'gamma': 1, 'kernel': 'rbf'}\n",
            "0.437500 with: {'C': 10, 'gamma': 10, 'kernel': 'rbf'}\n",
            "0.812500 with: {'C': 100, 'gamma': 0.1, 'kernel': 'rbf'}\n",
            "0.812500 with: {'C': 100, 'gamma': 1, 'kernel': 'rbf'}\n",
            "0.437500 with: {'C': 100, 'gamma': 10, 'kernel': 'rbf'}\n"
          ]
        }
      ]
    },
    {
      "cell_type": "code",
      "source": [
        "test_grid = dict(kernel = [grid_result.best_params_['kernel']], C = [grid_result.best_params_['C']], gamma = [grid_result.best_params_['gamma']])\n",
        "test_grid_search = GridSearchCV(estimator=SVC(), param_grid=test_grid, n_jobs=-1, cv=2, scoring='accuracy',error_score=0)\n",
        "test_grid_result = test_grid_search.fit(Validation[[\"Sepal Length\",\"Sepal Width\",\"Petal Length\",\"Petal Width\"]], Validation[[\"Species\"]])\n",
        "pred_test = test_grid_result.predict(Test[[\"Sepal Length\",\"Sepal Width\",\"Petal Length\",\"Petal Width\"]])\n",
        "print(\"Accuracy on best parameters from RBF kernel: \",test_grid_result.score(Test[[\"Sepal Length\",\"Sepal Width\",\"Petal Length\",\"Petal Width\"]], Test[[\"Species\"]]))"
      ],
      "metadata": {
        "colab": {
          "base_uri": "https://localhost:8080/"
        },
        "id": "iJzqoYZmYfDz",
        "outputId": "7fc11336-a748-486f-a8df-00b09f359572"
      },
      "execution_count": 60,
      "outputs": [
        {
          "output_type": "stream",
          "name": "stdout",
          "text": [
            "Accuracy on best parameters from RBF kernel:  1.0\n"
          ]
        },
        {
          "output_type": "stream",
          "name": "stderr",
          "text": [
            "/usr/local/lib/python3.7/dist-packages/sklearn/utils/validation.py:993: DataConversionWarning: A column-vector y was passed when a 1d array was expected. Please change the shape of y to (n_samples, ), for example using ravel().\n",
            "  y = column_or_1d(y, warn=True)\n"
          ]
        }
      ]
    },
    {
      "cell_type": "markdown",
      "source": [
        "**Accuracy-RBF Kernal**"
      ],
      "metadata": {
        "id": "B0BK0LQNYzaF"
      }
    },
    {
      "cell_type": "code",
      "source": [
        "plt.figure()\n",
        "plt.plot(rbf_grid['params'],rbf_grid['accuracy'])\n",
        "plt.xlim([0,1])\n",
        "plt.title(\"Accuracy vs hyperparameters for polynomial kernel\")"
      ],
      "metadata": {
        "colab": {
          "base_uri": "https://localhost:8080/",
          "height": 298
        },
        "id": "VHUvZ8jpYsur",
        "outputId": "4755c6bb-7801-4ebb-d109-1dbfeea10cdc"
      },
      "execution_count": 61,
      "outputs": [
        {
          "output_type": "execute_result",
          "data": {
            "text/plain": [
              "Text(0.5, 1.0, 'Accuracy vs hyperparameters for polynomial kernel')"
            ]
          },
          "metadata": {},
          "execution_count": 61
        },
        {
          "output_type": "display_data",
          "data": {
            "text/plain": [
              "<Figure size 432x288 with 1 Axes>"
            ],
            "image/png": "[encoded data removed]"
          },
          "metadata": {
            "needs_background": "light"
          }
        }
      ]
    },
    {
      "cell_type": "markdown",
      "source": [
        "**Confusion Matrix-RBF Kernal**"
      ],
      "metadata": {
        "id": "qQfU3-ZjY2--"
      }
    },
    {
      "cell_type": "code",
      "source": [
        "cm=confusion_matrix(Test[\"Species\"],pred_test)\n",
        "print(\"Confusion matrix :\\n\",cm)\n",
        "disp_rbf = ConfusionMatrixDisplay(cm)\n",
        "disp_rbf.plot()\n",
        "plt.show()"
      ],
      "metadata": {
        "colab": {
          "base_uri": "https://localhost:8080/",
          "height": 352
        },
        "id": "DNYrGLtMY14T",
        "outputId": "f8355001-c1be-4c9d-bbd2-6778439be013"
      },
      "execution_count": 62,
      "outputs": [
        {
          "output_type": "stream",
          "name": "stdout",
          "text": [
            "Confusion matrix :\n",
            " [[9 0 0]\n",
            " [0 4 0]\n",
            " [0 0 2]]\n"
          ]
        },
        {
          "output_type": "display_data",
          "data": {
            "text/plain": [
              "<Figure size 432x288 with 2 Axes>"
            ],
            "image/png": "[encoded data removed]"
          },
          "metadata": {
            "needs_background": "light"
          }
        }
      ]
    },
    {
      "cell_type": "markdown",
      "source": [
        "**Sensitivity and Specificity-RBF Kernal**"
      ],
      "metadata": {
        "id": "QPvFi4DHZktX"
      }
    },
    {
      "cell_type": "markdown",
      "source": [
        "For Setosa"
      ],
      "metadata": {
        "id": "Vibp5LdOZpal"
      }
    },
    {
      "cell_type": "code",
      "source": [
        "tp=cm[0,0]\n",
        "fn=cm[0,1]+cm[0,2]\n",
        "fp=cm[1,0]+cm[2,0]\n",
        "tn=cm[1,1]+cm[1,2]+cm[2,1]+cm[2,2]"
      ],
      "metadata": {
        "id": "zr1Jqww3ZgBC"
      },
      "execution_count": 63,
      "outputs": []
    },
    {
      "cell_type": "code",
      "source": [
        "sensitivity = tp/(tp+fn)\n",
        "print('Sensitivity for Setosa: ', sensitivity )\n",
        "\n",
        "specificity = tn/(tn+fp)\n",
        "print('Specificity for Setosa : ', specificity)"
      ],
      "metadata": {
        "colab": {
          "base_uri": "https://localhost:8080/"
        },
        "id": "4p3vO9fTZqz6",
        "outputId": "7f89bc6d-3006-4cee-f318-8d13a0e9bf03"
      },
      "execution_count": 64,
      "outputs": [
        {
          "output_type": "stream",
          "name": "stdout",
          "text": [
            "Sensitivity for Setosa:  1.0\n",
            "Specificity for Setosa :  1.0\n"
          ]
        }
      ]
    },
    {
      "cell_type": "markdown",
      "source": [
        "For Versicolor"
      ],
      "metadata": {
        "id": "sZdvU24RZsRl"
      }
    },
    {
      "cell_type": "code",
      "source": [
        "tp=cm[1,1]\n",
        "fn=cm[1,0]+cm[1,2]\n",
        "fp=cm[0,1]+cm[2,1]\n",
        "tn=cm[0,0]+cm[0,2]+cm[2,0]+cm[2,2]"
      ],
      "metadata": {
        "id": "4PpCXQERZvrN"
      },
      "execution_count": 65,
      "outputs": []
    },
    {
      "cell_type": "code",
      "source": [
        "sensitivity = tp/(tp+fn)\n",
        "print('Sensitivity for Versicolor: ', sensitivity )\n",
        "\n",
        "specificity = tn/(tn+fp)\n",
        "print('Specificity for Versicolor : ', specificity)"
      ],
      "metadata": {
        "colab": {
          "base_uri": "https://localhost:8080/"
        },
        "id": "V2_xsjAdZraq",
        "outputId": "26889d5e-1a84-47d2-c98a-f14a26737d7b"
      },
      "execution_count": 66,
      "outputs": [
        {
          "output_type": "stream",
          "name": "stdout",
          "text": [
            "Sensitivity for Versicolor:  1.0\n",
            "Specificity for Versicolor :  1.0\n"
          ]
        }
      ]
    },
    {
      "cell_type": "markdown",
      "source": [
        "For Virginia"
      ],
      "metadata": {
        "id": "qOFU0l0VZwBF"
      }
    },
    {
      "cell_type": "code",
      "source": [
        "tp=cm[2,2]\n",
        "fn=cm[2,0]+cm[2,1]\n",
        "fp=cm[0,2]+cm[1,2]\n",
        "tn=cm[0,0]+cm[0,1]+cm[1,0]+cm[1,1]"
      ],
      "metadata": {
        "id": "biQqDB2IZzTM"
      },
      "execution_count": 67,
      "outputs": []
    },
    {
      "cell_type": "code",
      "source": [
        "sensitivity = tp/(tp+fn)\n",
        "print('Sensitivity for Virginia: ', sensitivity )\n",
        "\n",
        "specificity = tn/(tn+fp)\n",
        "print('Specificity for Virginia : ', specificity)"
      ],
      "metadata": {
        "colab": {
          "base_uri": "https://localhost:8080/"
        },
        "id": "mh9Azv2WZz7t",
        "outputId": "cb69e4d4-6475-4a67-aed2-56b9cee7255e"
      },
      "execution_count": 68,
      "outputs": [
        {
          "output_type": "stream",
          "name": "stdout",
          "text": [
            "Sensitivity for Virginia:  1.0\n",
            "Specificity for Virginia :  1.0\n"
          ]
        }
      ]
    }
  ]
}