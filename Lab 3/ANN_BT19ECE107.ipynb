{
  "nbformat": 4,
  "nbformat_minor": 0,
  "metadata": {
    "colab": {
      "provenance": []
    },
    "kernelspec": {
      "name": "python3",
      "display_name": "Python 3"
    },
    "language_info": {
      "name": "python"
    }
  },
  "cells": [
    {
      "cell_type": "markdown",
      "source": [
        "## **Importing the Dataset**"
      ],
      "metadata": {
        "id": "sc3DH0hJisRS"
      }
    },
    {
      "cell_type": "code",
      "execution_count": 1,
      "metadata": {
        "colab": {
          "base_uri": "https://localhost:8080/"
        },
        "id": "O2XBCjo8vrrY",
        "outputId": "a365a0fa-d737-4e22-f33b-56d24b1b8c35"
      },
      "outputs": [
        {
          "output_type": "stream",
          "name": "stdout",
          "text": [
            "Mounted at /content/gdrive\n"
          ]
        }
      ],
      "source": [
        "from google.colab import drive\n",
        "drive.mount('/content/gdrive')"
      ]
    },
    {
      "cell_type": "code",
      "source": [
        "%cd 'gdrive/MyDrive/ML Lab Datasets'"
      ],
      "metadata": {
        "colab": {
          "base_uri": "https://localhost:8080/"
        },
        "id": "-ben2b1dxHWV",
        "outputId": "63aa4beb-22f9-45eb-b03b-46bdeeb29b8a"
      },
      "execution_count": 2,
      "outputs": [
        {
          "output_type": "stream",
          "name": "stdout",
          "text": [
            "/content/gdrive/MyDrive/ML Lab Datasets\n"
          ]
        }
      ]
    },
    {
      "cell_type": "markdown",
      "source": [
        "# **Importing Libraries**"
      ],
      "metadata": {
        "id": "xTrbYci7i5-8"
      }
    },
    {
      "cell_type": "code",
      "source": [
        "!pip install scikit-plot"
      ],
      "metadata": {
        "colab": {
          "base_uri": "https://localhost:8080/"
        },
        "id": "m_w4GdENiVSJ",
        "outputId": "96461931-33a2-4b36-881d-83623c6988ec"
      },
      "execution_count": 3,
      "outputs": [
        {
          "output_type": "stream",
          "name": "stdout",
          "text": [
            "Looking in indexes: https://pypi.org/simple, https://us-python.pkg.dev/colab-wheels/public/simple/\n",
            "Collecting scikit-plot\n",
            "  Downloading scikit_plot-0.3.7-py3-none-any.whl (33 kB)\n",
            "Requirement already satisfied: matplotlib>=1.4.0 in /usr/local/lib/python3.7/dist-packages (from scikit-plot) (3.2.2)\n",
            "Requirement already satisfied: scikit-learn>=0.18 in /usr/local/lib/python3.7/dist-packages (from scikit-plot) (1.0.2)\n",
            "Requirement already satisfied: scipy>=0.9 in /usr/local/lib/python3.7/dist-packages (from scikit-plot) (1.7.3)\n",
            "Requirement already satisfied: joblib>=0.10 in /usr/local/lib/python3.7/dist-packages (from scikit-plot) (1.1.0)\n",
            "Requirement already satisfied: cycler>=0.10 in /usr/local/lib/python3.7/dist-packages (from matplotlib>=1.4.0->scikit-plot) (0.11.0)\n",
            "Requirement already satisfied: numpy>=1.11 in /usr/local/lib/python3.7/dist-packages (from matplotlib>=1.4.0->scikit-plot) (1.21.6)\n",
            "Requirement already satisfied: python-dateutil>=2.1 in /usr/local/lib/python3.7/dist-packages (from matplotlib>=1.4.0->scikit-plot) (2.8.2)\n",
            "Requirement already satisfied: kiwisolver>=1.0.1 in /usr/local/lib/python3.7/dist-packages (from matplotlib>=1.4.0->scikit-plot) (1.4.4)\n",
            "Requirement already satisfied: pyparsing!=2.0.4,!=2.1.2,!=2.1.6,>=2.0.1 in /usr/local/lib/python3.7/dist-packages (from matplotlib>=1.4.0->scikit-plot) (3.0.9)\n",
            "Requirement already satisfied: typing-extensions in /usr/local/lib/python3.7/dist-packages (from kiwisolver>=1.0.1->matplotlib>=1.4.0->scikit-plot) (4.1.1)\n",
            "Requirement already satisfied: six>=1.5 in /usr/local/lib/python3.7/dist-packages (from python-dateutil>=2.1->matplotlib>=1.4.0->scikit-plot) (1.15.0)\n",
            "Requirement already satisfied: threadpoolctl>=2.0.0 in /usr/local/lib/python3.7/dist-packages (from scikit-learn>=0.18->scikit-plot) (3.1.0)\n",
            "Installing collected packages: scikit-plot\n",
            "Successfully installed scikit-plot-0.3.7\n"
          ]
        }
      ]
    },
    {
      "cell_type": "code",
      "source": [
        "import numpy as np\n",
        "import matplotlib.pyplot as plt\n",
        "import pandas as pd\n",
        "import scipy.io\n",
        "from scipy.io import loadmat\n",
        "from sklearn.model_selection import train_test_split\n",
        "from sklearn.metrics import accuracy_score,confusion_matrix,ConfusionMatrixDisplay\n",
        "import tensorflow as tf\n",
        "import torch\n",
        "from torch import nn\n",
        "from torch.utils.data import DataLoader\n",
        "from torchvision import datasets,transforms\n",
        "from torch import optim\n",
        "from tqdm import tqdm\n",
        "import random\n",
        "import math\n",
        "from sklearn.metrics import roc_curve, roc_auc_score \n",
        "import scikitplot as skplt\n",
        "from sklearn.svm import SVC\n",
        "from sklearn.metrics import RocCurveDisplay"
      ],
      "metadata": {
        "id": "McbLo-QkxVA_"
      },
      "execution_count": 30,
      "outputs": []
    },
    {
      "cell_type": "markdown",
      "source": [
        "# Loading Data and Preprocessing"
      ],
      "metadata": {
        "id": "yVygeS33i-DA"
      }
    },
    {
      "cell_type": "code",
      "source": [
        "data=loadmat('Matlab_cancer.mat')"
      ],
      "metadata": {
        "id": "TKOQ3BjFzIlU"
      },
      "execution_count": 31,
      "outputs": []
    },
    {
      "cell_type": "code",
      "source": [
        "device='cuda' if torch.cuda.is_available() else 'cpu'\n",
        "print(f\"Using {device} device\")"
      ],
      "metadata": {
        "colab": {
          "base_uri": "https://localhost:8080/"
        },
        "id": "xzzTDsJKzOic",
        "outputId": "8a99d654-5188-4a61-d25c-e7287ef95f37"
      },
      "execution_count": 32,
      "outputs": [
        {
          "output_type": "stream",
          "name": "stdout",
          "text": [
            "Using cpu device\n"
          ]
        }
      ]
    },
    {
      "cell_type": "code",
      "source": [
        "data_x=data['x']\n",
        "data_y=data['t']"
      ],
      "metadata": {
        "id": "RJi_oolczdlf"
      },
      "execution_count": 33,
      "outputs": []
    },
    {
      "cell_type": "code",
      "source": [
        "data_x"
      ],
      "metadata": {
        "colab": {
          "base_uri": "https://localhost:8080/"
        },
        "id": "5QlxxciPziqm",
        "outputId": "8fd3043d-a925-4c64-8aa2-552b1db88a74"
      },
      "execution_count": 34,
      "outputs": [
        {
          "output_type": "execute_result",
          "data": {
            "text/plain": [
              "array([[0.46290091, 0.37056537, 0.46155037, ..., 0.58252595, 0.63768441,\n",
              "        0.52859127],\n",
              "       [0.40673611, 0.30643103, 0.27898015, ..., 0.4498    , 0.49972172,\n",
              "        0.45315089],\n",
              "       [0.30621525, 0.23971475, 0.20660846, ..., 0.34488742, 0.33761557,\n",
              "        0.41943002],\n",
              "       ...,\n",
              "       [0.08009822, 0.23816822, 0.23361855, ..., 0.15979104, 0.13400809,\n",
              "        0.1597645 ],\n",
              "       [0.14462108, 0.18637254, 0.17546801, ..., 0.10701832, 0.1389127 ,\n",
              "        0.29903768],\n",
              "       [0.10640488, 0.12637318, 0.0999025 , ..., 0.17790702, 0.177601  ,\n",
              "        0.17012326]])"
            ]
          },
          "metadata": {},
          "execution_count": 34
        }
      ]
    },
    {
      "cell_type": "code",
      "source": [
        "data_x=np.transpose(data_x)"
      ],
      "metadata": {
        "id": "k6APWRQ_0Cyq"
      },
      "execution_count": 35,
      "outputs": []
    },
    {
      "cell_type": "code",
      "source": [
        "np.transpose(data_y)"
      ],
      "metadata": {
        "colab": {
          "base_uri": "https://localhost:8080/"
        },
        "id": "QJ7lpdpg0PDP",
        "outputId": "d1607981-d86e-4c4d-e5b3-4b8210fdeb8c"
      },
      "execution_count": 36,
      "outputs": [
        {
          "output_type": "execute_result",
          "data": {
            "text/plain": [
              "array([[1, 0],\n",
              "       [1, 0],\n",
              "       [1, 0],\n",
              "       [1, 0],\n",
              "       [1, 0],\n",
              "       [1, 0],\n",
              "       [1, 0],\n",
              "       [1, 0],\n",
              "       [1, 0],\n",
              "       [1, 0],\n",
              "       [1, 0],\n",
              "       [1, 0],\n",
              "       [1, 0],\n",
              "       [1, 0],\n",
              "       [1, 0],\n",
              "       [1, 0],\n",
              "       [1, 0],\n",
              "       [1, 0],\n",
              "       [1, 0],\n",
              "       [1, 0],\n",
              "       [1, 0],\n",
              "       [1, 0],\n",
              "       [1, 0],\n",
              "       [1, 0],\n",
              "       [1, 0],\n",
              "       [1, 0],\n",
              "       [1, 0],\n",
              "       [1, 0],\n",
              "       [1, 0],\n",
              "       [1, 0],\n",
              "       [1, 0],\n",
              "       [1, 0],\n",
              "       [1, 0],\n",
              "       [1, 0],\n",
              "       [1, 0],\n",
              "       [1, 0],\n",
              "       [1, 0],\n",
              "       [1, 0],\n",
              "       [1, 0],\n",
              "       [1, 0],\n",
              "       [1, 0],\n",
              "       [1, 0],\n",
              "       [1, 0],\n",
              "       [1, 0],\n",
              "       [1, 0],\n",
              "       [1, 0],\n",
              "       [1, 0],\n",
              "       [1, 0],\n",
              "       [1, 0],\n",
              "       [1, 0],\n",
              "       [1, 0],\n",
              "       [1, 0],\n",
              "       [1, 0],\n",
              "       [1, 0],\n",
              "       [1, 0],\n",
              "       [1, 0],\n",
              "       [1, 0],\n",
              "       [1, 0],\n",
              "       [1, 0],\n",
              "       [1, 0],\n",
              "       [1, 0],\n",
              "       [1, 0],\n",
              "       [1, 0],\n",
              "       [1, 0],\n",
              "       [1, 0],\n",
              "       [1, 0],\n",
              "       [1, 0],\n",
              "       [1, 0],\n",
              "       [1, 0],\n",
              "       [1, 0],\n",
              "       [1, 0],\n",
              "       [1, 0],\n",
              "       [1, 0],\n",
              "       [1, 0],\n",
              "       [1, 0],\n",
              "       [1, 0],\n",
              "       [1, 0],\n",
              "       [1, 0],\n",
              "       [1, 0],\n",
              "       [1, 0],\n",
              "       [1, 0],\n",
              "       [1, 0],\n",
              "       [1, 0],\n",
              "       [1, 0],\n",
              "       [1, 0],\n",
              "       [1, 0],\n",
              "       [1, 0],\n",
              "       [1, 0],\n",
              "       [1, 0],\n",
              "       [1, 0],\n",
              "       [1, 0],\n",
              "       [1, 0],\n",
              "       [1, 0],\n",
              "       [1, 0],\n",
              "       [1, 0],\n",
              "       [1, 0],\n",
              "       [1, 0],\n",
              "       [1, 0],\n",
              "       [1, 0],\n",
              "       [1, 0],\n",
              "       [1, 0],\n",
              "       [1, 0],\n",
              "       [1, 0],\n",
              "       [1, 0],\n",
              "       [1, 0],\n",
              "       [1, 0],\n",
              "       [1, 0],\n",
              "       [1, 0],\n",
              "       [1, 0],\n",
              "       [1, 0],\n",
              "       [1, 0],\n",
              "       [1, 0],\n",
              "       [1, 0],\n",
              "       [1, 0],\n",
              "       [1, 0],\n",
              "       [1, 0],\n",
              "       [1, 0],\n",
              "       [1, 0],\n",
              "       [1, 0],\n",
              "       [1, 0],\n",
              "       [1, 0],\n",
              "       [0, 1],\n",
              "       [0, 1],\n",
              "       [0, 1],\n",
              "       [0, 1],\n",
              "       [0, 1],\n",
              "       [0, 1],\n",
              "       [0, 1],\n",
              "       [0, 1],\n",
              "       [0, 1],\n",
              "       [0, 1],\n",
              "       [0, 1],\n",
              "       [0, 1],\n",
              "       [0, 1],\n",
              "       [0, 1],\n",
              "       [0, 1],\n",
              "       [0, 1],\n",
              "       [0, 1],\n",
              "       [0, 1],\n",
              "       [0, 1],\n",
              "       [0, 1],\n",
              "       [0, 1],\n",
              "       [0, 1],\n",
              "       [0, 1],\n",
              "       [0, 1],\n",
              "       [0, 1],\n",
              "       [0, 1],\n",
              "       [0, 1],\n",
              "       [0, 1],\n",
              "       [0, 1],\n",
              "       [0, 1],\n",
              "       [0, 1],\n",
              "       [0, 1],\n",
              "       [0, 1],\n",
              "       [0, 1],\n",
              "       [0, 1],\n",
              "       [0, 1],\n",
              "       [0, 1],\n",
              "       [0, 1],\n",
              "       [0, 1],\n",
              "       [0, 1],\n",
              "       [0, 1],\n",
              "       [0, 1],\n",
              "       [0, 1],\n",
              "       [0, 1],\n",
              "       [0, 1],\n",
              "       [0, 1],\n",
              "       [0, 1],\n",
              "       [0, 1],\n",
              "       [0, 1],\n",
              "       [0, 1],\n",
              "       [0, 1],\n",
              "       [0, 1],\n",
              "       [0, 1],\n",
              "       [0, 1],\n",
              "       [0, 1],\n",
              "       [0, 1],\n",
              "       [0, 1],\n",
              "       [0, 1],\n",
              "       [0, 1],\n",
              "       [0, 1],\n",
              "       [0, 1],\n",
              "       [0, 1],\n",
              "       [0, 1],\n",
              "       [0, 1],\n",
              "       [0, 1],\n",
              "       [0, 1],\n",
              "       [0, 1],\n",
              "       [0, 1],\n",
              "       [0, 1],\n",
              "       [0, 1],\n",
              "       [0, 1],\n",
              "       [0, 1],\n",
              "       [0, 1],\n",
              "       [0, 1],\n",
              "       [0, 1],\n",
              "       [0, 1],\n",
              "       [0, 1],\n",
              "       [0, 1],\n",
              "       [0, 1],\n",
              "       [0, 1],\n",
              "       [0, 1],\n",
              "       [0, 1],\n",
              "       [0, 1],\n",
              "       [0, 1],\n",
              "       [0, 1],\n",
              "       [0, 1],\n",
              "       [0, 1],\n",
              "       [0, 1],\n",
              "       [0, 1],\n",
              "       [0, 1],\n",
              "       [0, 1],\n",
              "       [0, 1],\n",
              "       [0, 1],\n",
              "       [0, 1],\n",
              "       [0, 1]], dtype=uint8)"
            ]
          },
          "metadata": {},
          "execution_count": 36
        }
      ]
    },
    {
      "cell_type": "code",
      "source": [
        "data_y=data_y[0]"
      ],
      "metadata": {
        "id": "61Yk7Faf0SK1"
      },
      "execution_count": 37,
      "outputs": []
    },
    {
      "cell_type": "code",
      "source": [
        "data_x.shape"
      ],
      "metadata": {
        "colab": {
          "base_uri": "https://localhost:8080/"
        },
        "id": "BC0LQ3XA0Y9_",
        "outputId": "f2487c5c-049c-420d-b87d-e96bf7b48440"
      },
      "execution_count": 38,
      "outputs": [
        {
          "output_type": "execute_result",
          "data": {
            "text/plain": [
              "(216, 100)"
            ]
          },
          "metadata": {},
          "execution_count": 38
        }
      ]
    },
    {
      "cell_type": "code",
      "source": [
        "data_y.shape"
      ],
      "metadata": {
        "colab": {
          "base_uri": "https://localhost:8080/"
        },
        "id": "-DExPQSO0c0R",
        "outputId": "c9233624-35a2-417c-d3d0-3a470f9e854d"
      },
      "execution_count": 39,
      "outputs": [
        {
          "output_type": "execute_result",
          "data": {
            "text/plain": [
              "(216,)"
            ]
          },
          "metadata": {},
          "execution_count": 39
        }
      ]
    },
    {
      "cell_type": "markdown",
      "source": [
        "# **Splitting Data into Testing, training and Validation sets**"
      ],
      "metadata": {
        "id": "erePz88ajD95"
      }
    },
    {
      "cell_type": "code",
      "source": [
        "train_x,test_x,train_y,test_y=train_test_split(data_x,data_y,train_size=0.8,shuffle=True,random_state=0)\n",
        "train_x,validation_x,train_y,validation_y=train_test_split(data_x,data_y,train_size=0.8,shuffle=True,random_state=0)"
      ],
      "metadata": {
        "id": "xpD1RVt30fCL"
      },
      "execution_count": 40,
      "outputs": []
    },
    {
      "cell_type": "code",
      "source": [
        "train_x.shape,test_x.shape, validation_x.shape"
      ],
      "metadata": {
        "colab": {
          "base_uri": "https://localhost:8080/"
        },
        "id": "hbeyZel61lZj",
        "outputId": "a60181a3-d51d-4057-c17b-2fc3ae45c450"
      },
      "execution_count": 41,
      "outputs": [
        {
          "output_type": "execute_result",
          "data": {
            "text/plain": [
              "((172, 100), (44, 100), (44, 100))"
            ]
          },
          "metadata": {},
          "execution_count": 41
        }
      ]
    },
    {
      "cell_type": "code",
      "source": [
        "train_y.shape,test_y.shape, validation_y.shape"
      ],
      "metadata": {
        "colab": {
          "base_uri": "https://localhost:8080/"
        },
        "id": "ZX7BdFJ71woz",
        "outputId": "180b3d27-b44e-4b1f-92b2-595d4e8064d7"
      },
      "execution_count": 42,
      "outputs": [
        {
          "output_type": "execute_result",
          "data": {
            "text/plain": [
              "((172,), (44,), (44,))"
            ]
          },
          "metadata": {},
          "execution_count": 42
        }
      ]
    },
    {
      "cell_type": "code",
      "source": [
        "class ArtificialNeuralNetwork1(nn.Module):\n",
        "  def __init__(self):\n",
        "    super(ArtificialNeuralNetwork1,self).__init__()\n",
        "    self.linear_relu_stack=nn.Sequential(\n",
        "        nn.Linear(100,512),\n",
        "        nn.ReLU(),\n",
        "        nn.Linear(512,512),\n",
        "        nn.ReLU(),\n",
        "        nn.Linear(512,1)\n",
        "    )\n",
        "\n",
        "  def forward(self,x):\n",
        "    logits=self.linear_relu_stack(x)\n",
        "    logits=torch.sigmoid(logits)\n",
        "    return logits"
      ],
      "metadata": {
        "id": "OqKW_EWx16Im"
      },
      "execution_count": 43,
      "outputs": []
    },
    {
      "cell_type": "code",
      "source": [
        "class ArtificialNeuralNetwork2(nn.Module):\n",
        "  def __init__(self):\n",
        "    super(ArtificialNeuralNetwork2,self).__init__()\n",
        "    self.linear_relu_stack=nn.Sequential(\n",
        "        nn.Linear(100,256),\n",
        "        nn.ReLU(),\n",
        "        nn.Linear(256,256),\n",
        "        nn.ReLU(),\n",
        "        nn.Linear(256,1)\n",
        "    )\n",
        "\n",
        "  def forward(self,x):\n",
        "    logits=self.linear_relu_stack(x)\n",
        "    logits=torch.sigmoid(logits)\n",
        "    return logits"
      ],
      "metadata": {
        "id": "1Zj1DLGu-Mq-"
      },
      "execution_count": 44,
      "outputs": []
    },
    {
      "cell_type": "code",
      "source": [
        "train_x=torch.from_numpy(train_x.astype(np.float32))\n",
        "test_x=torch.from_numpy(test_x.astype(np.float32))\n",
        "train_y=torch.from_numpy(train_y.astype(np.float32))\n",
        "test_y=torch.from_numpy(test_y.astype(np.float32))"
      ],
      "metadata": {
        "id": "fYH7kc4B4QyH"
      },
      "execution_count": 45,
      "outputs": []
    },
    {
      "cell_type": "code",
      "source": [
        "train_y=train_y.view(train_y.shape[0],1)\n",
        "test_y=test_y.view(test_y.shape[0],1)"
      ],
      "metadata": {
        "id": "UhENKVyA5ob6"
      },
      "execution_count": 46,
      "outputs": []
    },
    {
      "cell_type": "code",
      "source": [
        "train_x.shape,test_x.shape, validation_x.shape"
      ],
      "metadata": {
        "colab": {
          "base_uri": "https://localhost:8080/"
        },
        "id": "nrLZBNHP6L0X",
        "outputId": "a3a68fe9-95aa-49c3-ab7f-8329936282c1"
      },
      "execution_count": 47,
      "outputs": [
        {
          "output_type": "execute_result",
          "data": {
            "text/plain": [
              "(torch.Size([172, 100]), torch.Size([44, 100]), (44, 100))"
            ]
          },
          "metadata": {},
          "execution_count": 47
        }
      ]
    },
    {
      "cell_type": "code",
      "source": [
        "train_y.shape,test_y.shape, validation_y.shape"
      ],
      "metadata": {
        "colab": {
          "base_uri": "https://localhost:8080/"
        },
        "id": "ybSEFjaz6STn",
        "outputId": "b3334e8b-4971-46c3-9de4-519ee3f7975d"
      },
      "execution_count": 48,
      "outputs": [
        {
          "output_type": "execute_result",
          "data": {
            "text/plain": [
              "(torch.Size([172, 1]), torch.Size([44, 1]), (44,))"
            ]
          },
          "metadata": {},
          "execution_count": 48
        }
      ]
    },
    {
      "cell_type": "code",
      "source": [
        "train_dataloader=DataLoader(train_x,batch_size=4,shuffle=True)\n",
        "test_dataloader=DataLoader(test_x,batch_size=4,shuffle=True)"
      ],
      "metadata": {
        "id": "he51IIhG6jv7"
      },
      "execution_count": 49,
      "outputs": []
    },
    {
      "cell_type": "markdown",
      "source": [
        "## **Model 1**"
      ],
      "metadata": {
        "id": "IgPPmb1njQkB"
      }
    },
    {
      "cell_type": "code",
      "source": [
        "model=ArtificialNeuralNetwork1()\n",
        "epochs_num=20\n",
        "criterion = nn.BCELoss()\n",
        "learning_rate = 0.001\n",
        "optimizer = optim.Adam(model.parameters(), lr=learning_rate)"
      ],
      "metadata": {
        "id": "lbl0dYSG7OsC"
      },
      "execution_count": 50,
      "outputs": []
    },
    {
      "cell_type": "code",
      "source": [
        "train_accuracy= []\n",
        "for epoch in range(epochs_num):\n",
        "    y_pred = model(train_x)\n",
        "    loss = criterion(y_pred, train_y)\n",
        "    y_predicted_cls = y_pred.round()\n",
        "    acc = y_predicted_cls.eq(train_y).sum() / float(train_y.shape[0])\n",
        "    \n",
        "    train_accuracy.append(acc)\n",
        "\n",
        "    loss.backward()\n",
        "    optimizer.step()\n",
        "\n",
        "    optimizer.zero_grad()\n",
        "\n",
        "    print(f'epoch: {epoch+1}, loss = {loss.item():.4f}, accuracy = {acc}')"
      ],
      "metadata": {
        "colab": {
          "base_uri": "https://localhost:8080/"
        },
        "id": "RDUmv8PV8LnE",
        "outputId": "e666e324-87b3-4c04-8267-fd097728ebe0"
      },
      "execution_count": 51,
      "outputs": [
        {
          "output_type": "stream",
          "name": "stdout",
          "text": [
            "epoch: 1, loss = 0.6962, accuracy = 0.4244185984134674\n",
            "epoch: 2, loss = 0.5958, accuracy = 0.819767415523529\n",
            "epoch: 3, loss = 0.5192, accuracy = 0.8604651093482971\n",
            "epoch: 4, loss = 0.4511, accuracy = 0.8662790656089783\n",
            "epoch: 5, loss = 0.3929, accuracy = 0.8779069781303406\n",
            "epoch: 6, loss = 0.3466, accuracy = 0.8779069781303406\n",
            "epoch: 7, loss = 0.3130, accuracy = 0.8662790656089783\n",
            "epoch: 8, loss = 0.2908, accuracy = 0.854651153087616\n",
            "epoch: 9, loss = 0.2775, accuracy = 0.8662790656089783\n",
            "epoch: 10, loss = 0.2702, accuracy = 0.8720930218696594\n",
            "epoch: 11, loss = 0.2660, accuracy = 0.8720930218696594\n",
            "epoch: 12, loss = 0.2623, accuracy = 0.8720930218696594\n",
            "epoch: 13, loss = 0.2582, accuracy = 0.8837209343910217\n",
            "epoch: 14, loss = 0.2532, accuracy = 0.8895348906517029\n",
            "epoch: 15, loss = 0.2468, accuracy = 0.9011628031730652\n",
            "epoch: 16, loss = 0.2391, accuracy = 0.9011628031730652\n",
            "epoch: 17, loss = 0.2306, accuracy = 0.9011628031730652\n",
            "epoch: 18, loss = 0.2216, accuracy = 0.9069767594337463\n",
            "epoch: 19, loss = 0.2123, accuracy = 0.9127907156944275\n",
            "epoch: 20, loss = 0.2031, accuracy = 0.9186046719551086\n"
          ]
        }
      ]
    },
    {
      "cell_type": "markdown",
      "source": [
        "Accuracy of Model-1"
      ],
      "metadata": {
        "id": "ftwXz4y6jTdA"
      }
    },
    {
      "cell_type": "code",
      "source": [
        "with torch.no_grad():\n",
        "    y_predicted = model(test_x)\n",
        "    y_predicted_cls = y_predicted.round()\n",
        "    acc = y_predicted_cls.eq(test_y).sum() / float(test_y.shape[0])\n",
        "    print(f'accuracy: {acc.item():.4f}')"
      ],
      "metadata": {
        "colab": {
          "base_uri": "https://localhost:8080/"
        },
        "id": "eMhebdPK8bBR",
        "outputId": "6a1c2a79-c69b-49c6-f00f-cead5bbf5d91"
      },
      "execution_count": 52,
      "outputs": [
        {
          "output_type": "stream",
          "name": "stdout",
          "text": [
            "accuracy: 0.9318\n"
          ]
        }
      ]
    },
    {
      "cell_type": "markdown",
      "source": [
        "**Confusion Matrix, Specificity and Sensitivity of Model-1**"
      ],
      "metadata": {
        "id": "izUR3h3gjWuo"
      }
    },
    {
      "cell_type": "code",
      "source": [
        "cm = confusion_matrix(test_y, y_predicted.round())\n",
        "disp_rbf = ConfusionMatrixDisplay(cm)\n",
        "disp_rbf.plot()\n",
        "plt.show()\n",
        "\n",
        "sensitivity = cm[0,0]/(cm[0,0]+cm[0,1])\n",
        "print('Sensitivity : ', sensitivity )\n",
        "\n",
        "specificity = cm[1,1]/(cm[1,0]+cm[1,1])\n",
        "print('Specificity : ', specificity)"
      ],
      "metadata": {
        "colab": {
          "base_uri": "https://localhost:8080/",
          "height": 314
        },
        "id": "Kj1W249r8fEU",
        "outputId": "afbe2552-de64-463f-bfb9-9a12f5245527"
      },
      "execution_count": 53,
      "outputs": [
        {
          "output_type": "display_data",
          "data": {
            "text/plain": [
              "<Figure size 432x288 with 2 Axes>"
            ],
            "image/png": "[encoded data removed]"
          },
          "metadata": {
            "needs_background": "light"
          }
        },
        {
          "output_type": "stream",
          "name": "stdout",
          "text": [
            "Sensitivity :  0.9090909090909091\n",
            "Specificity :  0.9545454545454546\n"
          ]
        }
      ]
    },
    {
      "cell_type": "markdown",
      "source": [
        "**Accuracy-Model1**"
      ],
      "metadata": {
        "id": "SP6e4rnrjd9_"
      }
    },
    {
      "cell_type": "code",
      "source": [
        "plt.plot(train_accuracy)"
      ],
      "metadata": {
        "colab": {
          "base_uri": "https://localhost:8080/",
          "height": 282
        },
        "id": "LH89dvpT8ilQ",
        "outputId": "19e13612-9366-41cc-d576-a8c80c184307"
      },
      "execution_count": 54,
      "outputs": [
        {
          "output_type": "execute_result",
          "data": {
            "text/plain": [
              "[<matplotlib.lines.Line2D at 0x7fcc2882ae10>]"
            ]
          },
          "metadata": {},
          "execution_count": 54
        },
        {
          "output_type": "display_data",
          "data": {
            "text/plain": [
              "<Figure size 432x288 with 1 Axes>"
            ],
            "image/png": "[encoded data removed]"
          },
          "metadata": {
            "needs_background": "light"
          }
        }
      ]
    },
    {
      "cell_type": "markdown",
      "source": [
        "**AUROC Score-Model1**"
      ],
      "metadata": {
        "id": "6IoMr0mrjhQw"
      }
    },
    {
      "cell_type": "code",
      "source": [
        "print('AUROC Score: ',roc_auc_score(test_y, y_predicted.round()))"
      ],
      "metadata": {
        "colab": {
          "base_uri": "https://localhost:8080/"
        },
        "id": "9YnsQrqMdCQ2",
        "outputId": "37a032c7-4918-42c9-bfe2-184a1381b92c"
      },
      "execution_count": 55,
      "outputs": [
        {
          "output_type": "stream",
          "name": "stdout",
          "text": [
            "AUROC Score:  0.9318181818181819\n"
          ]
        }
      ]
    },
    {
      "cell_type": "markdown",
      "source": [
        "**ROC Curve**"
      ],
      "metadata": {
        "id": "arLKBCFNRbBx"
      }
    },
    {
      "cell_type": "code",
      "source": [
        "svc = SVC(random_state=42)\n",
        "svc.fit(train_x, train_y)\n",
        "\n",
        "svc_disp = RocCurveDisplay.from_estimator(svc, test_x, test_y)"
      ],
      "metadata": {
        "colab": {
          "base_uri": "https://localhost:8080/",
          "height": 334
        },
        "id": "xAioMq0dRm6H",
        "outputId": "c00bd02d-7818-49de-eef2-25726eb16347"
      },
      "execution_count": 57,
      "outputs": [
        {
          "output_type": "stream",
          "name": "stderr",
          "text": [
            "/usr/local/lib/python3.7/dist-packages/sklearn/utils/validation.py:993: DataConversionWarning: A column-vector y was passed when a 1d array was expected. Please change the shape of y to (n_samples, ), for example using ravel().\n",
            "  y = column_or_1d(y, warn=True)\n"
          ]
        },
        {
          "output_type": "display_data",
          "data": {
            "text/plain": [
              "<Figure size 432x288 with 1 Axes>"
            ],
            "image/png": "[encoded data removed]"
          },
          "metadata": {
            "needs_background": "light"
          }
        }
      ]
    },
    {
      "cell_type": "markdown",
      "source": [
        "# Model-2"
      ],
      "metadata": {
        "id": "JheVLX8RjtTI"
      }
    },
    {
      "cell_type": "code",
      "source": [
        "model=ArtificialNeuralNetwork2()\n",
        "epochs_num=20\n",
        "criterion = nn.BCELoss()\n",
        "learning_rate = 0.001\n",
        "optimizer = optim.Adam(model.parameters(), lr=learning_rate)"
      ],
      "metadata": {
        "id": "aWAe_Olr8kic"
      },
      "execution_count": 58,
      "outputs": []
    },
    {
      "cell_type": "code",
      "source": [
        "train_accuracy= []\n",
        "for epoch in range(epochs_num):\n",
        "    y_pred = model(train_x)\n",
        "    loss = criterion(y_pred, train_y)\n",
        "    y_predicted_cls = y_pred.round()\n",
        "    acc = y_predicted_cls.eq(train_y).sum() / float(train_y.shape[0])\n",
        "    \n",
        "    train_accuracy.append(acc)\n",
        "\n",
        "    loss.backward()\n",
        "    optimizer.step()\n",
        "\n",
        "    optimizer.zero_grad()\n",
        "\n",
        "    print(f'epoch: {epoch+1}, loss = {loss.item():.4f}, accuracy = {acc}')"
      ],
      "metadata": {
        "colab": {
          "base_uri": "https://localhost:8080/"
        },
        "id": "gbvTBt74-aUc",
        "outputId": "af862084-cbdc-4ec2-9c73-2979b3a414bd"
      },
      "execution_count": 59,
      "outputs": [
        {
          "output_type": "stream",
          "name": "stdout",
          "text": [
            "epoch: 1, loss = 0.6951, accuracy = 0.4360465109348297\n",
            "epoch: 2, loss = 0.6425, accuracy = 0.7790697813034058\n",
            "epoch: 3, loss = 0.5989, accuracy = 0.7906976938247681\n",
            "epoch: 4, loss = 0.5588, accuracy = 0.819767415523529\n",
            "epoch: 5, loss = 0.5199, accuracy = 0.8313953280448914\n",
            "epoch: 6, loss = 0.4821, accuracy = 0.8720930218696594\n",
            "epoch: 7, loss = 0.4456, accuracy = 0.8720930218696594\n",
            "epoch: 8, loss = 0.4109, accuracy = 0.8720930218696594\n",
            "epoch: 9, loss = 0.3787, accuracy = 0.8895348906517029\n",
            "epoch: 10, loss = 0.3502, accuracy = 0.8895348906517029\n",
            "epoch: 11, loss = 0.3259, accuracy = 0.8779069781303406\n",
            "epoch: 12, loss = 0.3061, accuracy = 0.8720930218696594\n",
            "epoch: 13, loss = 0.2905, accuracy = 0.8720930218696594\n",
            "epoch: 14, loss = 0.2788, accuracy = 0.8604651093482971\n",
            "epoch: 15, loss = 0.2705, accuracy = 0.8604651093482971\n",
            "epoch: 16, loss = 0.2644, accuracy = 0.8720930218696594\n",
            "epoch: 17, loss = 0.2598, accuracy = 0.8720930218696594\n",
            "epoch: 18, loss = 0.2561, accuracy = 0.8779069781303406\n",
            "epoch: 19, loss = 0.2527, accuracy = 0.8837209343910217\n",
            "epoch: 20, loss = 0.2492, accuracy = 0.8779069781303406\n"
          ]
        }
      ]
    },
    {
      "cell_type": "markdown",
      "source": [
        "Accuracy-Model 2"
      ],
      "metadata": {
        "id": "70B4u1UEjxc5"
      }
    },
    {
      "cell_type": "code",
      "source": [
        "with torch.no_grad():\n",
        "    y_predicted = model(test_x)\n",
        "    y_predicted_cls = y_predicted.round()\n",
        "    acc = y_predicted_cls.eq(test_y).sum() / float(test_y.shape[0])\n",
        "    print(f'accuracy: {acc.item():.4f}')"
      ],
      "metadata": {
        "colab": {
          "base_uri": "https://localhost:8080/"
        },
        "id": "YuDODx5O-lv5",
        "outputId": "0aaf9dba-bec8-44c6-bf9c-7d3b01afbfd5"
      },
      "execution_count": 60,
      "outputs": [
        {
          "output_type": "stream",
          "name": "stdout",
          "text": [
            "accuracy: 0.9091\n"
          ]
        }
      ]
    },
    {
      "cell_type": "markdown",
      "source": [
        "Confusion Matrix, Specificity and Sensitivity- Model 2"
      ],
      "metadata": {
        "id": "ygKpOBVlj5DM"
      }
    },
    {
      "cell_type": "code",
      "source": [
        "cm = confusion_matrix(test_y, y_predicted.round())\n",
        "disp_rbf = ConfusionMatrixDisplay(cm)\n",
        "disp_rbf.plot()\n",
        "plt.show()\n",
        "\n",
        "sensitivity = cm[0,0]/(cm[0,0]+cm[0,1])\n",
        "print('Sensitivity : ', sensitivity )\n",
        "\n",
        "specificity = cm[1,1]/(cm[1,0]+cm[1,1])\n",
        "print('Specificity : ', specificity)"
      ],
      "metadata": {
        "colab": {
          "base_uri": "https://localhost:8080/",
          "height": 318
        },
        "id": "2paMANBP-o7P",
        "outputId": "b31f47f0-4811-42f5-e54e-dcc0d9f1c66b"
      },
      "execution_count": 61,
      "outputs": [
        {
          "output_type": "display_data",
          "data": {
            "text/plain": [
              "<Figure size 432x288 with 2 Axes>"
            ],
            "image/png": "[encoded data removed]"
          },
          "metadata": {
            "needs_background": "light"
          }
        },
        {
          "output_type": "stream",
          "name": "stdout",
          "text": [
            "Sensitivity :  0.9090909090909091\n",
            "Specificity :  0.9090909090909091\n"
          ]
        }
      ]
    },
    {
      "cell_type": "markdown",
      "source": [
        "Accuracy-Model 2"
      ],
      "metadata": {
        "id": "bNuZESrpkEfS"
      }
    },
    {
      "cell_type": "code",
      "source": [
        "plt.plot(train_accuracy)"
      ],
      "metadata": {
        "colab": {
          "base_uri": "https://localhost:8080/",
          "height": 282
        },
        "id": "JKK9ycs6-y4k",
        "outputId": "97344973-6fdf-470e-b889-7bbb06d1581b"
      },
      "execution_count": 62,
      "outputs": [
        {
          "output_type": "execute_result",
          "data": {
            "text/plain": [
              "[<matplotlib.lines.Line2D at 0x7fcc285dae10>]"
            ]
          },
          "metadata": {},
          "execution_count": 62
        },
        {
          "output_type": "display_data",
          "data": {
            "text/plain": [
              "<Figure size 432x288 with 1 Axes>"
            ],
            "image/png": "[encoded data removed]"
          },
          "metadata": {
            "needs_background": "light"
          }
        }
      ]
    },
    {
      "cell_type": "markdown",
      "source": [
        "AUROC Score-Model 2"
      ],
      "metadata": {
        "id": "xXH5wfdZkG15"
      }
    },
    {
      "cell_type": "code",
      "source": [
        "print('AUROC Score: ',roc_auc_score(test_y, y_predicted.round()))"
      ],
      "metadata": {
        "id": "cSHSjK1Z-zeF",
        "colab": {
          "base_uri": "https://localhost:8080/"
        },
        "outputId": "23829371-8b7a-47c3-e11f-dde40e32fcec"
      },
      "execution_count": 63,
      "outputs": [
        {
          "output_type": "stream",
          "name": "stdout",
          "text": [
            "AUROC Score:  0.9090909090909091\n"
          ]
        }
      ]
    },
    {
      "cell_type": "markdown",
      "source": [
        "**ROC Curve**"
      ],
      "metadata": {
        "id": "THNQdLjfR83W"
      }
    },
    {
      "cell_type": "code",
      "source": [
        "svc = SVC(random_state=42)\n",
        "svc.fit(train_x, train_y)\n",
        "\n",
        "svc_disp = RocCurveDisplay.from_estimator(svc, test_x, test_y)"
      ],
      "metadata": {
        "colab": {
          "base_uri": "https://localhost:8080/",
          "height": 334
        },
        "id": "kXgyxT_eR8MY",
        "outputId": "d5bd83cf-366e-4b71-deee-9e6ab2fed123"
      },
      "execution_count": 64,
      "outputs": [
        {
          "output_type": "stream",
          "name": "stderr",
          "text": [
            "/usr/local/lib/python3.7/dist-packages/sklearn/utils/validation.py:993: DataConversionWarning: A column-vector y was passed when a 1d array was expected. Please change the shape of y to (n_samples, ), for example using ravel().\n",
            "  y = column_or_1d(y, warn=True)\n"
          ]
        },
        {
          "output_type": "display_data",
          "data": {
            "text/plain": [
              "<Figure size 432x288 with 1 Axes>"
            ],
            "image/png": "[encoded data removed]"
          },
          "metadata": {
            "needs_background": "light"
          }
        }
      ]
    },
    {
      "cell_type": "code",
      "source": [],
      "metadata": {
        "id": "j2xsnFrmSAnl"
      },
      "execution_count": null,
      "outputs": []
    }
  ]
}