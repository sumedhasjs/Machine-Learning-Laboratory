{
  "nbformat": 4,
  "nbformat_minor": 0,
  "metadata": {
    "colab": {
      "provenance": [],
      "authorship_tag": "ABX9TyP56YiT2zOqmTR90g5SCmre",
      "include_colab_link": true
    },
    "kernelspec": {
      "name": "python3",
      "display_name": "Python 3"
    },
    "language_info": {
      "name": "python"
    }
  },
  "cells": [
    {
      "cell_type": "markdown",
      "metadata": {
        "id": "view-in-github",
        "colab_type": "text"
      },
      "source": [
        "<a href=\"https://colab.research.google.com/github/sumedhasjs/Machine-Learning-Laboratory/blob/main/SVM_BT19ECE107.ipynb\" target=\"_parent\"><img src=\"https://colab.research.google.com/assets/colab-badge.svg\" alt=\"Open In Colab\"/></a>"
      ]
    },
    {
      "cell_type": "markdown",
      "source": [
        "# **Importing the Dataset**"
      ],
      "metadata": {
        "id": "GWCOVRYmKSbq"
      }
    },
    {
      "cell_type": "code",
      "execution_count": 1,
      "metadata": {
        "id": "NpHGVIZnD_hQ",
        "colab": {
          "base_uri": "https://localhost:8080/"
        },
        "outputId": "b22e0f8b-8315-4fa1-fd87-5d25539c0ee5"
      },
      "outputs": [
        {
          "output_type": "stream",
          "name": "stdout",
          "text": [
            "Drive already mounted at /content/gdrive; to attempt to forcibly remount, call drive.mount(\"/content/gdrive\", force_remount=True).\n"
          ]
        }
      ],
      "source": [
        "from google.colab import drive\n",
        "drive.mount('/content/gdrive')"
      ]
    },
    {
      "cell_type": "code",
      "source": [
        "%cd 'gdrive/MyDrive/ML Lab Datasets'"
      ],
      "metadata": {
        "colab": {
          "base_uri": "https://localhost:8080/"
        },
        "id": "qeDu4QL_H_5u",
        "outputId": "9816fb7b-86db-4977-db79-6b57dc8a53ac"
      },
      "execution_count": 2,
      "outputs": [
        {
          "output_type": "stream",
          "name": "stdout",
          "text": [
            "/content/gdrive/MyDrive/ML Lab Datasets\n"
          ]
        }
      ]
    },
    {
      "cell_type": "markdown",
      "source": [
        "# **Importing Libraries**"
      ],
      "metadata": {
        "id": "YfirozvnKa1v"
      }
    },
    {
      "cell_type": "code",
      "source": [
        "import numpy as np\n",
        "import matplotlib.pyplot as plt\n",
        "import pandas as pd\n",
        "from scipy.io import loadmat\n",
        "from sklearn.model_selection import train_test_split\n",
        "from sklearn.metrics import accuracy_score,confusion_matrix,ConfusionMatrixDisplay\n",
        "from sklearn.model_selection import GridSearchCV\n",
        "from sklearn.svm import SVC\n",
        "from sklearn.preprocessing import label_binarize\n",
        "from sklearn.metrics import roc_curve, roc_auc_score \n",
        "from sklearn.metrics import accuracy_score ,  confusion_matrix , ConfusionMatrixDisplay , roc_curve , roc_auc_score , RocCurveDisplay,auc"
      ],
      "metadata": {
        "id": "w7KEm6aGIBac"
      },
      "execution_count": 3,
      "outputs": []
    },
    {
      "cell_type": "markdown",
      "source": [
        "# **Loading Data and Preprocessing**"
      ],
      "metadata": {
        "id": "9oWl-IQrKkQR"
      }
    },
    {
      "cell_type": "code",
      "source": [
        "data=loadmat('fisheriris_matlab.mat')"
      ],
      "metadata": {
        "id": "usTZflb4IOLN"
      },
      "execution_count": 4,
      "outputs": []
    },
    {
      "cell_type": "code",
      "source": [
        "data.keys()"
      ],
      "metadata": {
        "colab": {
          "base_uri": "https://localhost:8080/"
        },
        "id": "lsh9lZ8SIn_K",
        "outputId": "98be73ed-4a3b-4d19-c183-13f1be7887e3"
      },
      "execution_count": 5,
      "outputs": [
        {
          "output_type": "execute_result",
          "data": {
            "text/plain": [
              "dict_keys(['__header__', '__version__', '__globals__', 'meas', 'species'])"
            ]
          },
          "metadata": {},
          "execution_count": 5
        }
      ]
    },
    {
      "cell_type": "code",
      "source": [
        "df=pd.DataFrame(data['meas'])"
      ],
      "metadata": {
        "id": "w4gL6rOOIp57"
      },
      "execution_count": 6,
      "outputs": []
    },
    {
      "cell_type": "code",
      "source": [
        "df.head()"
      ],
      "metadata": {
        "colab": {
          "base_uri": "https://localhost:8080/",
          "height": 206
        },
        "id": "f75z716BIwTB",
        "outputId": "4e98a25a-8310-4b93-dac5-3275e63114b2"
      },
      "execution_count": 7,
      "outputs": [
        {
          "output_type": "execute_result",
          "data": {
            "text/plain": [
              "     0    1    2    3\n",
              "0  5.1  3.5  1.4  0.2\n",
              "1  4.9  3.0  1.4  0.2\n",
              "2  4.7  3.2  1.3  0.2\n",
              "3  4.6  3.1  1.5  0.2\n",
              "4  5.0  3.6  1.4  0.2"
            ],
            "text/html": [
              "\n",
              "  <div id=\"df-d63e7fac-6e00-4e43-ac40-f3a8b91b8fc5\">\n",
              "    <div class=\"colab-df-container\">\n",
              "      <div>\n",
              "<style scoped>\n",
              "    .dataframe tbody tr th:only-of-type {\n",
              "        vertical-align: middle;\n",
              "    }\n",
              "\n",
              "    .dataframe tbody tr th {\n",
              "        vertical-align: top;\n",
              "    }\n",
              "\n",
              "    .dataframe thead th {\n",
              "        text-align: right;\n",
              "    }\n",
              "</style>\n",
              "<table border=\"1\" class=\"dataframe\">\n",
              "  <thead>\n",
              "    <tr style=\"text-align: right;\">\n",
              "      <th></th>\n",
              "      <th>0</th>\n",
              "      <th>1</th>\n",
              "      <th>2</th>\n",
              "      <th>3</th>\n",
              "    </tr>\n",
              "  </thead>\n",
              "  <tbody>\n",
              "    <tr>\n",
              "      <th>0</th>\n",
              "      <td>5.1</td>\n",
              "      <td>3.5</td>\n",
              "      <td>1.4</td>\n",
              "      <td>0.2</td>\n",
              "    </tr>\n",
              "    <tr>\n",
              "      <th>1</th>\n",
              "      <td>4.9</td>\n",
              "      <td>3.0</td>\n",
              "      <td>1.4</td>\n",
              "      <td>0.2</td>\n",
              "    </tr>\n",
              "    <tr>\n",
              "      <th>2</th>\n",
              "      <td>4.7</td>\n",
              "      <td>3.2</td>\n",
              "      <td>1.3</td>\n",
              "      <td>0.2</td>\n",
              "    </tr>\n",
              "    <tr>\n",
              "      <th>3</th>\n",
              "      <td>4.6</td>\n",
              "      <td>3.1</td>\n",
              "      <td>1.5</td>\n",
              "      <td>0.2</td>\n",
              "    </tr>\n",
              "    <tr>\n",
              "      <th>4</th>\n",
              "      <td>5.0</td>\n",
              "      <td>3.6</td>\n",
              "      <td>1.4</td>\n",
              "      <td>0.2</td>\n",
              "    </tr>\n",
              "  </tbody>\n",
              "</table>\n",
              "</div>\n",
              "      <button class=\"colab-df-convert\" onclick=\"convertToInteractive('df-d63e7fac-6e00-4e43-ac40-f3a8b91b8fc5')\"\n",
              "              title=\"Convert this dataframe to an interactive table.\"\n",
              "              style=\"display:none;\">\n",
              "        \n",
              "  <svg xmlns=\"http://www.w3.org/2000/svg\" height=\"24px\"viewBox=\"0 0 24 24\"\n",
              "       width=\"24px\">\n",
              "    <path d=\"M0 0h24v24H0V0z\" fill=\"none\"/>\n",
              "    <path d=\"M18.56 5.44l.94 2.06.94-2.06 2.06-.94-2.06-.94-.94-2.06-.94 2.06-2.06.94zm-11 1L8.5 8.5l.94-2.06 2.06-.94-2.06-.94L8.5 2.5l-.94 2.06-2.06.94zm10 10l.94 2.06.94-2.06 2.06-.94-2.06-.94-.94-2.06-.94 2.06-2.06.94z\"/><path d=\"M17.41 7.96l-1.37-1.37c-.4-.4-.92-.59-1.43-.59-.52 0-1.04.2-1.43.59L10.3 9.45l-7.72 7.72c-.78.78-.78 2.05 0 2.83L4 21.41c.39.39.9.59 1.41.59.51 0 1.02-.2 1.41-.59l7.78-7.78 2.81-2.81c.8-.78.8-2.07 0-2.86zM5.41 20L4 18.59l7.72-7.72 1.47 1.35L5.41 20z\"/>\n",
              "  </svg>\n",
              "      </button>\n",
              "      \n",
              "  <style>\n",
              "    .colab-df-container {\n",
              "      display:flex;\n",
              "      flex-wrap:wrap;\n",
              "      gap: 12px;\n",
              "    }\n",
              "\n",
              "    .colab-df-convert {\n",
              "      background-color: #E8F0FE;\n",
              "      border: none;\n",
              "      border-radius: 50%;\n",
              "      cursor: pointer;\n",
              "      display: none;\n",
              "      fill: #1967D2;\n",
              "      height: 32px;\n",
              "      padding: 0 0 0 0;\n",
              "      width: 32px;\n",
              "    }\n",
              "\n",
              "    .colab-df-convert:hover {\n",
              "      background-color: #E2EBFA;\n",
              "      box-shadow: 0px 1px 2px rgba(60, 64, 67, 0.3), 0px 1px 3px 1px rgba(60, 64, 67, 0.15);\n",
              "      fill: #174EA6;\n",
              "    }\n",
              "\n",
              "    [theme=dark] .colab-df-convert {\n",
              "      background-color: #3B4455;\n",
              "      fill: #D2E3FC;\n",
              "    }\n",
              "\n",
              "    [theme=dark] .colab-df-convert:hover {\n",
              "      background-color: #434B5C;\n",
              "      box-shadow: 0px 1px 3px 1px rgba(0, 0, 0, 0.15);\n",
              "      filter: drop-shadow(0px 1px 2px rgba(0, 0, 0, 0.3));\n",
              "      fill: #FFFFFF;\n",
              "    }\n",
              "  </style>\n",
              "\n",
              "      <script>\n",
              "        const buttonEl =\n",
              "          document.querySelector('#df-d63e7fac-6e00-4e43-ac40-f3a8b91b8fc5 button.colab-df-convert');\n",
              "        buttonEl.style.display =\n",
              "          google.colab.kernel.accessAllowed ? 'block' : 'none';\n",
              "\n",
              "        async function convertToInteractive(key) {\n",
              "          const element = document.querySelector('#df-d63e7fac-6e00-4e43-ac40-f3a8b91b8fc5');\n",
              "          const dataTable =\n",
              "            await google.colab.kernel.invokeFunction('convertToInteractive',\n",
              "                                                     [key], {});\n",
              "          if (!dataTable) return;\n",
              "\n",
              "          const docLinkHtml = 'Like what you see? Visit the ' +\n",
              "            '<a target=\"_blank\" href=https://colab.research.google.com/notebooks/data_table.ipynb>data table notebook</a>'\n",
              "            + ' to learn more about interactive tables.';\n",
              "          element.innerHTML = '';\n",
              "          dataTable['output_type'] = 'display_data';\n",
              "          await google.colab.output.renderOutput(dataTable, element);\n",
              "          const docLink = document.createElement('div');\n",
              "          docLink.innerHTML = docLinkHtml;\n",
              "          element.appendChild(docLink);\n",
              "        }\n",
              "      </script>\n",
              "    </div>\n",
              "  </div>\n",
              "  "
            ]
          },
          "metadata": {},
          "execution_count": 7
        }
      ]
    },
    {
      "cell_type": "code",
      "source": [
        "species_col=[]\n",
        "for i in data['species']:\n",
        "  species_col.append(i[0][0])"
      ],
      "metadata": {
        "id": "yT-itGhcJHGk"
      },
      "execution_count": 8,
      "outputs": []
    },
    {
      "cell_type": "code",
      "source": [
        "df['Species']=species_col"
      ],
      "metadata": {
        "id": "NG95oHfSJZsQ"
      },
      "execution_count": 9,
      "outputs": []
    },
    {
      "cell_type": "code",
      "source": [
        "df.head()"
      ],
      "metadata": {
        "colab": {
          "base_uri": "https://localhost:8080/",
          "height": 206
        },
        "id": "ELmrjkLfJbHD",
        "outputId": "01305c7e-daf1-4a6b-e90d-4a7a111e4455"
      },
      "execution_count": 10,
      "outputs": [
        {
          "output_type": "execute_result",
          "data": {
            "text/plain": [
              "     0    1    2    3 Species\n",
              "0  5.1  3.5  1.4  0.2  setosa\n",
              "1  4.9  3.0  1.4  0.2  setosa\n",
              "2  4.7  3.2  1.3  0.2  setosa\n",
              "3  4.6  3.1  1.5  0.2  setosa\n",
              "4  5.0  3.6  1.4  0.2  setosa"
            ],
            "text/html": [
              "\n",
              "  <div id=\"df-1698c1f6-b85c-462b-b33d-5c6dfb4af2df\">\n",
              "    <div class=\"colab-df-container\">\n",
              "      <div>\n",
              "<style scoped>\n",
              "    .dataframe tbody tr th:only-of-type {\n",
              "        vertical-align: middle;\n",
              "    }\n",
              "\n",
              "    .dataframe tbody tr th {\n",
              "        vertical-align: top;\n",
              "    }\n",
              "\n",
              "    .dataframe thead th {\n",
              "        text-align: right;\n",
              "    }\n",
              "</style>\n",
              "<table border=\"1\" class=\"dataframe\">\n",
              "  <thead>\n",
              "    <tr style=\"text-align: right;\">\n",
              "      <th></th>\n",
              "      <th>0</th>\n",
              "      <th>1</th>\n",
              "      <th>2</th>\n",
              "      <th>3</th>\n",
              "      <th>Species</th>\n",
              "    </tr>\n",
              "  </thead>\n",
              "  <tbody>\n",
              "    <tr>\n",
              "      <th>0</th>\n",
              "      <td>5.1</td>\n",
              "      <td>3.5</td>\n",
              "      <td>1.4</td>\n",
              "      <td>0.2</td>\n",
              "      <td>setosa</td>\n",
              "    </tr>\n",
              "    <tr>\n",
              "      <th>1</th>\n",
              "      <td>4.9</td>\n",
              "      <td>3.0</td>\n",
              "      <td>1.4</td>\n",
              "      <td>0.2</td>\n",
              "      <td>setosa</td>\n",
              "    </tr>\n",
              "    <tr>\n",
              "      <th>2</th>\n",
              "      <td>4.7</td>\n",
              "      <td>3.2</td>\n",
              "      <td>1.3</td>\n",
              "      <td>0.2</td>\n",
              "      <td>setosa</td>\n",
              "    </tr>\n",
              "    <tr>\n",
              "      <th>3</th>\n",
              "      <td>4.6</td>\n",
              "      <td>3.1</td>\n",
              "      <td>1.5</td>\n",
              "      <td>0.2</td>\n",
              "      <td>setosa</td>\n",
              "    </tr>\n",
              "    <tr>\n",
              "      <th>4</th>\n",
              "      <td>5.0</td>\n",
              "      <td>3.6</td>\n",
              "      <td>1.4</td>\n",
              "      <td>0.2</td>\n",
              "      <td>setosa</td>\n",
              "    </tr>\n",
              "  </tbody>\n",
              "</table>\n",
              "</div>\n",
              "      <button class=\"colab-df-convert\" onclick=\"convertToInteractive('df-1698c1f6-b85c-462b-b33d-5c6dfb4af2df')\"\n",
              "              title=\"Convert this dataframe to an interactive table.\"\n",
              "              style=\"display:none;\">\n",
              "        \n",
              "  <svg xmlns=\"http://www.w3.org/2000/svg\" height=\"24px\"viewBox=\"0 0 24 24\"\n",
              "       width=\"24px\">\n",
              "    <path d=\"M0 0h24v24H0V0z\" fill=\"none\"/>\n",
              "    <path d=\"M18.56 5.44l.94 2.06.94-2.06 2.06-.94-2.06-.94-.94-2.06-.94 2.06-2.06.94zm-11 1L8.5 8.5l.94-2.06 2.06-.94-2.06-.94L8.5 2.5l-.94 2.06-2.06.94zm10 10l.94 2.06.94-2.06 2.06-.94-2.06-.94-.94-2.06-.94 2.06-2.06.94z\"/><path d=\"M17.41 7.96l-1.37-1.37c-.4-.4-.92-.59-1.43-.59-.52 0-1.04.2-1.43.59L10.3 9.45l-7.72 7.72c-.78.78-.78 2.05 0 2.83L4 21.41c.39.39.9.59 1.41.59.51 0 1.02-.2 1.41-.59l7.78-7.78 2.81-2.81c.8-.78.8-2.07 0-2.86zM5.41 20L4 18.59l7.72-7.72 1.47 1.35L5.41 20z\"/>\n",
              "  </svg>\n",
              "      </button>\n",
              "      \n",
              "  <style>\n",
              "    .colab-df-container {\n",
              "      display:flex;\n",
              "      flex-wrap:wrap;\n",
              "      gap: 12px;\n",
              "    }\n",
              "\n",
              "    .colab-df-convert {\n",
              "      background-color: #E8F0FE;\n",
              "      border: none;\n",
              "      border-radius: 50%;\n",
              "      cursor: pointer;\n",
              "      display: none;\n",
              "      fill: #1967D2;\n",
              "      height: 32px;\n",
              "      padding: 0 0 0 0;\n",
              "      width: 32px;\n",
              "    }\n",
              "\n",
              "    .colab-df-convert:hover {\n",
              "      background-color: #E2EBFA;\n",
              "      box-shadow: 0px 1px 2px rgba(60, 64, 67, 0.3), 0px 1px 3px 1px rgba(60, 64, 67, 0.15);\n",
              "      fill: #174EA6;\n",
              "    }\n",
              "\n",
              "    [theme=dark] .colab-df-convert {\n",
              "      background-color: #3B4455;\n",
              "      fill: #D2E3FC;\n",
              "    }\n",
              "\n",
              "    [theme=dark] .colab-df-convert:hover {\n",
              "      background-color: #434B5C;\n",
              "      box-shadow: 0px 1px 3px 1px rgba(0, 0, 0, 0.15);\n",
              "      filter: drop-shadow(0px 1px 2px rgba(0, 0, 0, 0.3));\n",
              "      fill: #FFFFFF;\n",
              "    }\n",
              "  </style>\n",
              "\n",
              "      <script>\n",
              "        const buttonEl =\n",
              "          document.querySelector('#df-1698c1f6-b85c-462b-b33d-5c6dfb4af2df button.colab-df-convert');\n",
              "        buttonEl.style.display =\n",
              "          google.colab.kernel.accessAllowed ? 'block' : 'none';\n",
              "\n",
              "        async function convertToInteractive(key) {\n",
              "          const element = document.querySelector('#df-1698c1f6-b85c-462b-b33d-5c6dfb4af2df');\n",
              "          const dataTable =\n",
              "            await google.colab.kernel.invokeFunction('convertToInteractive',\n",
              "                                                     [key], {});\n",
              "          if (!dataTable) return;\n",
              "\n",
              "          const docLinkHtml = 'Like what you see? Visit the ' +\n",
              "            '<a target=\"_blank\" href=https://colab.research.google.com/notebooks/data_table.ipynb>data table notebook</a>'\n",
              "            + ' to learn more about interactive tables.';\n",
              "          element.innerHTML = '';\n",
              "          dataTable['output_type'] = 'display_data';\n",
              "          await google.colab.output.renderOutput(dataTable, element);\n",
              "          const docLink = document.createElement('div');\n",
              "          docLink.innerHTML = docLinkHtml;\n",
              "          element.appendChild(docLink);\n",
              "        }\n",
              "      </script>\n",
              "    </div>\n",
              "  </div>\n",
              "  "
            ]
          },
          "metadata": {},
          "execution_count": 10
        }
      ]
    },
    {
      "cell_type": "code",
      "source": [
        "headings ={0:\"Sepal Length\",1:\"Sepal Width\",2:\"Petal Length\",3:\"Petal Width\",4:\"Species\"}\n",
        "df.rename(columns=headings, inplace=True)"
      ],
      "metadata": {
        "id": "81yfsfyPJyCB"
      },
      "execution_count": 11,
      "outputs": []
    },
    {
      "cell_type": "code",
      "source": [
        "df.head()"
      ],
      "metadata": {
        "colab": {
          "base_uri": "https://localhost:8080/",
          "height": 206
        },
        "id": "R7tYbBtgKCZY",
        "outputId": "edee8c16-9d5f-4e2a-e8c8-928f9918211b"
      },
      "execution_count": 12,
      "outputs": [
        {
          "output_type": "execute_result",
          "data": {
            "text/plain": [
              "   Sepal Length  Sepal Width  Petal Length  Petal Width Species\n",
              "0           5.1          3.5           1.4          0.2  setosa\n",
              "1           4.9          3.0           1.4          0.2  setosa\n",
              "2           4.7          3.2           1.3          0.2  setosa\n",
              "3           4.6          3.1           1.5          0.2  setosa\n",
              "4           5.0          3.6           1.4          0.2  setosa"
            ],
            "text/html": [
              "\n",
              "  <div id=\"df-57f1f1d9-8d2e-4cf2-897a-35377313adf5\">\n",
              "    <div class=\"colab-df-container\">\n",
              "      <div>\n",
              "<style scoped>\n",
              "    .dataframe tbody tr th:only-of-type {\n",
              "        vertical-align: middle;\n",
              "    }\n",
              "\n",
              "    .dataframe tbody tr th {\n",
              "        vertical-align: top;\n",
              "    }\n",
              "\n",
              "    .dataframe thead th {\n",
              "        text-align: right;\n",
              "    }\n",
              "</style>\n",
              "<table border=\"1\" class=\"dataframe\">\n",
              "  <thead>\n",
              "    <tr style=\"text-align: right;\">\n",
              "      <th></th>\n",
              "      <th>Sepal Length</th>\n",
              "      <th>Sepal Width</th>\n",
              "      <th>Petal Length</th>\n",
              "      <th>Petal Width</th>\n",
              "      <th>Species</th>\n",
              "    </tr>\n",
              "  </thead>\n",
              "  <tbody>\n",
              "    <tr>\n",
              "      <th>0</th>\n",
              "      <td>5.1</td>\n",
              "      <td>3.5</td>\n",
              "      <td>1.4</td>\n",
              "      <td>0.2</td>\n",
              "      <td>setosa</td>\n",
              "    </tr>\n",
              "    <tr>\n",
              "      <th>1</th>\n",
              "      <td>4.9</td>\n",
              "      <td>3.0</td>\n",
              "      <td>1.4</td>\n",
              "      <td>0.2</td>\n",
              "      <td>setosa</td>\n",
              "    </tr>\n",
              "    <tr>\n",
              "      <th>2</th>\n",
              "      <td>4.7</td>\n",
              "      <td>3.2</td>\n",
              "      <td>1.3</td>\n",
              "      <td>0.2</td>\n",
              "      <td>setosa</td>\n",
              "    </tr>\n",
              "    <tr>\n",
              "      <th>3</th>\n",
              "      <td>4.6</td>\n",
              "      <td>3.1</td>\n",
              "      <td>1.5</td>\n",
              "      <td>0.2</td>\n",
              "      <td>setosa</td>\n",
              "    </tr>\n",
              "    <tr>\n",
              "      <th>4</th>\n",
              "      <td>5.0</td>\n",
              "      <td>3.6</td>\n",
              "      <td>1.4</td>\n",
              "      <td>0.2</td>\n",
              "      <td>setosa</td>\n",
              "    </tr>\n",
              "  </tbody>\n",
              "</table>\n",
              "</div>\n",
              "      <button class=\"colab-df-convert\" onclick=\"convertToInteractive('df-57f1f1d9-8d2e-4cf2-897a-35377313adf5')\"\n",
              "              title=\"Convert this dataframe to an interactive table.\"\n",
              "              style=\"display:none;\">\n",
              "        \n",
              "  <svg xmlns=\"http://www.w3.org/2000/svg\" height=\"24px\"viewBox=\"0 0 24 24\"\n",
              "       width=\"24px\">\n",
              "    <path d=\"M0 0h24v24H0V0z\" fill=\"none\"/>\n",
              "    <path d=\"M18.56 5.44l.94 2.06.94-2.06 2.06-.94-2.06-.94-.94-2.06-.94 2.06-2.06.94zm-11 1L8.5 8.5l.94-2.06 2.06-.94-2.06-.94L8.5 2.5l-.94 2.06-2.06.94zm10 10l.94 2.06.94-2.06 2.06-.94-2.06-.94-.94-2.06-.94 2.06-2.06.94z\"/><path d=\"M17.41 7.96l-1.37-1.37c-.4-.4-.92-.59-1.43-.59-.52 0-1.04.2-1.43.59L10.3 9.45l-7.72 7.72c-.78.78-.78 2.05 0 2.83L4 21.41c.39.39.9.59 1.41.59.51 0 1.02-.2 1.41-.59l7.78-7.78 2.81-2.81c.8-.78.8-2.07 0-2.86zM5.41 20L4 18.59l7.72-7.72 1.47 1.35L5.41 20z\"/>\n",
              "  </svg>\n",
              "      </button>\n",
              "      \n",
              "  <style>\n",
              "    .colab-df-container {\n",
              "      display:flex;\n",
              "      flex-wrap:wrap;\n",
              "      gap: 12px;\n",
              "    }\n",
              "\n",
              "    .colab-df-convert {\n",
              "      background-color: #E8F0FE;\n",
              "      border: none;\n",
              "      border-radius: 50%;\n",
              "      cursor: pointer;\n",
              "      display: none;\n",
              "      fill: #1967D2;\n",
              "      height: 32px;\n",
              "      padding: 0 0 0 0;\n",
              "      width: 32px;\n",
              "    }\n",
              "\n",
              "    .colab-df-convert:hover {\n",
              "      background-color: #E2EBFA;\n",
              "      box-shadow: 0px 1px 2px rgba(60, 64, 67, 0.3), 0px 1px 3px 1px rgba(60, 64, 67, 0.15);\n",
              "      fill: #174EA6;\n",
              "    }\n",
              "\n",
              "    [theme=dark] .colab-df-convert {\n",
              "      background-color: #3B4455;\n",
              "      fill: #D2E3FC;\n",
              "    }\n",
              "\n",
              "    [theme=dark] .colab-df-convert:hover {\n",
              "      background-color: #434B5C;\n",
              "      box-shadow: 0px 1px 3px 1px rgba(0, 0, 0, 0.15);\n",
              "      filter: drop-shadow(0px 1px 2px rgba(0, 0, 0, 0.3));\n",
              "      fill: #FFFFFF;\n",
              "    }\n",
              "  </style>\n",
              "\n",
              "      <script>\n",
              "        const buttonEl =\n",
              "          document.querySelector('#df-57f1f1d9-8d2e-4cf2-897a-35377313adf5 button.colab-df-convert');\n",
              "        buttonEl.style.display =\n",
              "          google.colab.kernel.accessAllowed ? 'block' : 'none';\n",
              "\n",
              "        async function convertToInteractive(key) {\n",
              "          const element = document.querySelector('#df-57f1f1d9-8d2e-4cf2-897a-35377313adf5');\n",
              "          const dataTable =\n",
              "            await google.colab.kernel.invokeFunction('convertToInteractive',\n",
              "                                                     [key], {});\n",
              "          if (!dataTable) return;\n",
              "\n",
              "          const docLinkHtml = 'Like what you see? Visit the ' +\n",
              "            '<a target=\"_blank\" href=https://colab.research.google.com/notebooks/data_table.ipynb>data table notebook</a>'\n",
              "            + ' to learn more about interactive tables.';\n",
              "          element.innerHTML = '';\n",
              "          dataTable['output_type'] = 'display_data';\n",
              "          await google.colab.output.renderOutput(dataTable, element);\n",
              "          const docLink = document.createElement('div');\n",
              "          docLink.innerHTML = docLinkHtml;\n",
              "          element.appendChild(docLink);\n",
              "        }\n",
              "      </script>\n",
              "    </div>\n",
              "  </div>\n",
              "  "
            ]
          },
          "metadata": {},
          "execution_count": 12
        }
      ]
    },
    {
      "cell_type": "markdown",
      "source": [
        "# **Splitting Data into Testing, training and Validation sets**"
      ],
      "metadata": {
        "id": "wAmLcHrZKqbg"
      }
    },
    {
      "cell_type": "code",
      "source": [
        "test_ratio=0.45\n",
        "train_ratio=0.55"
      ],
      "metadata": {
        "id": "fX-Uhg8_KFkI"
      },
      "execution_count": 13,
      "outputs": []
    },
    {
      "cell_type": "code",
      "source": [
        "Train,Test = train_test_split(df,test_size=test_ratio,train_size=train_ratio,shuffle=True)\n",
        "Test, Validation = train_test_split(Test,test_size=test_ratio/2,train_size=test_ratio/2,shuffle=True)"
      ],
      "metadata": {
        "id": "45jk3UlzKJjZ"
      },
      "execution_count": 14,
      "outputs": []
    },
    {
      "cell_type": "markdown",
      "source": [
        "# **Linear Kernal**"
      ],
      "metadata": {
        "id": "zFYkIKmXK3qI"
      }
    },
    {
      "cell_type": "code",
      "source": [
        "kernel = ['linear']\n",
        "C = [0.001,0.01,1,10,100]\n",
        "gamma = ['scale']"
      ],
      "metadata": {
        "id": "n-P0APG1KN1O"
      },
      "execution_count": 15,
      "outputs": []
    },
    {
      "cell_type": "code",
      "source": [
        "grid = dict(kernel=kernel,C=C,gamma=gamma)\n",
        "cv = 2\n",
        "grid_search = GridSearchCV(estimator=SVC(), param_grid=grid, n_jobs=-1, cv=cv, scoring='accuracy',error_score=0)\n",
        "grid_result = grid_search.fit(Validation[[\"Sepal Length\",\"Sepal Width\",\"Petal Length\",\"Petal Width\"]], Validation[[\"Species\"]])"
      ],
      "metadata": {
        "colab": {
          "base_uri": "https://localhost:8080/"
        },
        "id": "wLr71AjsK8Cy",
        "outputId": "1bc7f15f-75e7-4d47-c39d-9e2899c98e85"
      },
      "execution_count": 16,
      "outputs": [
        {
          "output_type": "stream",
          "name": "stderr",
          "text": [
            "/usr/local/lib/python3.7/dist-packages/sklearn/utils/validation.py:993: DataConversionWarning: A column-vector y was passed when a 1d array was expected. Please change the shape of y to (n_samples, ), for example using ravel().\n",
            "  y = column_or_1d(y, warn=True)\n"
          ]
        }
      ]
    },
    {
      "cell_type": "code",
      "source": [
        "print(\"Best: \\n Accuracy %f using prameters: %s\" % (grid_result.best_score_, grid_result.best_params_))"
      ],
      "metadata": {
        "colab": {
          "base_uri": "https://localhost:8080/"
        },
        "id": "LGvJzliFLSry",
        "outputId": "9f6b861b-2ce7-4671-f6c0-2f6c86680c48"
      },
      "execution_count": 17,
      "outputs": [
        {
          "output_type": "stream",
          "name": "stdout",
          "text": [
            "Best: \n",
            " Accuracy 0.937500 using prameters: {'C': 1, 'gamma': 'scale', 'kernel': 'linear'}\n"
          ]
        }
      ]
    },
    {
      "cell_type": "code",
      "source": [
        "means = grid_result.cv_results_['mean_test_score']\n",
        "stds = grid_result.cv_results_['std_test_score']\n",
        "params = grid_result.cv_results_['params']\n",
        "linear_grid = {'accuracy':[],'params':[]}"
      ],
      "metadata": {
        "id": "Pc4TnaiWLWra"
      },
      "execution_count": 18,
      "outputs": []
    },
    {
      "cell_type": "code",
      "source": [
        "for mean, stdev, param in zip(means, stds, params):\n",
        "  print(\"%f with: %r\" % (mean, param))\n",
        "  if param['kernel']=='linear':\n",
        "    linear_grid['accuracy'].append(mean)\n",
        "    linear_grid['params'].append(param['C'])"
      ],
      "metadata": {
        "colab": {
          "base_uri": "https://localhost:8080/"
        },
        "id": "MoXg45AxLbCb",
        "outputId": "c8dc5ed4-430f-4309-d861-87e8b7c6e227"
      },
      "execution_count": 19,
      "outputs": [
        {
          "output_type": "stream",
          "name": "stdout",
          "text": [
            "0.625000 with: {'C': 0.001, 'gamma': 'scale', 'kernel': 'linear'}\n",
            "0.625000 with: {'C': 0.01, 'gamma': 'scale', 'kernel': 'linear'}\n",
            "0.937500 with: {'C': 1, 'gamma': 'scale', 'kernel': 'linear'}\n",
            "0.937500 with: {'C': 10, 'gamma': 'scale', 'kernel': 'linear'}\n",
            "0.937500 with: {'C': 100, 'gamma': 'scale', 'kernel': 'linear'}\n"
          ]
        }
      ]
    },
    {
      "cell_type": "code",
      "source": [
        "test_grid = dict(kernel = [grid_result.best_params_['kernel']], C = [grid_result.best_params_['C']], gamma = [grid_result.best_params_['gamma']])\n",
        "test_grid_search = GridSearchCV(estimator=SVC(), param_grid=test_grid, n_jobs=-1, cv=2, scoring='accuracy',error_score=0)\n",
        "test_grid_result = test_grid_search.fit(Validation[[\"Sepal Length\",\"Sepal Width\",\"Petal Length\",\"Petal Width\"]], Validation[[\"Species\"]])\n",
        "pred_test = test_grid_result.predict(Test[[\"Sepal Length\",\"Sepal Width\",\"Petal Length\",\"Petal Width\"]])\n",
        "print(\"Accuracy on best parameters from linear kernel: \",test_grid_result.score(Test[[\"Sepal Length\",\"Sepal Width\",\"Petal Length\",\"Petal Width\"]], Test[[\"Species\"]]))"
      ],
      "metadata": {
        "colab": {
          "base_uri": "https://localhost:8080/"
        },
        "id": "CChqWBQxLdrO",
        "outputId": "b5d0d432-dd7c-4cba-8ef7-3ee80412c079"
      },
      "execution_count": 20,
      "outputs": [
        {
          "output_type": "stream",
          "name": "stderr",
          "text": [
            "/usr/local/lib/python3.7/dist-packages/sklearn/utils/validation.py:993: DataConversionWarning: A column-vector y was passed when a 1d array was expected. Please change the shape of y to (n_samples, ), for example using ravel().\n",
            "  y = column_or_1d(y, warn=True)\n"
          ]
        },
        {
          "output_type": "stream",
          "name": "stdout",
          "text": [
            "Accuracy on best parameters from linear kernel:  0.9333333333333333\n"
          ]
        }
      ]
    },
    {
      "cell_type": "markdown",
      "source": [
        "**Accuracy-Linear Kernal**"
      ],
      "metadata": {
        "id": "e05a3asaMDcX"
      }
    },
    {
      "cell_type": "code",
      "source": [
        "plt.figure()\n",
        "plt.plot(linear_grid['params'],linear_grid['accuracy'])\n",
        "plt.xlim([0,2])\n",
        "plt.title(\"Accuracy vs hyperparameters for linear kernel\")"
      ],
      "metadata": {
        "colab": {
          "base_uri": "https://localhost:8080/",
          "height": 298
        },
        "id": "h79CJpbTLzgx",
        "outputId": "715e0cd9-74bd-4aab-c5b1-e73682875ab2"
      },
      "execution_count": 21,
      "outputs": [
        {
          "output_type": "execute_result",
          "data": {
            "text/plain": [
              "Text(0.5, 1.0, 'Accuracy vs hyperparameters for linear kernel')"
            ]
          },
          "metadata": {},
          "execution_count": 21
        },
        {
          "output_type": "display_data",
          "data": {
            "text/plain": [
              "<Figure size 432x288 with 1 Axes>"
            ],
            "image/png": "[encoded data removed]"
          },
          "metadata": {
            "needs_background": "light"
          }
        }
      ]
    },
    {
      "cell_type": "markdown",
      "source": [
        "**Confusion Matrix- Linear Kernal**"
      ],
      "metadata": {
        "id": "BhNL5LYOMIjd"
      }
    },
    {
      "cell_type": "code",
      "source": [
        "cm=confusion_matrix(Test[\"Species\"],pred_test)\n",
        "print(\"Confusion matrix :\\n\",cm)\n",
        "disp_lin = ConfusionMatrixDisplay(cm)\n",
        "disp_lin.plot()\n",
        "plt.show()"
      ],
      "metadata": {
        "colab": {
          "base_uri": "https://localhost:8080/",
          "height": 352
        },
        "id": "6nPvIvkiMFsa",
        "outputId": "4bc6d83b-594a-44c6-f9d3-8011280ab302"
      },
      "execution_count": 22,
      "outputs": [
        {
          "output_type": "stream",
          "name": "stdout",
          "text": [
            "Confusion matrix :\n",
            " [[7 0 0]\n",
            " [0 4 0]\n",
            " [0 1 3]]\n"
          ]
        },
        {
          "output_type": "display_data",
          "data": {
            "text/plain": [
              "<Figure size 432x288 with 2 Axes>"
            ],
            "image/png": "[encoded data removed]"
          },
          "metadata": {
            "needs_background": "light"
          }
        }
      ]
    },
    {
      "cell_type": "markdown",
      "source": [
        "**Sensitivity and Specifivity- Linear Kernal**"
      ],
      "metadata": {
        "id": "uNMyIi6HMlug"
      }
    },
    {
      "cell_type": "markdown",
      "source": [
        "For Setosa"
      ],
      "metadata": {
        "id": "PSqytCCzTcfL"
      }
    },
    {
      "cell_type": "code",
      "source": [
        "tp=cm[0,0]\n",
        "fn=cm[0,1]+cm[0,2]\n",
        "fp=cm[1,0]+cm[2,0]\n",
        "tn=cm[1,1]+cm[1,2]+cm[2,1]+cm[2,2]"
      ],
      "metadata": {
        "id": "aGGpYDSBNkng"
      },
      "execution_count": 23,
      "outputs": []
    },
    {
      "cell_type": "code",
      "source": [
        "sensitivity = tp/(tp+fn)\n",
        "print('Sensitivity for Setosa: ', sensitivity )\n",
        "\n",
        "specificity = tn/(tn+fp)\n",
        "print('Specificity for Setosa : ', specificity)"
      ],
      "metadata": {
        "colab": {
          "base_uri": "https://localhost:8080/"
        },
        "id": "bUXhnvLaMebT",
        "outputId": "c24395fe-e4fd-41ed-9b2b-3a621e1afeda"
      },
      "execution_count": 24,
      "outputs": [
        {
          "output_type": "stream",
          "name": "stdout",
          "text": [
            "Sensitivity for Setosa:  1.0\n",
            "Specificity for Setosa :  1.0\n"
          ]
        }
      ]
    },
    {
      "cell_type": "markdown",
      "source": [
        "For Versicolor"
      ],
      "metadata": {
        "id": "cAD3OtYFUflj"
      }
    },
    {
      "cell_type": "code",
      "source": [
        "tp=cm[1,1]\n",
        "fn=cm[1,0]+cm[1,2]\n",
        "fp=cm[0,1]+cm[2,1]\n",
        "tn=cm[0,0]+cm[0,2]+cm[2,0]+cm[2,2]"
      ],
      "metadata": {
        "id": "tMEahhjIUld1"
      },
      "execution_count": 25,
      "outputs": []
    },
    {
      "cell_type": "code",
      "source": [
        "sensitivity = tp/(tp+fn)\n",
        "print('Sensitivity for Versicolor: ', sensitivity )\n",
        "\n",
        "specificity = tn/(tn+fp)\n",
        "print('Specificity for Versicolor: ', specificity)"
      ],
      "metadata": {
        "colab": {
          "base_uri": "https://localhost:8080/"
        },
        "id": "FuMagqtzUlPN",
        "outputId": "b31f2595-be9f-4f3e-928b-1cce67e84695"
      },
      "execution_count": 26,
      "outputs": [
        {
          "output_type": "stream",
          "name": "stdout",
          "text": [
            "Sensitivity for Versicolor:  1.0\n",
            "Specificity for Versicolor:  0.9090909090909091\n"
          ]
        }
      ]
    },
    {
      "cell_type": "markdown",
      "source": [
        "For Virginia"
      ],
      "metadata": {
        "id": "LECwJs2nVKd7"
      }
    },
    {
      "cell_type": "code",
      "source": [
        "tp=cm[2,2]\n",
        "fn=cm[2,0]+cm[2,1]\n",
        "fp=cm[0,2]+cm[1,2]\n",
        "tn=cm[0,0]+cm[0,1]+cm[1,0]+cm[1,1]"
      ],
      "metadata": {
        "id": "92AAJdmbWMx8"
      },
      "execution_count": 27,
      "outputs": []
    },
    {
      "cell_type": "code",
      "source": [
        "sensitivity = tp/(tp+fn)\n",
        "print('Sensitivity for Virginia: ', sensitivity )\n",
        "\n",
        "specificity = tn/(tn+fp)\n",
        "print('Specificity for Virginia: ', specificity)"
      ],
      "metadata": {
        "colab": {
          "base_uri": "https://localhost:8080/"
        },
        "id": "15tHx-qRWK10",
        "outputId": "2b4c04d4-898f-4574-f46a-2c683a0aa7b3"
      },
      "execution_count": 28,
      "outputs": [
        {
          "output_type": "stream",
          "name": "stdout",
          "text": [
            "Sensitivity for Virginia:  0.75\n",
            "Specificity for Virginia:  1.0\n"
          ]
        }
      ]
    },
    {
      "cell_type": "markdown",
      "source": [
        "**AUROC Score-Linear Kernal**"
      ],
      "metadata": {
        "id": "lsLXE1vvMs5w"
      }
    },
    {
      "cell_type": "code",
      "source": [
        "test_num=list()\n",
        "for i in Test['Species']:\n",
        "  if i=='setosa':\n",
        "    test_num.append(1)\n",
        "  elif i=='versicolor':\n",
        "    test_num.append(2)\n",
        "  elif i=='virginia':\n",
        "    test_num.append(3)\n",
        "\n",
        "pred_num=list()\n",
        "for i in Test['Species']:\n",
        "  if i=='setosa':\n",
        "    pred_num.append(1)\n",
        "  elif i=='versicolor':\n",
        "    pred_num.append(2)\n",
        "  elif i=='virginia':\n",
        "    pred_num.append(3)"
      ],
      "metadata": {
        "id": "iA5Bwftzkoa6"
      },
      "execution_count": 29,
      "outputs": []
    },
    {
      "cell_type": "code",
      "source": [
        "print('AUROC Score: ',roc_auc_score(test_num,pred_num,multi_class='ovr'))"
      ],
      "metadata": {
        "colab": {
          "base_uri": "https://localhost:8080/"
        },
        "id": "1FZurJKTMoVL",
        "outputId": "0a3fa236-6946-461c-bb32-9852a3180aa4"
      },
      "execution_count": 30,
      "outputs": [
        {
          "output_type": "stream",
          "name": "stdout",
          "text": [
            "AUROC Score:  1.0\n"
          ]
        }
      ]
    },
    {
      "cell_type": "markdown",
      "source": [
        "**ROC Curve-Linear Kernal**"
      ],
      "metadata": {
        "id": "ZEdJtX1ZQGWL"
      }
    },
    {
      "cell_type": "code",
      "source": [
        "#plt.figure()\n",
        "#plt.plot(roc_curve(Test[\"Species\"],pred_test))\n",
        "#plt.title(\"ROC Curve for Linear Kernal\")"
      ],
      "metadata": {
        "id": "gwGe4GuMNGVn"
      },
      "execution_count": 31,
      "outputs": []
    },
    {
      "cell_type": "markdown",
      "source": [
        "# **Polynomial Kernal**"
      ],
      "metadata": {
        "id": "5Iqh-IY_QNNZ"
      }
    },
    {
      "cell_type": "code",
      "source": [
        "kernel = ['poly']\n",
        "C = [0.001,0.01,1,10,100]\n",
        "gamma = ['scale']"
      ],
      "metadata": {
        "id": "DRz4wQgbPyIZ"
      },
      "execution_count": 32,
      "outputs": []
    },
    {
      "cell_type": "code",
      "source": [
        "grid = dict(kernel=kernel,C=C,gamma=gamma)\n",
        "cv = 2\n",
        "grid_search = GridSearchCV(estimator=SVC(), param_grid=grid, n_jobs=-1, cv=cv, scoring='accuracy',error_score=0)\n",
        "grid_result = grid_search.fit(Validation[[\"Sepal Length\",\"Sepal Width\",\"Petal Length\",\"Petal Width\"]], Validation[[\"Species\"]])"
      ],
      "metadata": {
        "colab": {
          "base_uri": "https://localhost:8080/"
        },
        "id": "iNphn2cqQWjE",
        "outputId": "a492f940-92e3-44e5-894d-c568f9b1bdf7"
      },
      "execution_count": 33,
      "outputs": [
        {
          "output_type": "stream",
          "name": "stderr",
          "text": [
            "/usr/local/lib/python3.7/dist-packages/sklearn/utils/validation.py:993: DataConversionWarning: A column-vector y was passed when a 1d array was expected. Please change the shape of y to (n_samples, ), for example using ravel().\n",
            "  y = column_or_1d(y, warn=True)\n"
          ]
        }
      ]
    },
    {
      "cell_type": "code",
      "source": [
        "print(\"Best: \\n Accuracy %f using prameters: %s\" % (grid_result.best_score_, grid_result.best_params_))"
      ],
      "metadata": {
        "colab": {
          "base_uri": "https://localhost:8080/"
        },
        "id": "nqsl3RDqQb1Z",
        "outputId": "cbd1bad4-3782-4b0c-97cd-9cb650179570"
      },
      "execution_count": 34,
      "outputs": [
        {
          "output_type": "stream",
          "name": "stdout",
          "text": [
            "Best: \n",
            " Accuracy 0.937500 using prameters: {'C': 1, 'gamma': 'scale', 'kernel': 'poly'}\n"
          ]
        }
      ]
    },
    {
      "cell_type": "code",
      "source": [
        "means = grid_result.cv_results_['mean_test_score']\n",
        "stds = grid_result.cv_results_['std_test_score']\n",
        "params = grid_result.cv_results_['params']\n",
        "poly_grid = {'accuracy':[],'params':[]}"
      ],
      "metadata": {
        "id": "hhWj-ffnQfC2"
      },
      "execution_count": 35,
      "outputs": []
    },
    {
      "cell_type": "code",
      "source": [
        "for mean, stdev, param in zip(means, stds, params):\n",
        "  print(\"%f with: %r\" % (mean, param))\n",
        "  if param['kernel']=='poly':\n",
        "    poly_grid['accuracy'].append(mean)\n",
        "    poly_grid['params'].append(param['C'])"
      ],
      "metadata": {
        "colab": {
          "base_uri": "https://localhost:8080/"
        },
        "id": "lnJtHdvnQoIN",
        "outputId": "dd6c7461-328e-4033-a517-0daa12479b34"
      },
      "execution_count": 36,
      "outputs": [
        {
          "output_type": "stream",
          "name": "stdout",
          "text": [
            "0.625000 with: {'C': 0.001, 'gamma': 'scale', 'kernel': 'poly'}\n",
            "0.750000 with: {'C': 0.01, 'gamma': 'scale', 'kernel': 'poly'}\n",
            "0.937500 with: {'C': 1, 'gamma': 'scale', 'kernel': 'poly'}\n",
            "0.937500 with: {'C': 10, 'gamma': 'scale', 'kernel': 'poly'}\n",
            "0.937500 with: {'C': 100, 'gamma': 'scale', 'kernel': 'poly'}\n"
          ]
        }
      ]
    },
    {
      "cell_type": "code",
      "source": [
        "test_grid = dict(kernel = [grid_result.best_params_['kernel']], C = [grid_result.best_params_['C']], gamma = [grid_result.best_params_['gamma']])\n",
        "test_grid_search = GridSearchCV(estimator=SVC(), param_grid=test_grid, n_jobs=-1, cv=2, scoring='accuracy',error_score=0)\n",
        "test_grid_result = test_grid_search.fit(Validation[[\"Sepal Length\",\"Sepal Width\",\"Petal Length\",\"Petal Width\"]], Validation[[\"Species\"]])\n",
        "pred_test = test_grid_result.predict(Test[[\"Sepal Length\",\"Sepal Width\",\"Petal Length\",\"Petal Width\"]])\n",
        "print(\"Accuracy on best parameters from polynomial kernel: \",test_grid_result.score(Test[[\"Sepal Length\",\"Sepal Width\",\"Petal Length\",\"Petal Width\"]], Test[[\"Species\"]]))"
      ],
      "metadata": {
        "colab": {
          "base_uri": "https://localhost:8080/"
        },
        "id": "FyXDqPwJQu4S",
        "outputId": "befee47d-0b70-4b6a-a768-b6caeecf089f"
      },
      "execution_count": 37,
      "outputs": [
        {
          "output_type": "stream",
          "name": "stdout",
          "text": [
            "Accuracy on best parameters from polynomial kernel:  1.0\n"
          ]
        },
        {
          "output_type": "stream",
          "name": "stderr",
          "text": [
            "/usr/local/lib/python3.7/dist-packages/sklearn/utils/validation.py:993: DataConversionWarning: A column-vector y was passed when a 1d array was expected. Please change the shape of y to (n_samples, ), for example using ravel().\n",
            "  y = column_or_1d(y, warn=True)\n"
          ]
        }
      ]
    },
    {
      "cell_type": "markdown",
      "source": [
        "**Accuracy-Polynomial Kernal**"
      ],
      "metadata": {
        "id": "ZG_jAMDVRHBR"
      }
    },
    {
      "cell_type": "code",
      "source": [
        "plt.figure()\n",
        "plt.plot(poly_grid['params'],poly_grid['accuracy'])\n",
        "plt.xlim([0,2])\n",
        "plt.title(\"Accuracy vs hyperparameters for polynomial kernel\")"
      ],
      "metadata": {
        "colab": {
          "base_uri": "https://localhost:8080/",
          "height": 298
        },
        "id": "vRWQS0CpRAit",
        "outputId": "e573caf9-0af8-4917-f404-4d091fcc1439"
      },
      "execution_count": 38,
      "outputs": [
        {
          "output_type": "execute_result",
          "data": {
            "text/plain": [
              "Text(0.5, 1.0, 'Accuracy vs hyperparameters for polynomial kernel')"
            ]
          },
          "metadata": {},
          "execution_count": 38
        },
        {
          "output_type": "display_data",
          "data": {
            "text/plain": [
              "<Figure size 432x288 with 1 Axes>"
            ],
            "image/png": "[encoded data removed]"
          },
          "metadata": {
            "needs_background": "light"
          }
        }
      ]
    },
    {
      "cell_type": "markdown",
      "source": [
        "**Confusion Matrix-Polynomial Kernal**"
      ],
      "metadata": {
        "id": "T2nQx-pNRbSo"
      }
    },
    {
      "cell_type": "code",
      "source": [
        "cm=confusion_matrix(Test[\"Species\"],pred_test)\n",
        "print(\"Confusion matrix :\\n\",cm)\n",
        "disp_poly = ConfusionMatrixDisplay(cm)\n",
        "disp_poly.plot()\n",
        "plt.show()"
      ],
      "metadata": {
        "colab": {
          "base_uri": "https://localhost:8080/",
          "height": 352
        },
        "id": "BClMgAY0RJez",
        "outputId": "ce29b08b-738f-496c-f2ae-42a0be04aa54"
      },
      "execution_count": 39,
      "outputs": [
        {
          "output_type": "stream",
          "name": "stdout",
          "text": [
            "Confusion matrix :\n",
            " [[7 0 0]\n",
            " [0 4 0]\n",
            " [0 0 4]]\n"
          ]
        },
        {
          "output_type": "display_data",
          "data": {
            "text/plain": [
              "<Figure size 432x288 with 2 Axes>"
            ],
            "image/png": "[encoded data removed]"
          },
          "metadata": {
            "needs_background": "light"
          }
        }
      ]
    },
    {
      "cell_type": "markdown",
      "source": [
        "**Sensitivity and Specifivity - Polynomial Kernal**"
      ],
      "metadata": {
        "id": "EP72J41lXKOW"
      }
    },
    {
      "cell_type": "markdown",
      "source": [
        "For Setosa"
      ],
      "metadata": {
        "id": "haCLTytaXQ4O"
      }
    },
    {
      "cell_type": "code",
      "source": [
        "tp=cm[0,0]\n",
        "fn=cm[0,1]+cm[0,2]\n",
        "fp=cm[1,0]+cm[2,0]\n",
        "tn=cm[1,1]+cm[1,2]+cm[2,1]+cm[2,2]"
      ],
      "metadata": {
        "id": "rNFuTUTFRmm_"
      },
      "execution_count": 40,
      "outputs": []
    },
    {
      "cell_type": "code",
      "source": [
        "sensitivity = tp/(tp+fn)\n",
        "print('Sensitivity for Setosa: ', sensitivity )\n",
        "\n",
        "specificity = tn/(tn+fp)\n",
        "print('Specificity for Setosa : ', specificity)"
      ],
      "metadata": {
        "colab": {
          "base_uri": "https://localhost:8080/"
        },
        "id": "BJvoXXzNXVCk",
        "outputId": "8387fab7-43b4-40b5-ebe1-a2160d037fb2"
      },
      "execution_count": 41,
      "outputs": [
        {
          "output_type": "stream",
          "name": "stdout",
          "text": [
            "Sensitivity for Setosa:  1.0\n",
            "Specificity for Setosa :  1.0\n"
          ]
        }
      ]
    },
    {
      "cell_type": "markdown",
      "source": [
        "For Versicolor"
      ],
      "metadata": {
        "id": "aQ0eHqnlXVZG"
      }
    },
    {
      "cell_type": "code",
      "source": [
        "tp=cm[1,1]\n",
        "fn=cm[1,0]+cm[1,2]\n",
        "fp=cm[0,1]+cm[2,1]\n",
        "tn=cm[0,0]+cm[0,2]+cm[2,0]+cm[2,2]"
      ],
      "metadata": {
        "id": "frqwKVSyXXPd"
      },
      "execution_count": 42,
      "outputs": []
    },
    {
      "cell_type": "code",
      "source": [
        "sensitivity = tp/(tp+fn)\n",
        "print('Sensitivity for Versicolor: ', sensitivity )\n",
        "\n",
        "specificity = tn/(tn+fp)\n",
        "print('Specificity for Versicolor: ', specificity)"
      ],
      "metadata": {
        "colab": {
          "base_uri": "https://localhost:8080/"
        },
        "id": "87LACf3SXWm8",
        "outputId": "5e0d9d0f-8aed-41e9-9506-b6db5341ce79"
      },
      "execution_count": 43,
      "outputs": [
        {
          "output_type": "stream",
          "name": "stdout",
          "text": [
            "Sensitivity for Versicolor:  1.0\n",
            "Specificity for Versicolor:  1.0\n"
          ]
        }
      ]
    },
    {
      "cell_type": "markdown",
      "source": [
        "For Virginia"
      ],
      "metadata": {
        "id": "RjKDLsEfXXiX"
      }
    },
    {
      "cell_type": "code",
      "source": [
        "tp=cm[2,2]\n",
        "fn=cm[2,0]+cm[2,1]\n",
        "fp=cm[0,2]+cm[1,2]\n",
        "tn=cm[0,0]+cm[0,1]+cm[1,0]+cm[1,1]"
      ],
      "metadata": {
        "id": "vEntkTwBXYxf"
      },
      "execution_count": 44,
      "outputs": []
    },
    {
      "cell_type": "code",
      "source": [
        "sensitivity = tp/(tp+fn)\n",
        "print('Sensitivity for Virginia: ', sensitivity )\n",
        "\n",
        "specificity = tn/(tn+fp)\n",
        "print('Specificity for Virginia: ', specificity)"
      ],
      "metadata": {
        "colab": {
          "base_uri": "https://localhost:8080/"
        },
        "id": "1-l3c0drXpTt",
        "outputId": "d6ce545a-4748-4925-e69a-9673616efbc2"
      },
      "execution_count": 45,
      "outputs": [
        {
          "output_type": "stream",
          "name": "stdout",
          "text": [
            "Sensitivity for Virginia:  1.0\n",
            "Specificity for Virginia:  1.0\n"
          ]
        }
      ]
    },
    {
      "cell_type": "markdown",
      "source": [
        "**AUROC Score- Polynomial Kernal**"
      ],
      "metadata": {
        "id": "tpllvkGTXtmT"
      }
    },
    {
      "cell_type": "code",
      "source": [
        "test_num=list()\n",
        "for i in Test['Species']:\n",
        "  if i=='setosa':\n",
        "    test_num.append(1)\n",
        "  elif i=='versicolor':\n",
        "    test_num.append(2)\n",
        "  elif i=='virginia':\n",
        "    test_num.append(3)\n",
        "\n",
        "pred_num=list()\n",
        "for i in Test['Species']:\n",
        "  if i=='setosa':\n",
        "    pred_num.append(1)\n",
        "  elif i=='versicolor':\n",
        "    pred_num.append(2)\n",
        "  elif i=='virginia':\n",
        "    pred_num.append(3)"
      ],
      "metadata": {
        "id": "jeKYRs5rkm53"
      },
      "execution_count": 46,
      "outputs": []
    },
    {
      "cell_type": "code",
      "source": [
        "print('AUROC Score: ',roc_auc_score(test_num,pred_num,multi_class='ovr'))"
      ],
      "metadata": {
        "colab": {
          "base_uri": "https://localhost:8080/"
        },
        "id": "uijbGHFHXs1O",
        "outputId": "0aa5b3a2-5aeb-4f52-be17-765975e5f0db"
      },
      "execution_count": 47,
      "outputs": [
        {
          "output_type": "stream",
          "name": "stdout",
          "text": [
            "AUROC Score:  1.0\n"
          ]
        }
      ]
    },
    {
      "cell_type": "markdown",
      "source": [
        "**ROC Curve- Polynomial Kernal**"
      ],
      "metadata": {
        "id": "tm64JC79X2aG"
      }
    },
    {
      "cell_type": "code",
      "source": [
        "#plt.figure()\n",
        "#plt.plot(roc_curve(Test[\"Species\"],pred_test))\n",
        "#plt.title(\"ROC Curve for Linear Kernal\")"
      ],
      "metadata": {
        "id": "WzSp2qDXX19_"
      },
      "execution_count": 48,
      "outputs": []
    },
    {
      "cell_type": "markdown",
      "source": [
        "# RBF Kernal"
      ],
      "metadata": {
        "id": "lU-Gxjl3YCGp"
      }
    },
    {
      "cell_type": "code",
      "source": [
        "kernel = ['rbf']\n",
        "C = [0.001,0.01,1,10,100]\n",
        "gamma = [0.1,1,10]"
      ],
      "metadata": {
        "id": "H-_zEAygX9um"
      },
      "execution_count": 49,
      "outputs": []
    },
    {
      "cell_type": "code",
      "source": [
        "grid = dict(kernel=kernel,C=C,gamma=gamma)\n",
        "cv = 2\n",
        "grid_search = GridSearchCV(estimator=SVC(), param_grid=grid, n_jobs=-1, cv=cv, scoring='accuracy',error_score=0)\n",
        "grid_result = grid_search.fit(Validation[[\"Sepal Length\",\"Sepal Width\",\"Petal Length\",\"Petal Width\"]], Validation[[\"Species\"]])"
      ],
      "metadata": {
        "colab": {
          "base_uri": "https://localhost:8080/"
        },
        "id": "Gd3OvexwYKZW",
        "outputId": "4fb31f94-6ef4-4171-8342-bfe4ae2100d4"
      },
      "execution_count": 50,
      "outputs": [
        {
          "output_type": "stream",
          "name": "stderr",
          "text": [
            "/usr/local/lib/python3.7/dist-packages/sklearn/utils/validation.py:993: DataConversionWarning: A column-vector y was passed when a 1d array was expected. Please change the shape of y to (n_samples, ), for example using ravel().\n",
            "  y = column_or_1d(y, warn=True)\n"
          ]
        }
      ]
    },
    {
      "cell_type": "code",
      "source": [
        "print(\"Best: \\n Accuracy %f using prameters: %s\" % (grid_result.best_score_, grid_result.best_params_))"
      ],
      "metadata": {
        "colab": {
          "base_uri": "https://localhost:8080/"
        },
        "id": "x-JJRJREYMUA",
        "outputId": "7192efb1-185b-4086-a7b3-c70cd9af9aca"
      },
      "execution_count": 51,
      "outputs": [
        {
          "output_type": "stream",
          "name": "stdout",
          "text": [
            "Best: \n",
            " Accuracy 0.937500 using prameters: {'C': 1, 'gamma': 1, 'kernel': 'rbf'}\n"
          ]
        }
      ]
    },
    {
      "cell_type": "code",
      "source": [
        "means = grid_result.cv_results_['mean_test_score']\n",
        "stds = grid_result.cv_results_['std_test_score']\n",
        "params = grid_result.cv_results_['params']\n",
        "rbf_grid = {'accuracy':[],'params':[]}"
      ],
      "metadata": {
        "id": "ZcbdtwgLYTXY"
      },
      "execution_count": 52,
      "outputs": []
    },
    {
      "cell_type": "code",
      "source": [
        "for mean, stdev, param in zip(means, stds, params):\n",
        "  print(\"%f with: %r\" % (mean, param))\n",
        "  if param['kernel']=='rbf':\n",
        "    rbf_grid['accuracy'].append(mean)\n",
        "    rbf_grid['params'].append(param['C'])"
      ],
      "metadata": {
        "colab": {
          "base_uri": "https://localhost:8080/"
        },
        "id": "sybSY4e-YYKy",
        "outputId": "77e66b65-af4a-4717-f62a-87a09dc39d49"
      },
      "execution_count": 53,
      "outputs": [
        {
          "output_type": "stream",
          "name": "stdout",
          "text": [
            "0.625000 with: {'C': 0.001, 'gamma': 0.1, 'kernel': 'rbf'}\n",
            "0.625000 with: {'C': 0.001, 'gamma': 1, 'kernel': 'rbf'}\n",
            "0.562500 with: {'C': 0.001, 'gamma': 10, 'kernel': 'rbf'}\n",
            "0.625000 with: {'C': 0.01, 'gamma': 0.1, 'kernel': 'rbf'}\n",
            "0.625000 with: {'C': 0.01, 'gamma': 1, 'kernel': 'rbf'}\n",
            "0.562500 with: {'C': 0.01, 'gamma': 10, 'kernel': 'rbf'}\n",
            "0.812500 with: {'C': 1, 'gamma': 0.1, 'kernel': 'rbf'}\n",
            "0.937500 with: {'C': 1, 'gamma': 1, 'kernel': 'rbf'}\n",
            "0.562500 with: {'C': 1, 'gamma': 10, 'kernel': 'rbf'}\n",
            "0.937500 with: {'C': 10, 'gamma': 0.1, 'kernel': 'rbf'}\n",
            "0.937500 with: {'C': 10, 'gamma': 1, 'kernel': 'rbf'}\n",
            "0.625000 with: {'C': 10, 'gamma': 10, 'kernel': 'rbf'}\n",
            "0.937500 with: {'C': 100, 'gamma': 0.1, 'kernel': 'rbf'}\n",
            "0.937500 with: {'C': 100, 'gamma': 1, 'kernel': 'rbf'}\n",
            "0.625000 with: {'C': 100, 'gamma': 10, 'kernel': 'rbf'}\n"
          ]
        }
      ]
    },
    {
      "cell_type": "code",
      "source": [
        "test_grid = dict(kernel = [grid_result.best_params_['kernel']], C = [grid_result.best_params_['C']], gamma = [grid_result.best_params_['gamma']])\n",
        "test_grid_search = GridSearchCV(estimator=SVC(), param_grid=test_grid, n_jobs=-1, cv=2, scoring='accuracy',error_score=0)\n",
        "test_grid_result = test_grid_search.fit(Validation[[\"Sepal Length\",\"Sepal Width\",\"Petal Length\",\"Petal Width\"]], Validation[[\"Species\"]])\n",
        "pred_test = test_grid_result.predict(Test[[\"Sepal Length\",\"Sepal Width\",\"Petal Length\",\"Petal Width\"]])\n",
        "print(\"Accuracy on best parameters from RBF kernel: \",test_grid_result.score(Test[[\"Sepal Length\",\"Sepal Width\",\"Petal Length\",\"Petal Width\"]], Test[[\"Species\"]]))"
      ],
      "metadata": {
        "colab": {
          "base_uri": "https://localhost:8080/"
        },
        "id": "iJzqoYZmYfDz",
        "outputId": "5ce60d85-d361-4d13-c855-e3e9f11516b5"
      },
      "execution_count": 54,
      "outputs": [
        {
          "output_type": "stream",
          "name": "stdout",
          "text": [
            "Accuracy on best parameters from RBF kernel:  0.9333333333333333\n"
          ]
        },
        {
          "output_type": "stream",
          "name": "stderr",
          "text": [
            "/usr/local/lib/python3.7/dist-packages/sklearn/utils/validation.py:993: DataConversionWarning: A column-vector y was passed when a 1d array was expected. Please change the shape of y to (n_samples, ), for example using ravel().\n",
            "  y = column_or_1d(y, warn=True)\n"
          ]
        }
      ]
    },
    {
      "cell_type": "markdown",
      "source": [
        "**Accuracy-RBF Kernal**"
      ],
      "metadata": {
        "id": "B0BK0LQNYzaF"
      }
    },
    {
      "cell_type": "code",
      "source": [
        "plt.figure()\n",
        "plt.plot(rbf_grid['params'],rbf_grid['accuracy'])\n",
        "plt.xlim([0,1])\n",
        "plt.title(\"Accuracy vs hyperparameters for polynomial kernel\")"
      ],
      "metadata": {
        "colab": {
          "base_uri": "https://localhost:8080/",
          "height": 298
        },
        "id": "VHUvZ8jpYsur",
        "outputId": "c086e6b1-f274-4448-c33b-78ab3ef242c1"
      },
      "execution_count": 55,
      "outputs": [
        {
          "output_type": "execute_result",
          "data": {
            "text/plain": [
              "Text(0.5, 1.0, 'Accuracy vs hyperparameters for polynomial kernel')"
            ]
          },
          "metadata": {},
          "execution_count": 55
        },
        {
          "output_type": "display_data",
          "data": {
            "text/plain": [
              "<Figure size 432x288 with 1 Axes>"
            ],
            "image/png": "[encoded data removed]"
          },
          "metadata": {
            "needs_background": "light"
          }
        }
      ]
    },
    {
      "cell_type": "markdown",
      "source": [
        "**Confusion Matrix-RBF Kernal**"
      ],
      "metadata": {
        "id": "qQfU3-ZjY2--"
      }
    },
    {
      "cell_type": "code",
      "source": [
        "cm=confusion_matrix(Test[\"Species\"],pred_test)\n",
        "print(\"Confusion matrix :\\n\",cm)\n",
        "disp_rbf = ConfusionMatrixDisplay(cm)\n",
        "disp_rbf.plot()\n",
        "plt.show()"
      ],
      "metadata": {
        "colab": {
          "base_uri": "https://localhost:8080/",
          "height": 352
        },
        "id": "DNYrGLtMY14T",
        "outputId": "3b9e78bd-8db5-41af-e23a-5cf7967e1a6e"
      },
      "execution_count": 56,
      "outputs": [
        {
          "output_type": "stream",
          "name": "stdout",
          "text": [
            "Confusion matrix :\n",
            " [[7 0 0]\n",
            " [0 4 0]\n",
            " [0 1 3]]\n"
          ]
        },
        {
          "output_type": "display_data",
          "data": {
            "text/plain": [
              "<Figure size 432x288 with 2 Axes>"
            ],
            "image/png": "[encoded data removed]"
          },
          "metadata": {
            "needs_background": "light"
          }
        }
      ]
    },
    {
      "cell_type": "markdown",
      "source": [
        "**Sensitivity and Specificity-RBF Kernal**"
      ],
      "metadata": {
        "id": "QPvFi4DHZktX"
      }
    },
    {
      "cell_type": "markdown",
      "source": [
        "For Setosa"
      ],
      "metadata": {
        "id": "Vibp5LdOZpal"
      }
    },
    {
      "cell_type": "code",
      "source": [
        "tp=cm[0,0]\n",
        "fn=cm[0,1]+cm[0,2]\n",
        "fp=cm[1,0]+cm[2,0]\n",
        "tn=cm[1,1]+cm[1,2]+cm[2,1]+cm[2,2]"
      ],
      "metadata": {
        "id": "zr1Jqww3ZgBC"
      },
      "execution_count": 57,
      "outputs": []
    },
    {
      "cell_type": "code",
      "source": [
        "sensitivity = tp/(tp+fn)\n",
        "print('Sensitivity for Setosa: ', sensitivity )\n",
        "\n",
        "specificity = tn/(tn+fp)\n",
        "print('Specificity for Setosa : ', specificity)"
      ],
      "metadata": {
        "colab": {
          "base_uri": "https://localhost:8080/"
        },
        "id": "4p3vO9fTZqz6",
        "outputId": "24d51eca-7cbf-4660-9bd1-c6053f43fbf6"
      },
      "execution_count": 58,
      "outputs": [
        {
          "output_type": "stream",
          "name": "stdout",
          "text": [
            "Sensitivity for Setosa:  1.0\n",
            "Specificity for Setosa :  1.0\n"
          ]
        }
      ]
    },
    {
      "cell_type": "markdown",
      "source": [
        "For Versicolor"
      ],
      "metadata": {
        "id": "sZdvU24RZsRl"
      }
    },
    {
      "cell_type": "code",
      "source": [
        "tp=cm[1,1]\n",
        "fn=cm[1,0]+cm[1,2]\n",
        "fp=cm[0,1]+cm[2,1]\n",
        "tn=cm[0,0]+cm[0,2]+cm[2,0]+cm[2,2]"
      ],
      "metadata": {
        "id": "4PpCXQERZvrN"
      },
      "execution_count": 59,
      "outputs": []
    },
    {
      "cell_type": "code",
      "source": [
        "sensitivity = tp/(tp+fn)\n",
        "print('Sensitivity for Versicolor: ', sensitivity )\n",
        "\n",
        "specificity = tn/(tn+fp)\n",
        "print('Specificity for Versicolor : ', specificity)"
      ],
      "metadata": {
        "colab": {
          "base_uri": "https://localhost:8080/"
        },
        "id": "V2_xsjAdZraq",
        "outputId": "994803cc-0e73-42f4-a035-aab1aad20a5c"
      },
      "execution_count": 60,
      "outputs": [
        {
          "output_type": "stream",
          "name": "stdout",
          "text": [
            "Sensitivity for Versicolor:  1.0\n",
            "Specificity for Versicolor :  0.9090909090909091\n"
          ]
        }
      ]
    },
    {
      "cell_type": "markdown",
      "source": [
        "For Virginia"
      ],
      "metadata": {
        "id": "qOFU0l0VZwBF"
      }
    },
    {
      "cell_type": "code",
      "source": [
        "tp=cm[2,2]\n",
        "fn=cm[2,0]+cm[2,1]\n",
        "fp=cm[0,2]+cm[1,2]\n",
        "tn=cm[0,0]+cm[0,1]+cm[1,0]+cm[1,1]"
      ],
      "metadata": {
        "id": "biQqDB2IZzTM"
      },
      "execution_count": 61,
      "outputs": []
    },
    {
      "cell_type": "code",
      "source": [
        "sensitivity = tp/(tp+fn)\n",
        "print('Sensitivity for Virginia: ', sensitivity )\n",
        "\n",
        "specificity = tn/(tn+fp)\n",
        "print('Specificity for Virginia : ', specificity)"
      ],
      "metadata": {
        "colab": {
          "base_uri": "https://localhost:8080/"
        },
        "id": "mh9Azv2WZz7t",
        "outputId": "67aa510e-76eb-4283-c783-5334eafe37aa"
      },
      "execution_count": 62,
      "outputs": [
        {
          "output_type": "stream",
          "name": "stdout",
          "text": [
            "Sensitivity for Virginia:  0.75\n",
            "Specificity for Virginia :  1.0\n"
          ]
        }
      ]
    },
    {
      "cell_type": "markdown",
      "source": [
        "**AUROC Score-RBF Kernal**"
      ],
      "metadata": {
        "id": "9Qg5hZLBaFP1"
      }
    },
    {
      "cell_type": "code",
      "source": [
        "test_num=list()\n",
        "for i in Test['Species']:\n",
        "  if i=='setosa':\n",
        "    test_num.append(1)\n",
        "  elif i=='versicolor':\n",
        "    test_num.append(2)\n",
        "  elif i=='virginia':\n",
        "    test_num.append(3)\n",
        "\n",
        "pred_num=list()\n",
        "for i in Test['Species']:\n",
        "  if i=='setosa':\n",
        "    pred_num.append(1)\n",
        "  elif i=='versicolor':\n",
        "    pred_num.append(2)\n",
        "  elif i=='virginia':\n",
        "    pred_num.append(3)"
      ],
      "metadata": {
        "id": "jEjvagjbenr5"
      },
      "execution_count": 63,
      "outputs": []
    },
    {
      "cell_type": "code",
      "source": [
        "print('AUROC Score: ',roc_auc_score(test_num,pred_num,multi_class='ovr'))"
      ],
      "metadata": {
        "colab": {
          "base_uri": "https://localhost:8080/"
        },
        "id": "1l5LV-GQaEVP",
        "outputId": "19f0f2b6-95aa-468a-dec7-3f50d4aff6ce"
      },
      "execution_count": 64,
      "outputs": [
        {
          "output_type": "stream",
          "name": "stdout",
          "text": [
            "AUROC Score:  1.0\n"
          ]
        }
      ]
    },
    {
      "cell_type": "markdown",
      "source": [
        "ROC Curve-RBF Kernal"
      ],
      "metadata": {
        "id": "zGTJd-rNaLCl"
      }
    },
    {
      "cell_type": "code",
      "source": [
        "#plt.figure()\n",
        "#plt.plot(roc_curve(Test[\"Species\"],pred_test))\n",
        "#plt.title(\"ROC Curve for Linear Kernal\")"
      ],
      "metadata": {
        "id": "OssYgIi6aeev"
      },
      "execution_count": 65,
      "outputs": []
    },
    {
      "cell_type": "code",
      "source": [],
      "metadata": {
        "id": "1RPR7ijbkiak"
      },
      "execution_count": 65,
      "outputs": []
    }
  ]
}