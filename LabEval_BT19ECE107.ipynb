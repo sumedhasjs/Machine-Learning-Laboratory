{
  "nbformat": 4,
  "nbformat_minor": 0,
  "metadata": {
    "colab": {
      "provenance": [],
      "authorship_tag": "ABX9TyMHt9WoyubwiNVlceMxs6kQ",
      "include_colab_link": true
    },
    "kernelspec": {
      "name": "python3",
      "display_name": "Python 3"
    },
    "language_info": {
      "name": "python"
    }
  },
  "cells": [
    {
      "cell_type": "markdown",
      "metadata": {
        "id": "view-in-github",
        "colab_type": "text"
      },
      "source": [
        "<a href=\"https://colab.research.google.com/github/sumedhasjs/Machine-Learning-Laboratory/blob/main/LabEval_BT19ECE107.ipynb\" target=\"_parent\"><img src=\"https://colab.research.google.com/assets/colab-badge.svg\" alt=\"Open In Colab\"/></a>"
      ]
    },
    {
      "cell_type": "markdown",
      "source": [
        "# Opening location of Dataset"
      ],
      "metadata": {
        "id": "YI45094k2TMX"
      }
    },
    {
      "cell_type": "code",
      "execution_count": 2,
      "metadata": {
        "id": "_JuQcRBi0aPX",
        "colab": {
          "base_uri": "https://localhost:8080/"
        },
        "outputId": "ec6b0e4c-c25d-443f-83ae-1728fefc192d"
      },
      "outputs": [
        {
          "output_type": "stream",
          "name": "stdout",
          "text": [
            "Drive already mounted at /content/gdrive; to attempt to forcibly remount, call drive.mount(\"/content/gdrive\", force_remount=True).\n"
          ]
        }
      ],
      "source": [
        "from google.colab import drive\n",
        "drive.mount('/content/gdrive')"
      ]
    },
    {
      "cell_type": "code",
      "source": [
        "%cd 'gdrive/MyDrive/ML Lab Datasets'"
      ],
      "metadata": {
        "colab": {
          "base_uri": "https://localhost:8080/"
        },
        "id": "FTHpNV8B2YnH",
        "outputId": "358dedfd-7d70-4166-e1b1-9e510f6a3bc7"
      },
      "execution_count": 3,
      "outputs": [
        {
          "output_type": "stream",
          "name": "stdout",
          "text": [
            "/content/gdrive/MyDrive/ML Lab Datasets\n"
          ]
        }
      ]
    },
    {
      "cell_type": "markdown",
      "source": [
        "# Importing the Required libraries"
      ],
      "metadata": {
        "id": "ILjut75A2SIQ"
      }
    },
    {
      "cell_type": "code",
      "source": [
        "import numpy as np\n",
        "import matplotlib.pyplot as plt\n",
        "import pandas as pd\n",
        "from sklearn.model_selection import train_test_split\n",
        "from sklearn.metrics import accuracy_score,confusion_matrix,ConfusionMatrixDisplay\n",
        "from sklearn.metrics import roc_curve, roc_auc_score \n",
        "import tensorflow as tf\n",
        "import torch\n",
        "from torch import nn\n",
        "from torch.utils.data import DataLoader\n",
        "from torchvision import datasets,transforms\n",
        "from torch import optim\n",
        "from tqdm import tqdm\n",
        "import random\n",
        "import math\n",
        "from sklearn.svm import SVC\n",
        "from sklearn.metrics import RocCurveDisplay"
      ],
      "metadata": {
        "id": "kW_C863P3CCA"
      },
      "execution_count": 223,
      "outputs": []
    },
    {
      "cell_type": "markdown",
      "source": [
        "# **Importing and Preprocessing the dataset**"
      ],
      "metadata": {
        "id": "6RZ0xhZr3Lgt"
      }
    },
    {
      "cell_type": "code",
      "source": [
        "data=pd.read_csv('diagnosis.csv')"
      ],
      "metadata": {
        "id": "Pp6rkopD3Jw2"
      },
      "execution_count": 5,
      "outputs": []
    },
    {
      "cell_type": "code",
      "source": [
        "data.head()"
      ],
      "metadata": {
        "colab": {
          "base_uri": "https://localhost:8080/",
          "height": 300
        },
        "id": "NFgwPREz3eCP",
        "outputId": "8a444a84-7f60-420a-8bd2-e740db0ee6b8"
      },
      "execution_count": 8,
      "outputs": [
        {
          "output_type": "execute_result",
          "data": {
            "text/plain": [
              "         id  radius_mean  texture_mean  perimeter_mean  area_mean  \\\n",
              "0  87139402        12.32         12.39           78.85      464.1   \n",
              "1   8910251        10.60         18.95           69.28      346.4   \n",
              "2    905520        11.04         16.83           70.92      373.2   \n",
              "3    868871        11.28         13.39           73.00      384.8   \n",
              "4   9012568        15.19         13.21           97.65      711.8   \n",
              "\n",
              "   smoothness_mean  compactness_mean  concavity_mean  points_mean  \\\n",
              "0          0.10280           0.06981         0.03987      0.03700   \n",
              "1          0.09688           0.11470         0.06387      0.02642   \n",
              "2          0.10770           0.07804         0.03046      0.02480   \n",
              "3          0.11640           0.11360         0.04635      0.04796   \n",
              "4          0.07963           0.06934         0.03393      0.02657   \n",
              "\n",
              "   symmetry_mean  ...  texture_worst  perimeter_worst  area_worst  \\\n",
              "0         0.1959  ...          15.64            86.97       549.1   \n",
              "1         0.1922  ...          22.94            78.28       424.8   \n",
              "2         0.1714  ...          26.44            79.93       471.4   \n",
              "3         0.1771  ...          15.77            76.53       434.0   \n",
              "4         0.1721  ...          15.73           104.50       819.1   \n",
              "\n",
              "   smoothness_worst  compactness_worst  concavity_worst  points_worst  \\\n",
              "0            0.1385             0.1266          0.12420       0.09391   \n",
              "1            0.1213             0.2515          0.19160       0.07926   \n",
              "2            0.1369             0.1482          0.10670       0.07431   \n",
              "3            0.1367             0.1822          0.08669       0.08611   \n",
              "4            0.1126             0.1737          0.13620       0.08178   \n",
              "\n",
              "   symmetry_worst  dimension_worst  diagnosis  \n",
              "0          0.2827          0.06771          0  \n",
              "1          0.2940          0.07587          0  \n",
              "2          0.2998          0.07881          0  \n",
              "3          0.2102          0.06784          0  \n",
              "4          0.2487          0.06766          0  \n",
              "\n",
              "[5 rows x 32 columns]"
            ],
            "text/html": [
              "\n",
              "  <div id=\"df-e1e7fa29-0c15-4750-8a02-1f74aa52c0cf\">\n",
              "    <div class=\"colab-df-container\">\n",
              "      <div>\n",
              "<style scoped>\n",
              "    .dataframe tbody tr th:only-of-type {\n",
              "        vertical-align: middle;\n",
              "    }\n",
              "\n",
              "    .dataframe tbody tr th {\n",
              "        vertical-align: top;\n",
              "    }\n",
              "\n",
              "    .dataframe thead th {\n",
              "        text-align: right;\n",
              "    }\n",
              "</style>\n",
              "<table border=\"1\" class=\"dataframe\">\n",
              "  <thead>\n",
              "    <tr style=\"text-align: right;\">\n",
              "      <th></th>\n",
              "      <th>id</th>\n",
              "      <th>radius_mean</th>\n",
              "      <th>texture_mean</th>\n",
              "      <th>perimeter_mean</th>\n",
              "      <th>area_mean</th>\n",
              "      <th>smoothness_mean</th>\n",
              "      <th>compactness_mean</th>\n",
              "      <th>concavity_mean</th>\n",
              "      <th>points_mean</th>\n",
              "      <th>symmetry_mean</th>\n",
              "      <th>...</th>\n",
              "      <th>texture_worst</th>\n",
              "      <th>perimeter_worst</th>\n",
              "      <th>area_worst</th>\n",
              "      <th>smoothness_worst</th>\n",
              "      <th>compactness_worst</th>\n",
              "      <th>concavity_worst</th>\n",
              "      <th>points_worst</th>\n",
              "      <th>symmetry_worst</th>\n",
              "      <th>dimension_worst</th>\n",
              "      <th>diagnosis</th>\n",
              "    </tr>\n",
              "  </thead>\n",
              "  <tbody>\n",
              "    <tr>\n",
              "      <th>0</th>\n",
              "      <td>87139402</td>\n",
              "      <td>12.32</td>\n",
              "      <td>12.39</td>\n",
              "      <td>78.85</td>\n",
              "      <td>464.1</td>\n",
              "      <td>0.10280</td>\n",
              "      <td>0.06981</td>\n",
              "      <td>0.03987</td>\n",
              "      <td>0.03700</td>\n",
              "      <td>0.1959</td>\n",
              "      <td>...</td>\n",
              "      <td>15.64</td>\n",
              "      <td>86.97</td>\n",
              "      <td>549.1</td>\n",
              "      <td>0.1385</td>\n",
              "      <td>0.1266</td>\n",
              "      <td>0.12420</td>\n",
              "      <td>0.09391</td>\n",
              "      <td>0.2827</td>\n",
              "      <td>0.06771</td>\n",
              "      <td>0</td>\n",
              "    </tr>\n",
              "    <tr>\n",
              "      <th>1</th>\n",
              "      <td>8910251</td>\n",
              "      <td>10.60</td>\n",
              "      <td>18.95</td>\n",
              "      <td>69.28</td>\n",
              "      <td>346.4</td>\n",
              "      <td>0.09688</td>\n",
              "      <td>0.11470</td>\n",
              "      <td>0.06387</td>\n",
              "      <td>0.02642</td>\n",
              "      <td>0.1922</td>\n",
              "      <td>...</td>\n",
              "      <td>22.94</td>\n",
              "      <td>78.28</td>\n",
              "      <td>424.8</td>\n",
              "      <td>0.1213</td>\n",
              "      <td>0.2515</td>\n",
              "      <td>0.19160</td>\n",
              "      <td>0.07926</td>\n",
              "      <td>0.2940</td>\n",
              "      <td>0.07587</td>\n",
              "      <td>0</td>\n",
              "    </tr>\n",
              "    <tr>\n",
              "      <th>2</th>\n",
              "      <td>905520</td>\n",
              "      <td>11.04</td>\n",
              "      <td>16.83</td>\n",
              "      <td>70.92</td>\n",
              "      <td>373.2</td>\n",
              "      <td>0.10770</td>\n",
              "      <td>0.07804</td>\n",
              "      <td>0.03046</td>\n",
              "      <td>0.02480</td>\n",
              "      <td>0.1714</td>\n",
              "      <td>...</td>\n",
              "      <td>26.44</td>\n",
              "      <td>79.93</td>\n",
              "      <td>471.4</td>\n",
              "      <td>0.1369</td>\n",
              "      <td>0.1482</td>\n",
              "      <td>0.10670</td>\n",
              "      <td>0.07431</td>\n",
              "      <td>0.2998</td>\n",
              "      <td>0.07881</td>\n",
              "      <td>0</td>\n",
              "    </tr>\n",
              "    <tr>\n",
              "      <th>3</th>\n",
              "      <td>868871</td>\n",
              "      <td>11.28</td>\n",
              "      <td>13.39</td>\n",
              "      <td>73.00</td>\n",
              "      <td>384.8</td>\n",
              "      <td>0.11640</td>\n",
              "      <td>0.11360</td>\n",
              "      <td>0.04635</td>\n",
              "      <td>0.04796</td>\n",
              "      <td>0.1771</td>\n",
              "      <td>...</td>\n",
              "      <td>15.77</td>\n",
              "      <td>76.53</td>\n",
              "      <td>434.0</td>\n",
              "      <td>0.1367</td>\n",
              "      <td>0.1822</td>\n",
              "      <td>0.08669</td>\n",
              "      <td>0.08611</td>\n",
              "      <td>0.2102</td>\n",
              "      <td>0.06784</td>\n",
              "      <td>0</td>\n",
              "    </tr>\n",
              "    <tr>\n",
              "      <th>4</th>\n",
              "      <td>9012568</td>\n",
              "      <td>15.19</td>\n",
              "      <td>13.21</td>\n",
              "      <td>97.65</td>\n",
              "      <td>711.8</td>\n",
              "      <td>0.07963</td>\n",
              "      <td>0.06934</td>\n",
              "      <td>0.03393</td>\n",
              "      <td>0.02657</td>\n",
              "      <td>0.1721</td>\n",
              "      <td>...</td>\n",
              "      <td>15.73</td>\n",
              "      <td>104.50</td>\n",
              "      <td>819.1</td>\n",
              "      <td>0.1126</td>\n",
              "      <td>0.1737</td>\n",
              "      <td>0.13620</td>\n",
              "      <td>0.08178</td>\n",
              "      <td>0.2487</td>\n",
              "      <td>0.06766</td>\n",
              "      <td>0</td>\n",
              "    </tr>\n",
              "  </tbody>\n",
              "</table>\n",
              "<p>5 rows × 32 columns</p>\n",
              "</div>\n",
              "      <button class=\"colab-df-convert\" onclick=\"convertToInteractive('df-e1e7fa29-0c15-4750-8a02-1f74aa52c0cf')\"\n",
              "              title=\"Convert this dataframe to an interactive table.\"\n",
              "              style=\"display:none;\">\n",
              "        \n",
              "  <svg xmlns=\"http://www.w3.org/2000/svg\" height=\"24px\"viewBox=\"0 0 24 24\"\n",
              "       width=\"24px\">\n",
              "    <path d=\"M0 0h24v24H0V0z\" fill=\"none\"/>\n",
              "    <path d=\"M18.56 5.44l.94 2.06.94-2.06 2.06-.94-2.06-.94-.94-2.06-.94 2.06-2.06.94zm-11 1L8.5 8.5l.94-2.06 2.06-.94-2.06-.94L8.5 2.5l-.94 2.06-2.06.94zm10 10l.94 2.06.94-2.06 2.06-.94-2.06-.94-.94-2.06-.94 2.06-2.06.94z\"/><path d=\"M17.41 7.96l-1.37-1.37c-.4-.4-.92-.59-1.43-.59-.52 0-1.04.2-1.43.59L10.3 9.45l-7.72 7.72c-.78.78-.78 2.05 0 2.83L4 21.41c.39.39.9.59 1.41.59.51 0 1.02-.2 1.41-.59l7.78-7.78 2.81-2.81c.8-.78.8-2.07 0-2.86zM5.41 20L4 18.59l7.72-7.72 1.47 1.35L5.41 20z\"/>\n",
              "  </svg>\n",
              "      </button>\n",
              "      \n",
              "  <style>\n",
              "    .colab-df-container {\n",
              "      display:flex;\n",
              "      flex-wrap:wrap;\n",
              "      gap: 12px;\n",
              "    }\n",
              "\n",
              "    .colab-df-convert {\n",
              "      background-color: #E8F0FE;\n",
              "      border: none;\n",
              "      border-radius: 50%;\n",
              "      cursor: pointer;\n",
              "      display: none;\n",
              "      fill: #1967D2;\n",
              "      height: 32px;\n",
              "      padding: 0 0 0 0;\n",
              "      width: 32px;\n",
              "    }\n",
              "\n",
              "    .colab-df-convert:hover {\n",
              "      background-color: #E2EBFA;\n",
              "      box-shadow: 0px 1px 2px rgba(60, 64, 67, 0.3), 0px 1px 3px 1px rgba(60, 64, 67, 0.15);\n",
              "      fill: #174EA6;\n",
              "    }\n",
              "\n",
              "    [theme=dark] .colab-df-convert {\n",
              "      background-color: #3B4455;\n",
              "      fill: #D2E3FC;\n",
              "    }\n",
              "\n",
              "    [theme=dark] .colab-df-convert:hover {\n",
              "      background-color: #434B5C;\n",
              "      box-shadow: 0px 1px 3px 1px rgba(0, 0, 0, 0.15);\n",
              "      filter: drop-shadow(0px 1px 2px rgba(0, 0, 0, 0.3));\n",
              "      fill: #FFFFFF;\n",
              "    }\n",
              "  </style>\n",
              "\n",
              "      <script>\n",
              "        const buttonEl =\n",
              "          document.querySelector('#df-e1e7fa29-0c15-4750-8a02-1f74aa52c0cf button.colab-df-convert');\n",
              "        buttonEl.style.display =\n",
              "          google.colab.kernel.accessAllowed ? 'block' : 'none';\n",
              "\n",
              "        async function convertToInteractive(key) {\n",
              "          const element = document.querySelector('#df-e1e7fa29-0c15-4750-8a02-1f74aa52c0cf');\n",
              "          const dataTable =\n",
              "            await google.colab.kernel.invokeFunction('convertToInteractive',\n",
              "                                                     [key], {});\n",
              "          if (!dataTable) return;\n",
              "\n",
              "          const docLinkHtml = 'Like what you see? Visit the ' +\n",
              "            '<a target=\"_blank\" href=https://colab.research.google.com/notebooks/data_table.ipynb>data table notebook</a>'\n",
              "            + ' to learn more about interactive tables.';\n",
              "          element.innerHTML = '';\n",
              "          dataTable['output_type'] = 'display_data';\n",
              "          await google.colab.output.renderOutput(dataTable, element);\n",
              "          const docLink = document.createElement('div');\n",
              "          docLink.innerHTML = docLinkHtml;\n",
              "          element.appendChild(docLink);\n",
              "        }\n",
              "      </script>\n",
              "    </div>\n",
              "  </div>\n",
              "  "
            ]
          },
          "metadata": {},
          "execution_count": 8
        }
      ]
    },
    {
      "cell_type": "code",
      "source": [
        "data_x= data.iloc[: , 1:-1]\n",
        "data_x.head()"
      ],
      "metadata": {
        "colab": {
          "base_uri": "https://localhost:8080/",
          "height": 300
        },
        "id": "TOXkBX9V6JV-",
        "outputId": "bdf2ce02-4e41-40bb-b0c0-424f05dc0b66"
      },
      "execution_count": 27,
      "outputs": [
        {
          "output_type": "execute_result",
          "data": {
            "text/plain": [
              "   radius_mean  texture_mean  perimeter_mean  area_mean  smoothness_mean  \\\n",
              "0        12.32         12.39           78.85      464.1          0.10280   \n",
              "1        10.60         18.95           69.28      346.4          0.09688   \n",
              "2        11.04         16.83           70.92      373.2          0.10770   \n",
              "3        11.28         13.39           73.00      384.8          0.11640   \n",
              "4        15.19         13.21           97.65      711.8          0.07963   \n",
              "\n",
              "   compactness_mean  concavity_mean  points_mean  symmetry_mean  \\\n",
              "0           0.06981         0.03987      0.03700         0.1959   \n",
              "1           0.11470         0.06387      0.02642         0.1922   \n",
              "2           0.07804         0.03046      0.02480         0.1714   \n",
              "3           0.11360         0.04635      0.04796         0.1771   \n",
              "4           0.06934         0.03393      0.02657         0.1721   \n",
              "\n",
              "   dimension_mean  ...  radius_worst  texture_worst  perimeter_worst  \\\n",
              "0         0.05955  ...         13.50          15.64            86.97   \n",
              "1         0.06491  ...         11.88          22.94            78.28   \n",
              "2         0.06340  ...         12.41          26.44            79.93   \n",
              "3         0.06072  ...         11.92          15.77            76.53   \n",
              "4         0.05544  ...         16.20          15.73           104.50   \n",
              "\n",
              "   area_worst  smoothness_worst  compactness_worst  concavity_worst  \\\n",
              "0       549.1            0.1385             0.1266          0.12420   \n",
              "1       424.8            0.1213             0.2515          0.19160   \n",
              "2       471.4            0.1369             0.1482          0.10670   \n",
              "3       434.0            0.1367             0.1822          0.08669   \n",
              "4       819.1            0.1126             0.1737          0.13620   \n",
              "\n",
              "   points_worst  symmetry_worst  dimension_worst  \n",
              "0       0.09391          0.2827          0.06771  \n",
              "1       0.07926          0.2940          0.07587  \n",
              "2       0.07431          0.2998          0.07881  \n",
              "3       0.08611          0.2102          0.06784  \n",
              "4       0.08178          0.2487          0.06766  \n",
              "\n",
              "[5 rows x 30 columns]"
            ],
            "text/html": [
              "\n",
              "  <div id=\"df-7f106f4f-3d6c-4429-b6d8-7a0d793fdfe9\">\n",
              "    <div class=\"colab-df-container\">\n",
              "      <div>\n",
              "<style scoped>\n",
              "    .dataframe tbody tr th:only-of-type {\n",
              "        vertical-align: middle;\n",
              "    }\n",
              "\n",
              "    .dataframe tbody tr th {\n",
              "        vertical-align: top;\n",
              "    }\n",
              "\n",
              "    .dataframe thead th {\n",
              "        text-align: right;\n",
              "    }\n",
              "</style>\n",
              "<table border=\"1\" class=\"dataframe\">\n",
              "  <thead>\n",
              "    <tr style=\"text-align: right;\">\n",
              "      <th></th>\n",
              "      <th>radius_mean</th>\n",
              "      <th>texture_mean</th>\n",
              "      <th>perimeter_mean</th>\n",
              "      <th>area_mean</th>\n",
              "      <th>smoothness_mean</th>\n",
              "      <th>compactness_mean</th>\n",
              "      <th>concavity_mean</th>\n",
              "      <th>points_mean</th>\n",
              "      <th>symmetry_mean</th>\n",
              "      <th>dimension_mean</th>\n",
              "      <th>...</th>\n",
              "      <th>radius_worst</th>\n",
              "      <th>texture_worst</th>\n",
              "      <th>perimeter_worst</th>\n",
              "      <th>area_worst</th>\n",
              "      <th>smoothness_worst</th>\n",
              "      <th>compactness_worst</th>\n",
              "      <th>concavity_worst</th>\n",
              "      <th>points_worst</th>\n",
              "      <th>symmetry_worst</th>\n",
              "      <th>dimension_worst</th>\n",
              "    </tr>\n",
              "  </thead>\n",
              "  <tbody>\n",
              "    <tr>\n",
              "      <th>0</th>\n",
              "      <td>12.32</td>\n",
              "      <td>12.39</td>\n",
              "      <td>78.85</td>\n",
              "      <td>464.1</td>\n",
              "      <td>0.10280</td>\n",
              "      <td>0.06981</td>\n",
              "      <td>0.03987</td>\n",
              "      <td>0.03700</td>\n",
              "      <td>0.1959</td>\n",
              "      <td>0.05955</td>\n",
              "      <td>...</td>\n",
              "      <td>13.50</td>\n",
              "      <td>15.64</td>\n",
              "      <td>86.97</td>\n",
              "      <td>549.1</td>\n",
              "      <td>0.1385</td>\n",
              "      <td>0.1266</td>\n",
              "      <td>0.12420</td>\n",
              "      <td>0.09391</td>\n",
              "      <td>0.2827</td>\n",
              "      <td>0.06771</td>\n",
              "    </tr>\n",
              "    <tr>\n",
              "      <th>1</th>\n",
              "      <td>10.60</td>\n",
              "      <td>18.95</td>\n",
              "      <td>69.28</td>\n",
              "      <td>346.4</td>\n",
              "      <td>0.09688</td>\n",
              "      <td>0.11470</td>\n",
              "      <td>0.06387</td>\n",
              "      <td>0.02642</td>\n",
              "      <td>0.1922</td>\n",
              "      <td>0.06491</td>\n",
              "      <td>...</td>\n",
              "      <td>11.88</td>\n",
              "      <td>22.94</td>\n",
              "      <td>78.28</td>\n",
              "      <td>424.8</td>\n",
              "      <td>0.1213</td>\n",
              "      <td>0.2515</td>\n",
              "      <td>0.19160</td>\n",
              "      <td>0.07926</td>\n",
              "      <td>0.2940</td>\n",
              "      <td>0.07587</td>\n",
              "    </tr>\n",
              "    <tr>\n",
              "      <th>2</th>\n",
              "      <td>11.04</td>\n",
              "      <td>16.83</td>\n",
              "      <td>70.92</td>\n",
              "      <td>373.2</td>\n",
              "      <td>0.10770</td>\n",
              "      <td>0.07804</td>\n",
              "      <td>0.03046</td>\n",
              "      <td>0.02480</td>\n",
              "      <td>0.1714</td>\n",
              "      <td>0.06340</td>\n",
              "      <td>...</td>\n",
              "      <td>12.41</td>\n",
              "      <td>26.44</td>\n",
              "      <td>79.93</td>\n",
              "      <td>471.4</td>\n",
              "      <td>0.1369</td>\n",
              "      <td>0.1482</td>\n",
              "      <td>0.10670</td>\n",
              "      <td>0.07431</td>\n",
              "      <td>0.2998</td>\n",
              "      <td>0.07881</td>\n",
              "    </tr>\n",
              "    <tr>\n",
              "      <th>3</th>\n",
              "      <td>11.28</td>\n",
              "      <td>13.39</td>\n",
              "      <td>73.00</td>\n",
              "      <td>384.8</td>\n",
              "      <td>0.11640</td>\n",
              "      <td>0.11360</td>\n",
              "      <td>0.04635</td>\n",
              "      <td>0.04796</td>\n",
              "      <td>0.1771</td>\n",
              "      <td>0.06072</td>\n",
              "      <td>...</td>\n",
              "      <td>11.92</td>\n",
              "      <td>15.77</td>\n",
              "      <td>76.53</td>\n",
              "      <td>434.0</td>\n",
              "      <td>0.1367</td>\n",
              "      <td>0.1822</td>\n",
              "      <td>0.08669</td>\n",
              "      <td>0.08611</td>\n",
              "      <td>0.2102</td>\n",
              "      <td>0.06784</td>\n",
              "    </tr>\n",
              "    <tr>\n",
              "      <th>4</th>\n",
              "      <td>15.19</td>\n",
              "      <td>13.21</td>\n",
              "      <td>97.65</td>\n",
              "      <td>711.8</td>\n",
              "      <td>0.07963</td>\n",
              "      <td>0.06934</td>\n",
              "      <td>0.03393</td>\n",
              "      <td>0.02657</td>\n",
              "      <td>0.1721</td>\n",
              "      <td>0.05544</td>\n",
              "      <td>...</td>\n",
              "      <td>16.20</td>\n",
              "      <td>15.73</td>\n",
              "      <td>104.50</td>\n",
              "      <td>819.1</td>\n",
              "      <td>0.1126</td>\n",
              "      <td>0.1737</td>\n",
              "      <td>0.13620</td>\n",
              "      <td>0.08178</td>\n",
              "      <td>0.2487</td>\n",
              "      <td>0.06766</td>\n",
              "    </tr>\n",
              "  </tbody>\n",
              "</table>\n",
              "<p>5 rows × 30 columns</p>\n",
              "</div>\n",
              "      <button class=\"colab-df-convert\" onclick=\"convertToInteractive('df-7f106f4f-3d6c-4429-b6d8-7a0d793fdfe9')\"\n",
              "              title=\"Convert this dataframe to an interactive table.\"\n",
              "              style=\"display:none;\">\n",
              "        \n",
              "  <svg xmlns=\"http://www.w3.org/2000/svg\" height=\"24px\"viewBox=\"0 0 24 24\"\n",
              "       width=\"24px\">\n",
              "    <path d=\"M0 0h24v24H0V0z\" fill=\"none\"/>\n",
              "    <path d=\"M18.56 5.44l.94 2.06.94-2.06 2.06-.94-2.06-.94-.94-2.06-.94 2.06-2.06.94zm-11 1L8.5 8.5l.94-2.06 2.06-.94-2.06-.94L8.5 2.5l-.94 2.06-2.06.94zm10 10l.94 2.06.94-2.06 2.06-.94-2.06-.94-.94-2.06-.94 2.06-2.06.94z\"/><path d=\"M17.41 7.96l-1.37-1.37c-.4-.4-.92-.59-1.43-.59-.52 0-1.04.2-1.43.59L10.3 9.45l-7.72 7.72c-.78.78-.78 2.05 0 2.83L4 21.41c.39.39.9.59 1.41.59.51 0 1.02-.2 1.41-.59l7.78-7.78 2.81-2.81c.8-.78.8-2.07 0-2.86zM5.41 20L4 18.59l7.72-7.72 1.47 1.35L5.41 20z\"/>\n",
              "  </svg>\n",
              "      </button>\n",
              "      \n",
              "  <style>\n",
              "    .colab-df-container {\n",
              "      display:flex;\n",
              "      flex-wrap:wrap;\n",
              "      gap: 12px;\n",
              "    }\n",
              "\n",
              "    .colab-df-convert {\n",
              "      background-color: #E8F0FE;\n",
              "      border: none;\n",
              "      border-radius: 50%;\n",
              "      cursor: pointer;\n",
              "      display: none;\n",
              "      fill: #1967D2;\n",
              "      height: 32px;\n",
              "      padding: 0 0 0 0;\n",
              "      width: 32px;\n",
              "    }\n",
              "\n",
              "    .colab-df-convert:hover {\n",
              "      background-color: #E2EBFA;\n",
              "      box-shadow: 0px 1px 2px rgba(60, 64, 67, 0.3), 0px 1px 3px 1px rgba(60, 64, 67, 0.15);\n",
              "      fill: #174EA6;\n",
              "    }\n",
              "\n",
              "    [theme=dark] .colab-df-convert {\n",
              "      background-color: #3B4455;\n",
              "      fill: #D2E3FC;\n",
              "    }\n",
              "\n",
              "    [theme=dark] .colab-df-convert:hover {\n",
              "      background-color: #434B5C;\n",
              "      box-shadow: 0px 1px 3px 1px rgba(0, 0, 0, 0.15);\n",
              "      filter: drop-shadow(0px 1px 2px rgba(0, 0, 0, 0.3));\n",
              "      fill: #FFFFFF;\n",
              "    }\n",
              "  </style>\n",
              "\n",
              "      <script>\n",
              "        const buttonEl =\n",
              "          document.querySelector('#df-7f106f4f-3d6c-4429-b6d8-7a0d793fdfe9 button.colab-df-convert');\n",
              "        buttonEl.style.display =\n",
              "          google.colab.kernel.accessAllowed ? 'block' : 'none';\n",
              "\n",
              "        async function convertToInteractive(key) {\n",
              "          const element = document.querySelector('#df-7f106f4f-3d6c-4429-b6d8-7a0d793fdfe9');\n",
              "          const dataTable =\n",
              "            await google.colab.kernel.invokeFunction('convertToInteractive',\n",
              "                                                     [key], {});\n",
              "          if (!dataTable) return;\n",
              "\n",
              "          const docLinkHtml = 'Like what you see? Visit the ' +\n",
              "            '<a target=\"_blank\" href=https://colab.research.google.com/notebooks/data_table.ipynb>data table notebook</a>'\n",
              "            + ' to learn more about interactive tables.';\n",
              "          element.innerHTML = '';\n",
              "          dataTable['output_type'] = 'display_data';\n",
              "          await google.colab.output.renderOutput(dataTable, element);\n",
              "          const docLink = document.createElement('div');\n",
              "          docLink.innerHTML = docLinkHtml;\n",
              "          element.appendChild(docLink);\n",
              "        }\n",
              "      </script>\n",
              "    </div>\n",
              "  </div>\n",
              "  "
            ]
          },
          "metadata": {},
          "execution_count": 27
        }
      ]
    },
    {
      "cell_type": "code",
      "source": [
        "data_y=data.iloc[:,-1:]\n",
        "data_y.head()"
      ],
      "metadata": {
        "colab": {
          "base_uri": "https://localhost:8080/",
          "height": 206
        },
        "id": "c6GLR6yX7P-W",
        "outputId": "07150aca-b8d5-465c-943a-a9c968b838be"
      },
      "execution_count": 28,
      "outputs": [
        {
          "output_type": "execute_result",
          "data": {
            "text/plain": [
              "   diagnosis\n",
              "0          0\n",
              "1          0\n",
              "2          0\n",
              "3          0\n",
              "4          0"
            ],
            "text/html": [
              "\n",
              "  <div id=\"df-b9df96fc-2951-4c7e-9815-3f3f211480c0\">\n",
              "    <div class=\"colab-df-container\">\n",
              "      <div>\n",
              "<style scoped>\n",
              "    .dataframe tbody tr th:only-of-type {\n",
              "        vertical-align: middle;\n",
              "    }\n",
              "\n",
              "    .dataframe tbody tr th {\n",
              "        vertical-align: top;\n",
              "    }\n",
              "\n",
              "    .dataframe thead th {\n",
              "        text-align: right;\n",
              "    }\n",
              "</style>\n",
              "<table border=\"1\" class=\"dataframe\">\n",
              "  <thead>\n",
              "    <tr style=\"text-align: right;\">\n",
              "      <th></th>\n",
              "      <th>diagnosis</th>\n",
              "    </tr>\n",
              "  </thead>\n",
              "  <tbody>\n",
              "    <tr>\n",
              "      <th>0</th>\n",
              "      <td>0</td>\n",
              "    </tr>\n",
              "    <tr>\n",
              "      <th>1</th>\n",
              "      <td>0</td>\n",
              "    </tr>\n",
              "    <tr>\n",
              "      <th>2</th>\n",
              "      <td>0</td>\n",
              "    </tr>\n",
              "    <tr>\n",
              "      <th>3</th>\n",
              "      <td>0</td>\n",
              "    </tr>\n",
              "    <tr>\n",
              "      <th>4</th>\n",
              "      <td>0</td>\n",
              "    </tr>\n",
              "  </tbody>\n",
              "</table>\n",
              "</div>\n",
              "      <button class=\"colab-df-convert\" onclick=\"convertToInteractive('df-b9df96fc-2951-4c7e-9815-3f3f211480c0')\"\n",
              "              title=\"Convert this dataframe to an interactive table.\"\n",
              "              style=\"display:none;\">\n",
              "        \n",
              "  <svg xmlns=\"http://www.w3.org/2000/svg\" height=\"24px\"viewBox=\"0 0 24 24\"\n",
              "       width=\"24px\">\n",
              "    <path d=\"M0 0h24v24H0V0z\" fill=\"none\"/>\n",
              "    <path d=\"M18.56 5.44l.94 2.06.94-2.06 2.06-.94-2.06-.94-.94-2.06-.94 2.06-2.06.94zm-11 1L8.5 8.5l.94-2.06 2.06-.94-2.06-.94L8.5 2.5l-.94 2.06-2.06.94zm10 10l.94 2.06.94-2.06 2.06-.94-2.06-.94-.94-2.06-.94 2.06-2.06.94z\"/><path d=\"M17.41 7.96l-1.37-1.37c-.4-.4-.92-.59-1.43-.59-.52 0-1.04.2-1.43.59L10.3 9.45l-7.72 7.72c-.78.78-.78 2.05 0 2.83L4 21.41c.39.39.9.59 1.41.59.51 0 1.02-.2 1.41-.59l7.78-7.78 2.81-2.81c.8-.78.8-2.07 0-2.86zM5.41 20L4 18.59l7.72-7.72 1.47 1.35L5.41 20z\"/>\n",
              "  </svg>\n",
              "      </button>\n",
              "      \n",
              "  <style>\n",
              "    .colab-df-container {\n",
              "      display:flex;\n",
              "      flex-wrap:wrap;\n",
              "      gap: 12px;\n",
              "    }\n",
              "\n",
              "    .colab-df-convert {\n",
              "      background-color: #E8F0FE;\n",
              "      border: none;\n",
              "      border-radius: 50%;\n",
              "      cursor: pointer;\n",
              "      display: none;\n",
              "      fill: #1967D2;\n",
              "      height: 32px;\n",
              "      padding: 0 0 0 0;\n",
              "      width: 32px;\n",
              "    }\n",
              "\n",
              "    .colab-df-convert:hover {\n",
              "      background-color: #E2EBFA;\n",
              "      box-shadow: 0px 1px 2px rgba(60, 64, 67, 0.3), 0px 1px 3px 1px rgba(60, 64, 67, 0.15);\n",
              "      fill: #174EA6;\n",
              "    }\n",
              "\n",
              "    [theme=dark] .colab-df-convert {\n",
              "      background-color: #3B4455;\n",
              "      fill: #D2E3FC;\n",
              "    }\n",
              "\n",
              "    [theme=dark] .colab-df-convert:hover {\n",
              "      background-color: #434B5C;\n",
              "      box-shadow: 0px 1px 3px 1px rgba(0, 0, 0, 0.15);\n",
              "      filter: drop-shadow(0px 1px 2px rgba(0, 0, 0, 0.3));\n",
              "      fill: #FFFFFF;\n",
              "    }\n",
              "  </style>\n",
              "\n",
              "      <script>\n",
              "        const buttonEl =\n",
              "          document.querySelector('#df-b9df96fc-2951-4c7e-9815-3f3f211480c0 button.colab-df-convert');\n",
              "        buttonEl.style.display =\n",
              "          google.colab.kernel.accessAllowed ? 'block' : 'none';\n",
              "\n",
              "        async function convertToInteractive(key) {\n",
              "          const element = document.querySelector('#df-b9df96fc-2951-4c7e-9815-3f3f211480c0');\n",
              "          const dataTable =\n",
              "            await google.colab.kernel.invokeFunction('convertToInteractive',\n",
              "                                                     [key], {});\n",
              "          if (!dataTable) return;\n",
              "\n",
              "          const docLinkHtml = 'Like what you see? Visit the ' +\n",
              "            '<a target=\"_blank\" href=https://colab.research.google.com/notebooks/data_table.ipynb>data table notebook</a>'\n",
              "            + ' to learn more about interactive tables.';\n",
              "          element.innerHTML = '';\n",
              "          dataTable['output_type'] = 'display_data';\n",
              "          await google.colab.output.renderOutput(dataTable, element);\n",
              "          const docLink = document.createElement('div');\n",
              "          docLink.innerHTML = docLinkHtml;\n",
              "          element.appendChild(docLink);\n",
              "        }\n",
              "      </script>\n",
              "    </div>\n",
              "  </div>\n",
              "  "
            ]
          },
          "metadata": {},
          "execution_count": 28
        }
      ]
    },
    {
      "cell_type": "code",
      "source": [
        "test_ratio=0.4\n",
        "train_ratio=0.6"
      ],
      "metadata": {
        "id": "Ow1XQ5Zd7l6W"
      },
      "execution_count": 40,
      "outputs": []
    },
    {
      "cell_type": "code",
      "source": [
        "Train_x, Test_x, Train_y, Test_y = train_test_split(data_x,data_y,test_size=test_ratio,train_size=train_ratio,shuffle=True)"
      ],
      "metadata": {
        "id": "kLWso2u53gAJ"
      },
      "execution_count": 113,
      "outputs": []
    },
    {
      "cell_type": "code",
      "source": [
        "Train_x.shape, Test_x.shape, Train_y.shape, Test_y.shape"
      ],
      "metadata": {
        "colab": {
          "base_uri": "https://localhost:8080/"
        },
        "id": "JZoLnmCE4ZtH",
        "outputId": "0f66402c-3927-4f2b-b80d-224b58a6a944"
      },
      "execution_count": 114,
      "outputs": [
        {
          "output_type": "execute_result",
          "data": {
            "text/plain": [
              "((341, 30), (228, 30), (341, 1), (228, 1))"
            ]
          },
          "metadata": {},
          "execution_count": 114
        }
      ]
    },
    {
      "cell_type": "code",
      "source": [
        "class ArtificialNeuralNetwork(nn.Module):\n",
        "  def __init__(self):\n",
        "    super(ArtificialNeuralNetwork,self).__init__()\n",
        "    self.linear_relu_stack=nn.Sequential(\n",
        "        nn.Linear(30,128),\n",
        "        nn.ReLU(),\n",
        "        nn.Linear(128,128),\n",
        "        nn.ReLU(),\n",
        "        nn.Linear(128,1)\n",
        "    )\n",
        "\n",
        "  def forward(self,x):\n",
        "    logits=self.linear_relu_stack(x)\n",
        "    logits=torch.sigmoid(logits)\n",
        "    return logits"
      ],
      "metadata": {
        "id": "DjuGj0jz448P"
      },
      "execution_count": 189,
      "outputs": []
    },
    {
      "cell_type": "code",
      "source": [
        "type(Train_x)"
      ],
      "metadata": {
        "colab": {
          "base_uri": "https://localhost:8080/"
        },
        "id": "KpofmH7s5Ute",
        "outputId": "60dbd67b-d4da-465d-f08f-2afa08347fbf"
      },
      "execution_count": 190,
      "outputs": [
        {
          "output_type": "execute_result",
          "data": {
            "text/plain": [
              "pandas.core.frame.DataFrame"
            ]
          },
          "metadata": {},
          "execution_count": 190
        }
      ]
    },
    {
      "cell_type": "code",
      "source": [
        "\n",
        "train_x=Train_x.to_numpy()\n",
        "test_x=Test_x.to_numpy()\n",
        "#val_x=Validation_x.to_numpy()\n",
        "\n",
        "train_y=Train_y.to_numpy()\n",
        "test_y=Test_y.to_numpy()\n",
        "#val_y=Validation_y.to_numpy()"
      ],
      "metadata": {
        "id": "E4znbZNI5iuh"
      },
      "execution_count": 191,
      "outputs": []
    },
    {
      "cell_type": "code",
      "source": [
        "type(train_x)"
      ],
      "metadata": {
        "colab": {
          "base_uri": "https://localhost:8080/"
        },
        "id": "FW60y2iS-Tpm",
        "outputId": "a6082b67-818d-414a-e903-ea51dab9daa4"
      },
      "execution_count": 192,
      "outputs": [
        {
          "output_type": "execute_result",
          "data": {
            "text/plain": [
              "numpy.ndarray"
            ]
          },
          "metadata": {},
          "execution_count": 192
        }
      ]
    },
    {
      "cell_type": "code",
      "source": [
        "train_x.shape"
      ],
      "metadata": {
        "colab": {
          "base_uri": "https://localhost:8080/"
        },
        "id": "ihS79Sql-WKO",
        "outputId": "54a5d78b-2dc0-46d2-d4df-b87da07e3534"
      },
      "execution_count": 193,
      "outputs": [
        {
          "output_type": "execute_result",
          "data": {
            "text/plain": [
              "(341, 30)"
            ]
          },
          "metadata": {},
          "execution_count": 193
        }
      ]
    },
    {
      "cell_type": "code",
      "source": [
        "train_x=torch.from_numpy(train_x.astype(np.float32))\n",
        "test_x=torch.from_numpy(test_x.astype(np.float32))\n",
        "train_y=torch.from_numpy(train_y.astype(np.float32))\n",
        "test_y=torch.from_numpy(test_y.astype(np.float32))"
      ],
      "metadata": {
        "id": "OqVQ3EJs_5wG"
      },
      "execution_count": 194,
      "outputs": []
    },
    {
      "cell_type": "code",
      "source": [
        "train_dataloader=DataLoader(train_x,batch_size=5,shuffle=True)\n",
        "test_dataloader=DataLoader(test_x,batch_size=5,shuffle=True)"
      ],
      "metadata": {
        "id": "-OKIQ6Y_5DYJ"
      },
      "execution_count": 195,
      "outputs": []
    },
    {
      "cell_type": "code",
      "source": [
        "model=ArtificialNeuralNetwork()\n",
        "epochs_num=10\n",
        "criterion = nn.BCELoss()\n",
        "learning_rate = 0.0001\n",
        "optimizer = optim.Adam(model.parameters(), lr=learning_rate)"
      ],
      "metadata": {
        "id": "z-VnniRd5Red"
      },
      "execution_count": 206,
      "outputs": []
    },
    {
      "cell_type": "code",
      "source": [
        "train_accuracy= []\n",
        "for epoch in range(epochs_num):\n",
        "    y_pred = model(train_x)\n",
        "    loss = criterion(y_pred, train_y)\n",
        "    y_predicted_cls = y_pred.round()\n",
        "    acc = y_predicted_cls.eq(train_y).sum() / float(train_y.shape[0])\n",
        "    \n",
        "    train_accuracy.append(acc)\n",
        "\n",
        "    loss.backward()\n",
        "    optimizer.step()\n",
        "\n",
        "    optimizer.zero_grad()\n",
        "\n",
        "    print(f'epoch: {epoch+1}, loss = {loss.item():.4f}, accuracy = {acc}')"
      ],
      "metadata": {
        "colab": {
          "base_uri": "https://localhost:8080/"
        },
        "id": "iGw4gRzp-oUX",
        "outputId": "861fe6e0-0bec-4741-9cea-f1f19512c8be"
      },
      "execution_count": 207,
      "outputs": [
        {
          "output_type": "stream",
          "name": "stdout",
          "text": [
            "epoch: 1, loss = 16.1532, accuracy = 0.35777124762535095\n",
            "epoch: 2, loss = 12.2570, accuracy = 0.35777124762535095\n",
            "epoch: 3, loss = 7.5382, accuracy = 0.35777124762535095\n",
            "epoch: 4, loss = 6.1896, accuracy = 0.35777124762535095\n",
            "epoch: 5, loss = 4.8239, accuracy = 0.35777124762535095\n",
            "epoch: 6, loss = 3.6954, accuracy = 0.35777124762535095\n",
            "epoch: 7, loss = 2.8120, accuracy = 0.35777124762535095\n",
            "epoch: 8, loss = 1.9532, accuracy = 0.35777124762535095\n",
            "epoch: 9, loss = 1.1689, accuracy = 0.37829911708831787\n",
            "epoch: 10, loss = 0.5956, accuracy = 0.6392961740493774\n"
          ]
        }
      ]
    },
    {
      "cell_type": "code",
      "source": [
        "with torch.no_grad():\n",
        "    y_predicted = model(test_x)\n",
        "    y_predicted_cls = y_predicted.round()\n",
        "    acc = y_predicted_cls.eq(test_y).sum() / float(test_y.shape[0])\n",
        "    print(f'accuracy: {acc.item():.4f}')"
      ],
      "metadata": {
        "colab": {
          "base_uri": "https://localhost:8080/"
        },
        "id": "3jgh0wcp_oKV",
        "outputId": "2f03ede8-5512-41ea-d4f1-cec10af48342"
      },
      "execution_count": 208,
      "outputs": [
        {
          "output_type": "stream",
          "name": "stdout",
          "text": [
            "accuracy: 0.6930\n"
          ]
        }
      ]
    },
    {
      "cell_type": "code",
      "source": [
        "plt.plot(train_accuracy)"
      ],
      "metadata": {
        "colab": {
          "base_uri": "https://localhost:8080/",
          "height": 284
        },
        "id": "clllLVCMD-E_",
        "outputId": "d8cac4bc-bb3a-493f-b8e1-0e5b8ae7f393"
      },
      "execution_count": 209,
      "outputs": [
        {
          "output_type": "execute_result",
          "data": {
            "text/plain": [
              "[<matplotlib.lines.Line2D at 0x7fc0c64e5190>]"
            ]
          },
          "metadata": {},
          "execution_count": 209
        },
        {
          "output_type": "display_data",
          "data": {
            "text/plain": [
              "<Figure size 432x288 with 1 Axes>"
            ],
            "image/png": "[encoded data removed]"
          },
          "metadata": {
            "needs_background": "light"
          }
        }
      ]
    },
    {
      "cell_type": "code",
      "source": [
        "cm = confusion_matrix(test_y, y_predicted.round())\n",
        "disp_rbf = ConfusionMatrixDisplay(cm)\n",
        "disp_rbf.plot()\n",
        "plt.show()\n",
        "\n",
        "sensitivity = cm[0,0]/(cm[0,0]+cm[0,1])\n",
        "print('Sensitivity : ', sensitivity )\n",
        "\n",
        "specificity = cm[1,1]/(cm[1,0]+cm[1,1])\n",
        "print('Specificity : ', specificity)"
      ],
      "metadata": {
        "colab": {
          "base_uri": "https://localhost:8080/",
          "height": 314
        },
        "id": "Qgh88pPkCTa3",
        "outputId": "fda60194-56de-4302-81ca-0de7e151905f"
      },
      "execution_count": 210,
      "outputs": [
        {
          "output_type": "display_data",
          "data": {
            "text/plain": [
              "<Figure size 432x288 with 2 Axes>"
            ],
            "image/png": "[encoded data removed]"
          },
          "metadata": {
            "needs_background": "light"
          }
        },
        {
          "output_type": "stream",
          "name": "stdout",
          "text": [
            "Sensitivity :  1.0\n",
            "Specificity :  0.2222222222222222\n"
          ]
        }
      ]
    },
    {
      "cell_type": "code",
      "source": [
        "print('AUROC Score: ',roc_auc_score(test_y, y_predicted.round()))"
      ],
      "metadata": {
        "colab": {
          "base_uri": "https://localhost:8080/"
        },
        "id": "GXGJDB86D7LQ",
        "outputId": "cd959f46-d67f-45a4-bb3b-c65874c16ca0"
      },
      "execution_count": 211,
      "outputs": [
        {
          "output_type": "stream",
          "name": "stdout",
          "text": [
            "AUROC Score:  0.6111111111111112\n"
          ]
        }
      ]
    },
    {
      "cell_type": "code",
      "source": [
        "svc = SVC(random_state=42)\n",
        "svc.fit(train_x, train_y)\n",
        "\n",
        "svc_disp = RocCurveDisplay.from_estimator(svc, test_x, test_y)"
      ],
      "metadata": {
        "colab": {
          "base_uri": "https://localhost:8080/",
          "height": 314
        },
        "id": "dbq4XelqEOkO",
        "outputId": "14133e20-94ad-45b1-ef9f-46d2867d3971"
      },
      "execution_count": 224,
      "outputs": [
        {
          "output_type": "stream",
          "name": "stderr",
          "text": [
            "/usr/local/lib/python3.7/dist-packages/sklearn/utils/validation.py:993: DataConversionWarning: A column-vector y was passed when a 1d array was expected. Please change the shape of y to (n_samples, ), for example using ravel().\n",
            "  y = column_or_1d(y, warn=True)\n"
          ]
        },
        {
          "output_type": "display_data",
          "data": {
            "text/plain": [
              "<Figure size 432x288 with 1 Axes>"
            ],
            "image/png": "[encoded data removed]"
          },
          "metadata": {
            "needs_background": "light"
          }
        }
      ]
    },
    {
      "cell_type": "code",
      "source": [],
      "metadata": {
        "id": "F5ajGRVAEcIW"
      },
      "execution_count": null,
      "outputs": []
    }
  ]
}