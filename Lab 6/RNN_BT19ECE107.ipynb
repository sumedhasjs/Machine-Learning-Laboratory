{
  "nbformat": 4,
  "nbformat_minor": 0,
  "metadata": {
    "colab": {
      "provenance": []
    },
    "kernelspec": {
      "name": "python3",
      "display_name": "Python 3"
    },
    "language_info": {
      "name": "python"
    }
  },
  "cells": [
    {
      "cell_type": "markdown",
      "source": [
        "## Forward Pass of RNN"
      ],
      "metadata": {
        "id": "hG1E_JyZvn14"
      }
    },
    {
      "cell_type": "code",
      "execution_count": 1,
      "metadata": {
        "id": "XuNFZ0QyrxJb"
      },
      "outputs": [],
      "source": [
        "import numpy as np"
      ]
    },
    {
      "cell_type": "code",
      "source": [
        "def softmax(x):\n",
        "  e_x = np.exp(x - np.max(x))\n",
        "  return e_x / e_x.sum(axis=0)"
      ],
      "metadata": {
        "id": "oll6qUNer-NF"
      },
      "execution_count": 3,
      "outputs": []
    },
    {
      "cell_type": "code",
      "source": [
        "def sigmoid(x):\n",
        "  return 1 / (1 + np.exp(-x))"
      ],
      "metadata": {
        "id": "nsbAvic8snGC"
      },
      "execution_count": 4,
      "outputs": []
    },
    {
      "cell_type": "code",
      "source": [
        "def CellForwardRNN(InputData, PreviousState, Parameters):\n",
        "  Wax = Parameters[\"Wax\"]\n",
        "  Waa = Parameters[\"Waa\"]\n",
        "  Wya = Parameters[\"Wya\"]\n",
        "  ba = Parameters[\"ba\"]\n",
        "  by = Parameters[\"by\"]\n",
        "  \n",
        "  NextState = np.tanh(np.dot(Wax, InputData) + np.dot(Waa, PreviousState) + ba)\n",
        "  Output = softmax(np.dot(Wya, NextState) + by)\n",
        "  Cache = (NextState, PreviousState, InputData, Parameters)\n",
        "  \n",
        "  return NextState, Output, Cache"
      ],
      "metadata": {
        "id": "0cNlp3fNsrr6"
      },
      "execution_count": 9,
      "outputs": []
    },
    {
      "cell_type": "code",
      "source": [
        "np.random.seed(1)\n",
        "InputData = np.random.randn(3,10)\n",
        "PreviousState = np.random.randn(5,10)\n",
        "Waa = np.random.randn(5,5)\n",
        "Wax = np.random.randn(5,3)\n",
        "Wya = np.random.randn(2,5)\n",
        "ba = np.random.randn(5,1)\n",
        "by = np.random.randn(2,1)\n",
        "Parameters = {\"Waa\": Waa, \"Wax\": Wax, \"Wya\": Wya, \"ba\": ba, \"by\": by}\n",
        "\n",
        "NextState, Output, cache = CellForwardRNN(InputData, PreviousState, Parameters)\n",
        "print(\"NextStatet[4] = \", NextState[4])\n",
        "print(\"NextState.shape = \", NextState.shape)\n",
        "print(\"Output[1] =\", Output[1])\n",
        "print(\"Output.shape = \", Output.shape)"
      ],
      "metadata": {
        "colab": {
          "base_uri": "https://localhost:8080/",
          "height": 0
        },
        "id": "YkYG2LvDtZf6",
        "outputId": "cc334ac3-773c-4a91-b83f-54c9a41786f7"
      },
      "execution_count": 11,
      "outputs": [
        {
          "output_type": "stream",
          "name": "stdout",
          "text": [
            "NextStatet[4] =  [ 0.59584544  0.18141802  0.61311866  0.99808218  0.85016201  0.99980978\n",
            " -0.18887155  0.99815551  0.6531151   0.82872037]\n",
            "NextState.shape =  (5, 10)\n",
            "Output[1] = [0.9888161  0.01682021 0.21140899 0.36817467 0.98988387 0.88945212\n",
            " 0.36920224 0.9966312  0.9982559  0.17746526]\n",
            "Output.shape =  (2, 10)\n"
          ]
        }
      ]
    },
    {
      "cell_type": "code",
      "source": [
        "def ForwardPassRNN(InputData, InitialHiddenState, Parameters):\n",
        "  Caches = []\n",
        "  \n",
        "  n_x, m, T_x = InputData.shape\n",
        "  n_y, n_a = Parameters[\"Wya\"].shape\n",
        "  a = np.zeros((n_a, m, T_x))\n",
        "  y_pred = np.zeros((n_y, m, T_x))\n",
        "  NextState = InitialHiddenState\n",
        "  for t in range(T_x):\n",
        "      NextState, Output, Cache = CellForwardRNN(InputData[:,:,t], NextState, Parameters)\n",
        "      a[:,:,t] = NextState\n",
        "      y_pred[:,:,t] = Output\n",
        "      Caches.append(Cache)\n",
        "  \n",
        "  Caches = (Caches, InputData)\n",
        "  \n",
        "  return a, y_pred, Caches"
      ],
      "metadata": {
        "id": "WYm00USfuCBE"
      },
      "execution_count": 12,
      "outputs": []
    },
    {
      "cell_type": "code",
      "source": [
        "np.random.seed(1)\n",
        "InputData = np.random.randn(3,10,4)\n",
        "InitialHiddenState = np.random.randn(5,10)\n",
        "Waa = np.random.randn(5,5)\n",
        "Wax = np.random.randn(5,3)\n",
        "Wya = np.random.randn(2,5)\n",
        "ba = np.random.randn(5,1)\n",
        "by = np.random.randn(2,1)\n",
        "Parameters = {\"Waa\": Waa, \"Wax\": Wax, \"Wya\": Wya, \"ba\": ba, \"by\": by}\n",
        "\n",
        "a, Output, Caches = ForwardPassRNN(InputData, InitialHiddenState, Parameters)\n",
        "print(\"a[4][1] = \", a[4][1])\n",
        "print(\"a.shape = \", a.shape)\n",
        "print(\"Output[1][3] =\", Output[1][3])\n",
        "print(\"Output.shape = \", Output.shape)\n",
        "print(\"Caches[1][1][3] =\", Caches[1][1][3])\n",
        "print(\"len(Caches) = \", len(Caches))"
      ],
      "metadata": {
        "colab": {
          "base_uri": "https://localhost:8080/",
          "height": 0
        },
        "id": "Klq-u1F3u9MO",
        "outputId": "05b99050-b0fc-46d2-c84c-6403aacf0e50"
      },
      "execution_count": 13,
      "outputs": [
        {
          "output_type": "stream",
          "name": "stdout",
          "text": [
            "a[4][1] =  [-0.99999375  0.77911235 -0.99861469 -0.99833267]\n",
            "a.shape =  (5, 10, 4)\n",
            "Output[1][3] = [0.79560373 0.86224861 0.11118257 0.81515947]\n",
            "Output.shape =  (2, 10, 4)\n",
            "Caches[1][1][3] = [-1.1425182  -0.34934272 -0.20889423  0.58662319]\n",
            "len(Caches) =  2\n"
          ]
        }
      ]
    },
    {
      "cell_type": "markdown",
      "source": [
        "## Error Backpropogation through time"
      ],
      "metadata": {
        "id": "VK60cr1mv-f1"
      }
    },
    {
      "cell_type": "code",
      "source": [
        "def CellBackwardRNN(GradLoss, Cache):\n",
        "    (NextState, PreviousState, InputData, Parameters) = Cache\n",
        "    Wax = Parameters[\"Wax\"]\n",
        "    Waa = Parameters[\"Waa\"]\n",
        "    Wya = Parameters[\"Wya\"]\n",
        "    ba = Parameters[\"ba\"]\n",
        "    by = Parameters[\"by\"]\n",
        "    dtanh = (1 - NextState ** 2) * GradLoss\n",
        "\n",
        "    dxt = np.dot(Wax.T, dtanh) \n",
        "    dWax = np.dot(dtanh, InputData.T)\n",
        "\n",
        "    da_prev = np.dot(Waa.T, dtanh)\n",
        "    dWaa = np.dot(dtanh, PreviousState.T)\n",
        "\n",
        "    dba = np.sum(dtanh, axis = 1,keepdims=1)\n",
        "\n",
        "    Gradients = {\"dxt\": dxt, \"da_prev\": da_prev, \"dWax\": dWax, \"dWaa\": dWaa, \"dba\": dba}\n",
        "    \n",
        "    return Gradients"
      ],
      "metadata": {
        "id": "SXVR-QcxvTck"
      },
      "execution_count": 14,
      "outputs": []
    },
    {
      "cell_type": "code",
      "source": [
        "np.random.seed(1)\n",
        "InputData = np.random.randn(3,10)\n",
        "PreviousState = np.random.randn(5,10)\n",
        "Wax = np.random.randn(5,3)\n",
        "Waa = np.random.randn(5,5)\n",
        "Wya = np.random.randn(2,5)\n",
        "b = np.random.randn(5,1)\n",
        "by = np.random.randn(2,1)\n",
        "Parameters = {\"Wax\": Wax, \"Waa\": Waa, \"Wya\": Wya, \"ba\": ba, \"by\": by}\n",
        "\n",
        "NextState, Output, Cache = CellForwardRNN(InputData, PreviousState, Parameters)\n",
        "\n",
        "da_next = np.random.randn(5,10)\n",
        "Gradients = CellBackwardRNN(da_next, cache)\n",
        "print(\"Gradients[\\\"dxt\\\"][1][2] =\", Gradients[\"dxt\"][1][2])\n",
        "print(\"Gradients[\\\"dxt\\\"].shape =\", Gradients[\"dxt\"].shape)\n",
        "print(\"Gradients[\\\"da_prev\\\"][2][3] =\", Gradients[\"da_prev\"][2][3])\n",
        "print(\"Gradients[\\\"da_prev\\\"].shape =\", Gradients[\"da_prev\"].shape)\n",
        "print(\"Gradients[\\\"dWax\\\"][3][1] =\", Gradients[\"dWax\"][3][1])\n",
        "print(\"Gradients[\\\"dWax\\\"].shape =\", Gradients[\"dWax\"].shape)\n",
        "print(\"Gradients[\\\"dWaa\\\"][1][2] =\", Gradients[\"dWaa\"][1][2])\n",
        "print(\"Gradients[\\\"dWaa\\\"].shape =\", Gradients[\"dWaa\"].shape)\n",
        "print(\"Gradients[\\\"dba\\\"][4] =\", Gradients[\"dba\"][4])\n",
        "print(\"Gradients[\\\"dba\\\"].shape =\", Gradients[\"dba\"].shape)"
      ],
      "metadata": {
        "colab": {
          "base_uri": "https://localhost:8080/",
          "height": 0
        },
        "id": "vRKVsjP8wsvr",
        "outputId": "698813f3-cfec-4f68-e38e-56aa46076678"
      },
      "execution_count": 15,
      "outputs": [
        {
          "output_type": "stream",
          "name": "stdout",
          "text": [
            "Gradients[\"dxt\"][1][2] = 1.3653821219712916\n",
            "Gradients[\"dxt\"].shape = (3, 10)\n",
            "Gradients[\"da_prev\"][2][3] = -0.04357779106461625\n",
            "Gradients[\"da_prev\"].shape = (5, 10)\n",
            "Gradients[\"dWax\"][3][1] = -1.5012584841864745\n",
            "Gradients[\"dWax\"].shape = (5, 3)\n",
            "Gradients[\"dWaa\"][1][2] = 1.1441951795389382\n",
            "Gradients[\"dWaa\"].shape = (5, 5)\n",
            "Gradients[\"dba\"][4] = [1.42397243]\n",
            "Gradients[\"dba\"].shape = (5, 1)\n"
          ]
        }
      ]
    },
    {
      "cell_type": "code",
      "source": [
        "def BackwardPassRNN(da, Caches):\n",
        "    (Caches, x) = Caches\n",
        "    (a1, InitialState, x1, parameters) = Caches[0]\n",
        "    \n",
        "    n_a, m, T_x = da.shape\n",
        "    n_x, m = x1.shape\n",
        "    \n",
        "    dx = np.zeros((n_x, m, T_x))\n",
        "    dWax = np.zeros((n_a, n_x))\n",
        "    dWaa = np.zeros((n_a, n_a))\n",
        "    dba = np.zeros((n_a, 1))\n",
        "    da0 = np.zeros((n_a, m))\n",
        "    GradLossPrev = np.zeros((n_a, m))\n",
        "    for t in reversed(range(T_x)):\n",
        "        Gradients = CellBackwardRNN(da[:,:,t] + GradLossPrev, Caches[t])\n",
        "        dxt, GradLossPrev, dWaxt, dWaat, dbat = Gradients[\"dxt\"], Gradients[\"da_prev\"], Gradients[\"dWax\"], Gradients[\"dWaa\"], Gradients[\"dba\"]\n",
        "        dx[:, :, t] = dxt\n",
        "        dWax += dWaxt\n",
        "        dWaa += dWaat\n",
        "        dba += dbat\n",
        "        \n",
        "    da0 = GradLossPrev\n",
        "    Gradients = {\"dx\": dx, \"da0\": da0, \"dWax\": dWax, \"dWaa\": dWaa,\"dba\": dba}\n",
        "    \n",
        "    return Gradients"
      ],
      "metadata": {
        "id": "n3eFgHduxHMx"
      },
      "execution_count": 18,
      "outputs": []
    },
    {
      "cell_type": "code",
      "source": [
        "np.random.seed(1)\n",
        "InputData = np.random.randn(3,10,4)\n",
        "InitialHiddenState = np.random.randn(5,10)\n",
        "Wax = np.random.randn(5,3)\n",
        "Waa = np.random.randn(5,5)\n",
        "Wya = np.random.randn(2,5)\n",
        "ba = np.random.randn(5,1)\n",
        "by = np.random.randn(2,1)\n",
        "Parameters = {\"Wax\": Wax, \"Waa\": Waa, \"Wya\": Wya, \"ba\": ba, \"by\": by}\n",
        "a, y, Caches = ForwardPassRNN(InputData, InitialHiddenState, Parameters)\n",
        "da = np.random.randn(5, 10, 4)\n",
        "Gradients = BackwardPassRNN(da, Caches)\n",
        "\n",
        "print(\"Gradients[\\\"dx\\\"][1][2] =\", Gradients[\"dx\"][1][2])\n",
        "print(\"Gradients[\\\"dx\\\"].shape =\", Gradients[\"dx\"].shape)\n",
        "print(\"Gradients[\\\"da0\\\"][2][3] =\", Gradients[\"da0\"][2][3])\n",
        "print(\"Gradients[\\\"da0\\\"].shape =\", Gradients[\"da0\"].shape)\n",
        "print(\"Gradients[\\\"dWax\\\"][3][1] =\", Gradients[\"dWax\"][3][1])\n",
        "print(\"Gradients[\\\"dWax\\\"].shape =\", Gradients[\"dWax\"].shape)\n",
        "print(\"Gradients[\\\"dWaa\\\"][1][2] =\", Gradients[\"dWaa\"][1][2])\n",
        "print(\"Gradients[\\\"dWaa\\\"].shape =\", Gradients[\"dWaa\"].shape)\n",
        "print(\"Gradients[\\\"dba\\\"][4] =\", Gradients[\"dba\"][4])\n",
        "print(\"Gradients[\\\"dba\\\"].shape =\", Gradients[\"dba\"].shape)"
      ],
      "metadata": {
        "colab": {
          "base_uri": "https://localhost:8080/",
          "height": 0
        },
        "id": "w4PCOZDDx7I-",
        "outputId": "cd5a9fb9-5e83-4d64-8644-6fbb1a5b8b27"
      },
      "execution_count": 19,
      "outputs": [
        {
          "output_type": "stream",
          "name": "stdout",
          "text": [
            "Gradients[\"dx\"][1][2] = [-2.07101689 -0.59255627  0.02466855  0.01483317]\n",
            "Gradients[\"dx\"].shape = (3, 10, 4)\n",
            "Gradients[\"da0\"][2][3] = -0.31494237512664996\n",
            "Gradients[\"da0\"].shape = (5, 10)\n",
            "Gradients[\"dWax\"][3][1] = 11.264104496527777\n",
            "Gradients[\"dWax\"].shape = (5, 3)\n",
            "Gradients[\"dWaa\"][1][2] = 2.303333126579893\n",
            "Gradients[\"dWaa\"].shape = (5, 5)\n",
            "Gradients[\"dba\"][4] = [-0.74747722]\n",
            "Gradients[\"dba\"].shape = (5, 1)\n"
          ]
        }
      ]
    },
    {
      "cell_type": "code",
      "source": [],
      "metadata": {
        "id": "dIf4QJLXyVFU"
      },
      "execution_count": null,
      "outputs": []
    }
  ]
}