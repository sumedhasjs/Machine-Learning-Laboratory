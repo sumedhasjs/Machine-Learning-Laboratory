{
  "nbformat": 4,
  "nbformat_minor": 0,
  "metadata": {
    "colab": {
      "provenance": []
    },
    "kernelspec": {
      "name": "python3",
      "display_name": "Python 3"
    },
    "language_info": {
      "name": "python"
    }
  },
  "cells": [
    {
      "cell_type": "markdown",
      "source": [
        "# **Importing the dataset**"
      ],
      "metadata": {
        "id": "EcAOTD8vFTQL"
      }
    },
    {
      "cell_type": "code",
      "execution_count": null,
      "metadata": {
        "colab": {
          "base_uri": "https://localhost:8080/"
        },
        "id": "HBSkMYOVx9iy",
        "outputId": "a229fa81-a9ce-4f17-8acd-bda9663062a6"
      },
      "outputs": [
        {
          "output_type": "stream",
          "name": "stdout",
          "text": [
            "Drive already mounted at /content/gdrive; to attempt to forcibly remount, call drive.mount(\"/content/gdrive\", force_remount=True).\n"
          ]
        }
      ],
      "source": [
        "from google.colab import drive\n",
        "drive.mount('/content/gdrive')"
      ]
    },
    {
      "cell_type": "code",
      "source": [
        "%cd 'gdrive/MyDrive/ML Lab Datasets'"
      ],
      "metadata": {
        "colab": {
          "base_uri": "https://localhost:8080/"
        },
        "id": "00gs-XalyviR",
        "outputId": "4b215c98-f3cd-4816-edaf-4c176215b8db"
      },
      "execution_count": null,
      "outputs": [
        {
          "output_type": "stream",
          "name": "stdout",
          "text": [
            "/content/gdrive/MyDrive/ML Lab Datasets\n"
          ]
        }
      ]
    },
    {
      "cell_type": "markdown",
      "source": [
        "# **Installing Libraries**"
      ],
      "metadata": {
        "id": "hNLLyrnoFmNY"
      }
    },
    {
      "cell_type": "code",
      "source": [
        "!pip install mat4py"
      ],
      "metadata": {
        "colab": {
          "base_uri": "https://localhost:8080/"
        },
        "id": "atYHW35ImIWs",
        "outputId": "4a4627f8-6033-47da-d65d-ab6984fc6623"
      },
      "execution_count": null,
      "outputs": [
        {
          "output_type": "stream",
          "name": "stdout",
          "text": [
            "Looking in indexes: https://pypi.org/simple, https://us-python.pkg.dev/colab-wheels/public/simple/\n",
            "Requirement already satisfied: mat4py in /usr/local/lib/python3.7/dist-packages (0.5.0)\n"
          ]
        }
      ]
    },
    {
      "cell_type": "code",
      "source": [
        "import pandas as pd\n",
        "import numpy as np\n",
        "import matplotlib.pyplot as plt\n",
        "from mat4py import loadmat\n",
        "from sklearn.model_selection import train_test_split\n",
        "from sklearn.metrics import mean_squared_error, mean_absolute_error"
      ],
      "metadata": {
        "id": "GffHV1Kxy_F2"
      },
      "execution_count": null,
      "outputs": []
    },
    {
      "cell_type": "code",
      "source": [
        "data=loadmat('Matlab_accidents.mat')"
      ],
      "metadata": {
        "id": "duy-4qEqmE-t"
      },
      "execution_count": null,
      "outputs": []
    },
    {
      "cell_type": "markdown",
      "source": [
        "# **Preprocessing the Data**"
      ],
      "metadata": {
        "id": "DhFFTmbkm8KN"
      }
    },
    {
      "cell_type": "code",
      "source": [
        "data_accidents = data['accidents']"
      ],
      "metadata": {
        "id": "9iUBtB0ZzDfn"
      },
      "execution_count": null,
      "outputs": []
    },
    {
      "cell_type": "code",
      "source": [
        "df = pd.DataFrame(data_accidents['hwydata'],columns = data_accidents['hwyheaders'])\n",
        "states = [y[0] for y in data_accidents[\"statelabel\"]]\n",
        "df.insert(loc = 0,column = 'States',value = states)"
      ],
      "metadata": {
        "id": "nMnlxbUNzWTF"
      },
      "execution_count": null,
      "outputs": []
    },
    {
      "cell_type": "code",
      "source": [
        "df.head()"
      ],
      "metadata": {
        "colab": {
          "base_uri": "https://localhost:8080/",
          "height": 374
        },
        "id": "Blu7bTVj2JBd",
        "outputId": "aefe9145-9929-41af-aa67-5957cad29d54"
      },
      "execution_count": null,
      "outputs": [
        {
          "output_type": "execute_result",
          "data": {
            "text/plain": [
              "                 States  Census ID  Centroid Longitude  Centroid Latitude  \\\n",
              "0               Wyoming       56.0         -107.555625          43.032664   \n",
              "1  District of Columbia       11.0          -77.026928          38.892064   \n",
              "2               Vermont       50.0          -72.556496          44.043498   \n",
              "3                Alaska        2.0         -152.459342          64.609656   \n",
              "4          North Dakota       38.0          -99.499793          47.469117   \n",
              "\n",
              "   Traffic fatalities  Licensed drivers (thousands)  \\\n",
              "0               164.0                       380.180   \n",
              "1                43.0                       349.122   \n",
              "2                98.0                       550.462   \n",
              "3               101.0                       482.532   \n",
              "4               100.0                       461.780   \n",
              "\n",
              "   Registered vehicles (thousands)  Vehicle-miles traveled (millions)  \\\n",
              "0                          671.529                             9261.0   \n",
              "1                          240.403                             3742.0   \n",
              "2                          551.516                             7855.0   \n",
              "3                          681.115                             4990.0   \n",
              "4                          721.835                             7594.0   \n",
              "\n",
              "   Miles traveled per vehicle  Fatalities per 100K licensed drivers  \\\n",
              "0                13790.915954                             43.137461   \n",
              "1                15565.529548                             12.316611   \n",
              "2                14242.560506                             17.803227   \n",
              "3                 7326.222444                             20.931254   \n",
              "4                10520.409789                             21.655334   \n",
              "\n",
              "   Fatalities per 100K registered vehicles  \\\n",
              "0                                24.421879   \n",
              "1                                17.886632   \n",
              "2                                17.769203   \n",
              "3                                14.828627   \n",
              "4                                13.853581   \n",
              "\n",
              "   Fatalities per 100M vehicle-miles traveled  \\\n",
              "0                                    1.770867   \n",
              "1                                    1.149118   \n",
              "2                                    1.247613   \n",
              "3                                    2.024048   \n",
              "4                                    1.316829   \n",
              "\n",
              "   Fatalities involving high blood alcohol  Percent Alcohol-Related  \\\n",
              "0                                     54.0                32.926829   \n",
              "1                                     12.0                27.906977   \n",
              "2                                     20.0                20.408163   \n",
              "3                                     30.0                29.702970   \n",
              "4                                     35.0                35.000000   \n",
              "\n",
              "   Total Population  Urban Population  Rural Population  Pct Urban Population  \n",
              "0          493782.0          322073.0          171709.0             65.225747  \n",
              "1          572059.0          572059.0               0.0            100.000000  \n",
              "2          608827.0          232550.0          376277.0             38.196401  \n",
              "3          626932.0          411955.0          214977.0             65.709678  \n",
              "4          642200.0          358394.0          283806.0             55.807225  "
            ],
            "text/html": [
              "\n",
              "  <div id=\"df-8f3e2dd4-9de3-4c5d-8d46-c9603f3bbeea\">\n",
              "    <div class=\"colab-df-container\">\n",
              "      <div>\n",
              "<style scoped>\n",
              "    .dataframe tbody tr th:only-of-type {\n",
              "        vertical-align: middle;\n",
              "    }\n",
              "\n",
              "    .dataframe tbody tr th {\n",
              "        vertical-align: top;\n",
              "    }\n",
              "\n",
              "    .dataframe thead th {\n",
              "        text-align: right;\n",
              "    }\n",
              "</style>\n",
              "<table border=\"1\" class=\"dataframe\">\n",
              "  <thead>\n",
              "    <tr style=\"text-align: right;\">\n",
              "      <th></th>\n",
              "      <th>States</th>\n",
              "      <th>Census ID</th>\n",
              "      <th>Centroid Longitude</th>\n",
              "      <th>Centroid Latitude</th>\n",
              "      <th>Traffic fatalities</th>\n",
              "      <th>Licensed drivers (thousands)</th>\n",
              "      <th>Registered vehicles (thousands)</th>\n",
              "      <th>Vehicle-miles traveled (millions)</th>\n",
              "      <th>Miles traveled per vehicle</th>\n",
              "      <th>Fatalities per 100K licensed drivers</th>\n",
              "      <th>Fatalities per 100K registered vehicles</th>\n",
              "      <th>Fatalities per 100M vehicle-miles traveled</th>\n",
              "      <th>Fatalities involving high blood alcohol</th>\n",
              "      <th>Percent Alcohol-Related</th>\n",
              "      <th>Total Population</th>\n",
              "      <th>Urban Population</th>\n",
              "      <th>Rural Population</th>\n",
              "      <th>Pct Urban Population</th>\n",
              "    </tr>\n",
              "  </thead>\n",
              "  <tbody>\n",
              "    <tr>\n",
              "      <th>0</th>\n",
              "      <td>Wyoming</td>\n",
              "      <td>56.0</td>\n",
              "      <td>-107.555625</td>\n",
              "      <td>43.032664</td>\n",
              "      <td>164.0</td>\n",
              "      <td>380.180</td>\n",
              "      <td>671.529</td>\n",
              "      <td>9261.0</td>\n",
              "      <td>13790.915954</td>\n",
              "      <td>43.137461</td>\n",
              "      <td>24.421879</td>\n",
              "      <td>1.770867</td>\n",
              "      <td>54.0</td>\n",
              "      <td>32.926829</td>\n",
              "      <td>493782.0</td>\n",
              "      <td>322073.0</td>\n",
              "      <td>171709.0</td>\n",
              "      <td>65.225747</td>\n",
              "    </tr>\n",
              "    <tr>\n",
              "      <th>1</th>\n",
              "      <td>District of Columbia</td>\n",
              "      <td>11.0</td>\n",
              "      <td>-77.026928</td>\n",
              "      <td>38.892064</td>\n",
              "      <td>43.0</td>\n",
              "      <td>349.122</td>\n",
              "      <td>240.403</td>\n",
              "      <td>3742.0</td>\n",
              "      <td>15565.529548</td>\n",
              "      <td>12.316611</td>\n",
              "      <td>17.886632</td>\n",
              "      <td>1.149118</td>\n",
              "      <td>12.0</td>\n",
              "      <td>27.906977</td>\n",
              "      <td>572059.0</td>\n",
              "      <td>572059.0</td>\n",
              "      <td>0.0</td>\n",
              "      <td>100.000000</td>\n",
              "    </tr>\n",
              "    <tr>\n",
              "      <th>2</th>\n",
              "      <td>Vermont</td>\n",
              "      <td>50.0</td>\n",
              "      <td>-72.556496</td>\n",
              "      <td>44.043498</td>\n",
              "      <td>98.0</td>\n",
              "      <td>550.462</td>\n",
              "      <td>551.516</td>\n",
              "      <td>7855.0</td>\n",
              "      <td>14242.560506</td>\n",
              "      <td>17.803227</td>\n",
              "      <td>17.769203</td>\n",
              "      <td>1.247613</td>\n",
              "      <td>20.0</td>\n",
              "      <td>20.408163</td>\n",
              "      <td>608827.0</td>\n",
              "      <td>232550.0</td>\n",
              "      <td>376277.0</td>\n",
              "      <td>38.196401</td>\n",
              "    </tr>\n",
              "    <tr>\n",
              "      <th>3</th>\n",
              "      <td>Alaska</td>\n",
              "      <td>2.0</td>\n",
              "      <td>-152.459342</td>\n",
              "      <td>64.609656</td>\n",
              "      <td>101.0</td>\n",
              "      <td>482.532</td>\n",
              "      <td>681.115</td>\n",
              "      <td>4990.0</td>\n",
              "      <td>7326.222444</td>\n",
              "      <td>20.931254</td>\n",
              "      <td>14.828627</td>\n",
              "      <td>2.024048</td>\n",
              "      <td>30.0</td>\n",
              "      <td>29.702970</td>\n",
              "      <td>626932.0</td>\n",
              "      <td>411955.0</td>\n",
              "      <td>214977.0</td>\n",
              "      <td>65.709678</td>\n",
              "    </tr>\n",
              "    <tr>\n",
              "      <th>4</th>\n",
              "      <td>North Dakota</td>\n",
              "      <td>38.0</td>\n",
              "      <td>-99.499793</td>\n",
              "      <td>47.469117</td>\n",
              "      <td>100.0</td>\n",
              "      <td>461.780</td>\n",
              "      <td>721.835</td>\n",
              "      <td>7594.0</td>\n",
              "      <td>10520.409789</td>\n",
              "      <td>21.655334</td>\n",
              "      <td>13.853581</td>\n",
              "      <td>1.316829</td>\n",
              "      <td>35.0</td>\n",
              "      <td>35.000000</td>\n",
              "      <td>642200.0</td>\n",
              "      <td>358394.0</td>\n",
              "      <td>283806.0</td>\n",
              "      <td>55.807225</td>\n",
              "    </tr>\n",
              "  </tbody>\n",
              "</table>\n",
              "</div>\n",
              "      <button class=\"colab-df-convert\" onclick=\"convertToInteractive('df-8f3e2dd4-9de3-4c5d-8d46-c9603f3bbeea')\"\n",
              "              title=\"Convert this dataframe to an interactive table.\"\n",
              "              style=\"display:none;\">\n",
              "        \n",
              "  <svg xmlns=\"http://www.w3.org/2000/svg\" height=\"24px\"viewBox=\"0 0 24 24\"\n",
              "       width=\"24px\">\n",
              "    <path d=\"M0 0h24v24H0V0z\" fill=\"none\"/>\n",
              "    <path d=\"M18.56 5.44l.94 2.06.94-2.06 2.06-.94-2.06-.94-.94-2.06-.94 2.06-2.06.94zm-11 1L8.5 8.5l.94-2.06 2.06-.94-2.06-.94L8.5 2.5l-.94 2.06-2.06.94zm10 10l.94 2.06.94-2.06 2.06-.94-2.06-.94-.94-2.06-.94 2.06-2.06.94z\"/><path d=\"M17.41 7.96l-1.37-1.37c-.4-.4-.92-.59-1.43-.59-.52 0-1.04.2-1.43.59L10.3 9.45l-7.72 7.72c-.78.78-.78 2.05 0 2.83L4 21.41c.39.39.9.59 1.41.59.51 0 1.02-.2 1.41-.59l7.78-7.78 2.81-2.81c.8-.78.8-2.07 0-2.86zM5.41 20L4 18.59l7.72-7.72 1.47 1.35L5.41 20z\"/>\n",
              "  </svg>\n",
              "      </button>\n",
              "      \n",
              "  <style>\n",
              "    .colab-df-container {\n",
              "      display:flex;\n",
              "      flex-wrap:wrap;\n",
              "      gap: 12px;\n",
              "    }\n",
              "\n",
              "    .colab-df-convert {\n",
              "      background-color: #E8F0FE;\n",
              "      border: none;\n",
              "      border-radius: 50%;\n",
              "      cursor: pointer;\n",
              "      display: none;\n",
              "      fill: #1967D2;\n",
              "      height: 32px;\n",
              "      padding: 0 0 0 0;\n",
              "      width: 32px;\n",
              "    }\n",
              "\n",
              "    .colab-df-convert:hover {\n",
              "      background-color: #E2EBFA;\n",
              "      box-shadow: 0px 1px 2px rgba(60, 64, 67, 0.3), 0px 1px 3px 1px rgba(60, 64, 67, 0.15);\n",
              "      fill: #174EA6;\n",
              "    }\n",
              "\n",
              "    [theme=dark] .colab-df-convert {\n",
              "      background-color: #3B4455;\n",
              "      fill: #D2E3FC;\n",
              "    }\n",
              "\n",
              "    [theme=dark] .colab-df-convert:hover {\n",
              "      background-color: #434B5C;\n",
              "      box-shadow: 0px 1px 3px 1px rgba(0, 0, 0, 0.15);\n",
              "      filter: drop-shadow(0px 1px 2px rgba(0, 0, 0, 0.3));\n",
              "      fill: #FFFFFF;\n",
              "    }\n",
              "  </style>\n",
              "\n",
              "      <script>\n",
              "        const buttonEl =\n",
              "          document.querySelector('#df-8f3e2dd4-9de3-4c5d-8d46-c9603f3bbeea button.colab-df-convert');\n",
              "        buttonEl.style.display =\n",
              "          google.colab.kernel.accessAllowed ? 'block' : 'none';\n",
              "\n",
              "        async function convertToInteractive(key) {\n",
              "          const element = document.querySelector('#df-8f3e2dd4-9de3-4c5d-8d46-c9603f3bbeea');\n",
              "          const dataTable =\n",
              "            await google.colab.kernel.invokeFunction('convertToInteractive',\n",
              "                                                     [key], {});\n",
              "          if (!dataTable) return;\n",
              "\n",
              "          const docLinkHtml = 'Like what you see? Visit the ' +\n",
              "            '<a target=\"_blank\" href=https://colab.research.google.com/notebooks/data_table.ipynb>data table notebook</a>'\n",
              "            + ' to learn more about interactive tables.';\n",
              "          element.innerHTML = '';\n",
              "          dataTable['output_type'] = 'display_data';\n",
              "          await google.colab.output.renderOutput(dataTable, element);\n",
              "          const docLink = document.createElement('div');\n",
              "          docLink.innerHTML = docLinkHtml;\n",
              "          element.appendChild(docLink);\n",
              "        }\n",
              "      </script>\n",
              "    </div>\n",
              "  </div>\n",
              "  "
            ]
          },
          "metadata": {},
          "execution_count": 8
        }
      ]
    },
    {
      "cell_type": "code",
      "source": [
        "df = pd.DataFrame([df['Traffic fatalities'],df['Licensed drivers (thousands)'],df['Registered vehicles (thousands)'],df['Vehicle-miles traveled (millions)']]).transpose()"
      ],
      "metadata": {
        "id": "2hYRL5t22M_b"
      },
      "execution_count": null,
      "outputs": []
    },
    {
      "cell_type": "code",
      "source": [
        "df.head()"
      ],
      "metadata": {
        "colab": {
          "base_uri": "https://localhost:8080/",
          "height": 206
        },
        "id": "x8gcOIHcmon1",
        "outputId": "92085b16-67b0-457f-aebf-931e81384fdd"
      },
      "execution_count": null,
      "outputs": [
        {
          "output_type": "execute_result",
          "data": {
            "text/plain": [
              "   Traffic fatalities  Licensed drivers (thousands)  \\\n",
              "0               164.0                       380.180   \n",
              "1                43.0                       349.122   \n",
              "2                98.0                       550.462   \n",
              "3               101.0                       482.532   \n",
              "4               100.0                       461.780   \n",
              "\n",
              "   Registered vehicles (thousands)  Vehicle-miles traveled (millions)  \n",
              "0                          671.529                             9261.0  \n",
              "1                          240.403                             3742.0  \n",
              "2                          551.516                             7855.0  \n",
              "3                          681.115                             4990.0  \n",
              "4                          721.835                             7594.0  "
            ],
            "text/html": [
              "\n",
              "  <div id=\"df-7a3fc918-d318-4691-a0e4-9c95e8fc431f\">\n",
              "    <div class=\"colab-df-container\">\n",
              "      <div>\n",
              "<style scoped>\n",
              "    .dataframe tbody tr th:only-of-type {\n",
              "        vertical-align: middle;\n",
              "    }\n",
              "\n",
              "    .dataframe tbody tr th {\n",
              "        vertical-align: top;\n",
              "    }\n",
              "\n",
              "    .dataframe thead th {\n",
              "        text-align: right;\n",
              "    }\n",
              "</style>\n",
              "<table border=\"1\" class=\"dataframe\">\n",
              "  <thead>\n",
              "    <tr style=\"text-align: right;\">\n",
              "      <th></th>\n",
              "      <th>Traffic fatalities</th>\n",
              "      <th>Licensed drivers (thousands)</th>\n",
              "      <th>Registered vehicles (thousands)</th>\n",
              "      <th>Vehicle-miles traveled (millions)</th>\n",
              "    </tr>\n",
              "  </thead>\n",
              "  <tbody>\n",
              "    <tr>\n",
              "      <th>0</th>\n",
              "      <td>164.0</td>\n",
              "      <td>380.180</td>\n",
              "      <td>671.529</td>\n",
              "      <td>9261.0</td>\n",
              "    </tr>\n",
              "    <tr>\n",
              "      <th>1</th>\n",
              "      <td>43.0</td>\n",
              "      <td>349.122</td>\n",
              "      <td>240.403</td>\n",
              "      <td>3742.0</td>\n",
              "    </tr>\n",
              "    <tr>\n",
              "      <th>2</th>\n",
              "      <td>98.0</td>\n",
              "      <td>550.462</td>\n",
              "      <td>551.516</td>\n",
              "      <td>7855.0</td>\n",
              "    </tr>\n",
              "    <tr>\n",
              "      <th>3</th>\n",
              "      <td>101.0</td>\n",
              "      <td>482.532</td>\n",
              "      <td>681.115</td>\n",
              "      <td>4990.0</td>\n",
              "    </tr>\n",
              "    <tr>\n",
              "      <th>4</th>\n",
              "      <td>100.0</td>\n",
              "      <td>461.780</td>\n",
              "      <td>721.835</td>\n",
              "      <td>7594.0</td>\n",
              "    </tr>\n",
              "  </tbody>\n",
              "</table>\n",
              "</div>\n",
              "      <button class=\"colab-df-convert\" onclick=\"convertToInteractive('df-7a3fc918-d318-4691-a0e4-9c95e8fc431f')\"\n",
              "              title=\"Convert this dataframe to an interactive table.\"\n",
              "              style=\"display:none;\">\n",
              "        \n",
              "  <svg xmlns=\"http://www.w3.org/2000/svg\" height=\"24px\"viewBox=\"0 0 24 24\"\n",
              "       width=\"24px\">\n",
              "    <path d=\"M0 0h24v24H0V0z\" fill=\"none\"/>\n",
              "    <path d=\"M18.56 5.44l.94 2.06.94-2.06 2.06-.94-2.06-.94-.94-2.06-.94 2.06-2.06.94zm-11 1L8.5 8.5l.94-2.06 2.06-.94-2.06-.94L8.5 2.5l-.94 2.06-2.06.94zm10 10l.94 2.06.94-2.06 2.06-.94-2.06-.94-.94-2.06-.94 2.06-2.06.94z\"/><path d=\"M17.41 7.96l-1.37-1.37c-.4-.4-.92-.59-1.43-.59-.52 0-1.04.2-1.43.59L10.3 9.45l-7.72 7.72c-.78.78-.78 2.05 0 2.83L4 21.41c.39.39.9.59 1.41.59.51 0 1.02-.2 1.41-.59l7.78-7.78 2.81-2.81c.8-.78.8-2.07 0-2.86zM5.41 20L4 18.59l7.72-7.72 1.47 1.35L5.41 20z\"/>\n",
              "  </svg>\n",
              "      </button>\n",
              "      \n",
              "  <style>\n",
              "    .colab-df-container {\n",
              "      display:flex;\n",
              "      flex-wrap:wrap;\n",
              "      gap: 12px;\n",
              "    }\n",
              "\n",
              "    .colab-df-convert {\n",
              "      background-color: #E8F0FE;\n",
              "      border: none;\n",
              "      border-radius: 50%;\n",
              "      cursor: pointer;\n",
              "      display: none;\n",
              "      fill: #1967D2;\n",
              "      height: 32px;\n",
              "      padding: 0 0 0 0;\n",
              "      width: 32px;\n",
              "    }\n",
              "\n",
              "    .colab-df-convert:hover {\n",
              "      background-color: #E2EBFA;\n",
              "      box-shadow: 0px 1px 2px rgba(60, 64, 67, 0.3), 0px 1px 3px 1px rgba(60, 64, 67, 0.15);\n",
              "      fill: #174EA6;\n",
              "    }\n",
              "\n",
              "    [theme=dark] .colab-df-convert {\n",
              "      background-color: #3B4455;\n",
              "      fill: #D2E3FC;\n",
              "    }\n",
              "\n",
              "    [theme=dark] .colab-df-convert:hover {\n",
              "      background-color: #434B5C;\n",
              "      box-shadow: 0px 1px 3px 1px rgba(0, 0, 0, 0.15);\n",
              "      filter: drop-shadow(0px 1px 2px rgba(0, 0, 0, 0.3));\n",
              "      fill: #FFFFFF;\n",
              "    }\n",
              "  </style>\n",
              "\n",
              "      <script>\n",
              "        const buttonEl =\n",
              "          document.querySelector('#df-7a3fc918-d318-4691-a0e4-9c95e8fc431f button.colab-df-convert');\n",
              "        buttonEl.style.display =\n",
              "          google.colab.kernel.accessAllowed ? 'block' : 'none';\n",
              "\n",
              "        async function convertToInteractive(key) {\n",
              "          const element = document.querySelector('#df-7a3fc918-d318-4691-a0e4-9c95e8fc431f');\n",
              "          const dataTable =\n",
              "            await google.colab.kernel.invokeFunction('convertToInteractive',\n",
              "                                                     [key], {});\n",
              "          if (!dataTable) return;\n",
              "\n",
              "          const docLinkHtml = 'Like what you see? Visit the ' +\n",
              "            '<a target=\"_blank\" href=https://colab.research.google.com/notebooks/data_table.ipynb>data table notebook</a>'\n",
              "            + ' to learn more about interactive tables.';\n",
              "          element.innerHTML = '';\n",
              "          dataTable['output_type'] = 'display_data';\n",
              "          await google.colab.output.renderOutput(dataTable, element);\n",
              "          const docLink = document.createElement('div');\n",
              "          docLink.innerHTML = docLinkHtml;\n",
              "          element.appendChild(docLink);\n",
              "        }\n",
              "      </script>\n",
              "    </div>\n",
              "  </div>\n",
              "  "
            ]
          },
          "metadata": {},
          "execution_count": 10
        }
      ]
    },
    {
      "cell_type": "code",
      "source": [
        "for column in df:\n",
        "  df[column] = df[column]/np.amax(df[column])"
      ],
      "metadata": {
        "id": "p35KoYnhmsYF"
      },
      "execution_count": null,
      "outputs": []
    },
    {
      "cell_type": "markdown",
      "source": [
        "## **Splitting Dataset into test and train**"
      ],
      "metadata": {
        "id": "jSE9IL_3nAjN"
      }
    },
    {
      "cell_type": "code",
      "source": [
        "train , test = train_test_split(df,train_size = 0.7,shuffle = True)"
      ],
      "metadata": {
        "id": "wb1hYK3_G9wJ"
      },
      "execution_count": null,
      "outputs": []
    },
    {
      "cell_type": "markdown",
      "source": [
        "**Creating theta matrix and y for training and testing**\n"
      ],
      "metadata": {
        "id": "NOaAUd5NnQ7q"
      }
    },
    {
      "cell_type": "code",
      "source": [
        "y_train = np.array(train.iloc[:, 0])\n",
        "y_train = y_train.reshape([35,1])\n",
        "x_train = np.array(train.iloc[:, 1:])\n",
        "on_train = np.ones([train.shape[0],1])\n",
        "theta_train = np.hstack((on_train,x_train))"
      ],
      "metadata": {
        "id": "ZHfTrHRU2bZ9"
      },
      "execution_count": null,
      "outputs": []
    },
    {
      "cell_type": "code",
      "source": [
        "y_test = np.array(test.iloc[:, 0])\n",
        "x_test = np.array(test.iloc[:, 1:])\n",
        "on_test = np.ones([test.shape[0],1])\n",
        "y_test = y_test.reshape([y_test.shape[0],1])\n",
        "theta_test = np.hstack((on_test,x_test))"
      ],
      "metadata": {
        "id": "1nCmUhKdHFAx"
      },
      "execution_count": null,
      "outputs": []
    },
    {
      "cell_type": "markdown",
      "source": [
        "**Calculating optimum weights (using pseudo inverse) and predicting output**"
      ],
      "metadata": {
        "id": "VF_Pgx--nXlN"
      }
    },
    {
      "cell_type": "code",
      "source": [
        "weight_opt = np.matmul(np.linalg.pinv(theta_train),y_train)\n",
        "y_pred = np.matmul(theta_test,weight_opt)"
      ],
      "metadata": {
        "id": "9bd7KDKR2f7P"
      },
      "execution_count": null,
      "outputs": []
    },
    {
      "cell_type": "markdown",
      "source": [
        "**Plotting ground truth and predicted outputs**"
      ],
      "metadata": {
        "id": "QFneW8gAnavd"
      }
    },
    {
      "cell_type": "code",
      "source": [
        "plt.plot(y_test)\n",
        "plt.plot(y_pred)\n",
        "plt.legend(['Ground Truth','Predicted Output'])"
      ],
      "metadata": {
        "colab": {
          "base_uri": "https://localhost:8080/",
          "height": 282
        },
        "id": "7OXPIEUT2jHI",
        "outputId": "d5a7c90b-19d2-4ca1-9322-a42bf2444bfe"
      },
      "execution_count": null,
      "outputs": [
        {
          "output_type": "execute_result",
          "data": {
            "text/plain": [
              "<matplotlib.legend.Legend at 0x7f882d991350>"
            ]
          },
          "metadata": {},
          "execution_count": 16
        },
        {
          "output_type": "display_data",
          "data": {
            "text/plain": [
              "<Figure size 432x288 with 1 Axes>"
            ],
            "image/png": "[encoded data removed]"
          },
          "metadata": {
            "needs_background": "light"
          }
        }
      ]
    },
    {
      "cell_type": "markdown",
      "source": [
        "**Calculating mean squared error , root mean squared error and mean absolute error**"
      ],
      "metadata": {
        "id": "TKPugzrnndwN"
      }
    },
    {
      "cell_type": "code",
      "source": [
        "mse = mean_squared_error(y_test, y_pred)\n",
        "rmse = mean_squared_error(y_test, y_pred, squared = False)\n",
        "mae = mean_absolute_error(y_test, y_pred)\n"
      ],
      "metadata": {
        "id": "lilGxs_H2lji"
      },
      "execution_count": null,
      "outputs": []
    },
    {
      "cell_type": "code",
      "source": [
        "print(\"Mean Squared Error: \",mse)\n",
        "print(\"Root Mean Squared Error: \",rmse)\n",
        "print(\"Mean Absolute Error: \",mae)"
      ],
      "metadata": {
        "colab": {
          "base_uri": "https://localhost:8080/"
        },
        "id": "L_MS48qn2oCr",
        "outputId": "b8b4e4b1-860b-47c5-cd5b-385e5437c255"
      },
      "execution_count": null,
      "outputs": [
        {
          "output_type": "stream",
          "name": "stdout",
          "text": [
            "Mean Squared Error:  0.002461473203061905\n",
            "Root Mean Squared Error:  0.04961323616800163\n",
            "Mean Absolute Error:  0.03666284315763012\n"
          ]
        }
      ]
    },
    {
      "cell_type": "markdown",
      "source": [
        "# **Finding optimum weights using Gradiend Descent**"
      ],
      "metadata": {
        "id": "Ol9RdeI7nhtO"
      }
    },
    {
      "cell_type": "markdown",
      "source": [
        "**Randomly initialising weights**"
      ],
      "metadata": {
        "id": "AhznRAe7nkbN"
      }
    },
    {
      "cell_type": "code",
      "source": [
        "grad_weights = np.random.randn(len(theta_train[0]), 1)"
      ],
      "metadata": {
        "id": "TOJGo3SP2slo"
      },
      "execution_count": null,
      "outputs": []
    },
    {
      "cell_type": "markdown",
      "source": [
        "**Implementing Gradient Descent and predicting output**"
      ],
      "metadata": {
        "id": "p4lsyk-LnnK8"
      }
    },
    {
      "cell_type": "code",
      "source": [
        "iterations = 1000\n",
        "learning_rate = 0.03\n",
        "\n",
        "for i in range(iterations):\n",
        "  delta_e = np.matmul(theta_train.transpose(),(np.matmul(theta_train,grad_weights)-y_train))\n",
        "  grad_weights = grad_weights - learning_rate * delta_e \n",
        "ygrad_pred = np.matmul(theta_test,grad_weights)"
      ],
      "metadata": {
        "id": "5Dkhjj-8EXS9"
      },
      "execution_count": null,
      "outputs": []
    },
    {
      "cell_type": "markdown",
      "source": [
        "**Plotting ground truth and predicted outputs**"
      ],
      "metadata": {
        "id": "SC5DXb7ynp52"
      }
    },
    {
      "cell_type": "code",
      "source": [
        "plt.plot(y_test)\n",
        "plt.plot(ygrad_pred)\n",
        "plt.legend(['Ground Truth','Predicted Output'])"
      ],
      "metadata": {
        "colab": {
          "base_uri": "https://localhost:8080/",
          "height": 282
        },
        "id": "NHzKpbeAEcJa",
        "outputId": "02725969-dd51-4816-de69-8ec4d5e9c5f7"
      },
      "execution_count": null,
      "outputs": [
        {
          "output_type": "execute_result",
          "data": {
            "text/plain": [
              "<matplotlib.legend.Legend at 0x7f882d90a850>"
            ]
          },
          "metadata": {},
          "execution_count": 21
        },
        {
          "output_type": "display_data",
          "data": {
            "text/plain": [
              "<Figure size 432x288 with 1 Axes>"
            ],
            "image/png": "[encoded data removed]"
          },
          "metadata": {
            "needs_background": "light"
          }
        }
      ]
    },
    {
      "cell_type": "markdown",
      "source": [
        "**Calculating mean squared error , root mean squared error and mean absolute error**"
      ],
      "metadata": {
        "id": "YRg0XPZQntJ1"
      }
    },
    {
      "cell_type": "code",
      "source": [
        "mse_g = mean_squared_error(y_test, ygrad_pred)\n",
        "rmse_g = mean_squared_error(y_test, ygrad_pred, squared = False)\n",
        "mae_g = mean_absolute_error(y_test, ygrad_pred)\n",
        "print(mse_g,rmse_g,mae_g)"
      ],
      "metadata": {
        "colab": {
          "base_uri": "https://localhost:8080/"
        },
        "id": "x_Vb3sIWEetV",
        "outputId": "76d8d6b0-9160-4ef7-abb8-0a9984a2a062"
      },
      "execution_count": null,
      "outputs": [
        {
          "output_type": "stream",
          "name": "stdout",
          "text": [
            "0.0025025358918378217 0.050025352490890275 0.04014519187257887\n"
          ]
        }
      ]
    },
    {
      "cell_type": "code",
      "source": [
        "print(\"Mean Squared Error: \",mse_g)\n",
        "print(\"Root Mean Squared Error: \",rmse_g)\n",
        "print(\"Mean Absolute Error: \",mae_g)"
      ],
      "metadata": {
        "colab": {
          "base_uri": "https://localhost:8080/"
        },
        "id": "dhpHk_YjEhCE",
        "outputId": "a255e728-69af-4a0f-a58e-a4be827a31f3"
      },
      "execution_count": null,
      "outputs": [
        {
          "output_type": "stream",
          "name": "stdout",
          "text": [
            "Mean Squared Error:  0.0025025358918378217\n",
            "Root Mean Squared Error:  0.050025352490890275\n",
            "Mean Absolute Error:  0.04014519187257887\n"
          ]
        }
      ]
    },
    {
      "cell_type": "markdown",
      "source": [
        "# Changing relationship between input and output variables "
      ],
      "metadata": {
        "id": "lRQNY5pynxRd"
      }
    },
    {
      "cell_type": "markdown",
      "source": [
        "**Recalculating Theta matrix**"
      ],
      "metadata": {
        "id": "hGWODWkBnzcM"
      }
    },
    {
      "cell_type": "code",
      "source": [
        "theta_train_dash = np.hstack((on_train,np.reshape(np.square(x_train.T[0]).T,(35,1)),x_train))\n",
        "theta_test_dash = np.hstack((on_test,np.reshape(np.square(x_test.T[0]).T,(16,1)),x_test))"
      ],
      "metadata": {
        "id": "BWwiHJ_FElxb"
      },
      "execution_count": null,
      "outputs": []
    },
    {
      "cell_type": "markdown",
      "source": [
        "**Calculating optimum weights (using pseudo inverse) and predicting output**"
      ],
      "metadata": {
        "id": "J_Wx14Zon2Xc"
      }
    },
    {
      "cell_type": "code",
      "source": [
        "weight_opt_dash = np.matmul(np.linalg.pinv(theta_train_dash),y_train)\n",
        "y_pred_dash = np.matmul(theta_test_dash,weight_opt_dash)"
      ],
      "metadata": {
        "id": "3FT31RQwFEjr"
      },
      "execution_count": null,
      "outputs": []
    },
    {
      "cell_type": "markdown",
      "source": [
        "**Plotting ground truth and predicted outputs**"
      ],
      "metadata": {
        "id": "Fsc19v2Zn60_"
      }
    },
    {
      "cell_type": "code",
      "source": [
        "plt.plot(y_test)\n",
        "plt.plot(y_pred_dash)\n",
        "plt.legend(['Ground Truth','Predicted Output'])"
      ],
      "metadata": {
        "colab": {
          "base_uri": "https://localhost:8080/",
          "height": 282
        },
        "id": "5jpnMTukFHD1",
        "outputId": "3573122f-1642-4635-ac7c-fe53a87abd3a"
      },
      "execution_count": null,
      "outputs": [
        {
          "output_type": "execute_result",
          "data": {
            "text/plain": [
              "<matplotlib.legend.Legend at 0x7f882d90df10>"
            ]
          },
          "metadata": {},
          "execution_count": 26
        },
        {
          "output_type": "display_data",
          "data": {
            "text/plain": [
              "<Figure size 432x288 with 1 Axes>"
            ],
            "image/png": "[encoded data removed]"
          },
          "metadata": {
            "needs_background": "light"
          }
        }
      ]
    },
    {
      "cell_type": "markdown",
      "source": [
        "**Calculating mean squared error , root mean squared error and mean absolute error**"
      ],
      "metadata": {
        "id": "gPxtprRGn9fd"
      }
    },
    {
      "cell_type": "code",
      "source": [
        "mse_dash = mean_squared_error(y_test, y_pred_dash)\n",
        "rmse_dash = mean_squared_error(y_test, y_pred_dash, squared = False)\n",
        "mae_dash = mean_absolute_error(y_test, y_pred_dash)\n",
        "print(mse_dash,rmse_dash,mae_dash)"
      ],
      "metadata": {
        "colab": {
          "base_uri": "https://localhost:8080/"
        },
        "id": "_Ub7Ei2XFJTk",
        "outputId": "cc1a20a7-4e79-4815-c27d-b67eeb135caf"
      },
      "execution_count": null,
      "outputs": [
        {
          "output_type": "stream",
          "name": "stdout",
          "text": [
            "0.0022607869052211457 0.047547732913580075 0.036130461403863036\n"
          ]
        }
      ]
    },
    {
      "cell_type": "code",
      "source": [
        "print(\"Mean Squared Error: \",mse_dash)\n",
        "print(\"Root Mean Squared Error: \",rmse_dash)\n",
        "print(\"Mean Absolute Error: \",mae_dash)"
      ],
      "metadata": {
        "colab": {
          "base_uri": "https://localhost:8080/"
        },
        "id": "-VnVk9onFMmX",
        "outputId": "6ad44f83-d279-4f11-e434-eb628d449f85"
      },
      "execution_count": null,
      "outputs": [
        {
          "output_type": "stream",
          "name": "stdout",
          "text": [
            "Mean Squared Error:  0.0022607869052211457\n",
            "Root Mean Squared Error:  0.047547732913580075\n",
            "Mean Absolute Error:  0.036130461403863036\n"
          ]
        }
      ]
    },
    {
      "cell_type": "code",
      "source": [],
      "metadata": {
        "id": "dkeYdz_yFOvB"
      },
      "execution_count": null,
      "outputs": []
    }
  ]
}