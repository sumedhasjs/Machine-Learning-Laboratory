{
  "nbformat": 4,
  "nbformat_minor": 0,
  "metadata": {
    "colab": {
      "provenance": [],
      "authorship_tag": "ABX9TyOMTYPwbMYbyY3372H8tDXL",
      "include_colab_link": true
    },
    "kernelspec": {
      "name": "python3",
      "display_name": "Python 3"
    },
    "language_info": {
      "name": "python"
    }
  },
  "cells": [
    {
      "cell_type": "markdown",
      "metadata": {
        "id": "view-in-github",
        "colab_type": "text"
      },
      "source": [
        "<a href=\"https://colab.research.google.com/github/sumedhasjs/Machine-Learning-Laboratory/blob/main/ANN_BT19ECE107.ipynb\" target=\"_parent\"><img src=\"https://colab.research.google.com/assets/colab-badge.svg\" alt=\"Open In Colab\"/></a>"
      ]
    },
    {
      "cell_type": "markdown",
      "source": [
        "## **Importing the Dataset**"
      ],
      "metadata": {
        "id": "sc3DH0hJisRS"
      }
    },
    {
      "cell_type": "code",
      "execution_count": 2,
      "metadata": {
        "colab": {
          "base_uri": "https://localhost:8080/"
        },
        "id": "O2XBCjo8vrrY",
        "outputId": "a12e2904-8b65-46f3-b40b-7987749c0542"
      },
      "outputs": [
        {
          "output_type": "stream",
          "name": "stdout",
          "text": [
            "Mounted at /content/gdrive\n"
          ]
        }
      ],
      "source": [
        "from google.colab import drive\n",
        "drive.mount('/content/gdrive')"
      ]
    },
    {
      "cell_type": "code",
      "source": [
        "%cd 'gdrive/MyDrive/ML Lab Datasets'"
      ],
      "metadata": {
        "colab": {
          "base_uri": "https://localhost:8080/"
        },
        "id": "-ben2b1dxHWV",
        "outputId": "f96461f4-1670-454c-84ad-6ca513f4c0f7"
      },
      "execution_count": 3,
      "outputs": [
        {
          "output_type": "stream",
          "name": "stdout",
          "text": [
            "/content/gdrive/MyDrive/ML Lab Datasets\n"
          ]
        }
      ]
    },
    {
      "cell_type": "markdown",
      "source": [
        "# **Importing Libraries**"
      ],
      "metadata": {
        "id": "xTrbYci7i5-8"
      }
    },
    {
      "cell_type": "code",
      "source": [
        "!pip install scikit-plot"
      ],
      "metadata": {
        "colab": {
          "base_uri": "https://localhost:8080/"
        },
        "id": "m_w4GdENiVSJ",
        "outputId": "7655c3a0-32a2-42d4-f6b8-c3a0eb2aa23b"
      },
      "execution_count": 37,
      "outputs": [
        {
          "output_type": "stream",
          "name": "stdout",
          "text": [
            "Looking in indexes: https://pypi.org/simple, https://us-python.pkg.dev/colab-wheels/public/simple/\n",
            "Collecting scikit-plot\n",
            "  Downloading scikit_plot-0.3.7-py3-none-any.whl (33 kB)\n",
            "Requirement already satisfied: joblib>=0.10 in /usr/local/lib/python3.7/dist-packages (from scikit-plot) (1.1.0)\n",
            "Requirement already satisfied: matplotlib>=1.4.0 in /usr/local/lib/python3.7/dist-packages (from scikit-plot) (3.2.2)\n",
            "Requirement already satisfied: scikit-learn>=0.18 in /usr/local/lib/python3.7/dist-packages (from scikit-plot) (1.0.2)\n",
            "Requirement already satisfied: scipy>=0.9 in /usr/local/lib/python3.7/dist-packages (from scikit-plot) (1.7.3)\n",
            "Requirement already satisfied: python-dateutil>=2.1 in /usr/local/lib/python3.7/dist-packages (from matplotlib>=1.4.0->scikit-plot) (2.8.2)\n",
            "Requirement already satisfied: pyparsing!=2.0.4,!=2.1.2,!=2.1.6,>=2.0.1 in /usr/local/lib/python3.7/dist-packages (from matplotlib>=1.4.0->scikit-plot) (3.0.9)\n",
            "Requirement already satisfied: kiwisolver>=1.0.1 in /usr/local/lib/python3.7/dist-packages (from matplotlib>=1.4.0->scikit-plot) (1.4.4)\n",
            "Requirement already satisfied: cycler>=0.10 in /usr/local/lib/python3.7/dist-packages (from matplotlib>=1.4.0->scikit-plot) (0.11.0)\n",
            "Requirement already satisfied: numpy>=1.11 in /usr/local/lib/python3.7/dist-packages (from matplotlib>=1.4.0->scikit-plot) (1.21.6)\n",
            "Requirement already satisfied: typing-extensions in /usr/local/lib/python3.7/dist-packages (from kiwisolver>=1.0.1->matplotlib>=1.4.0->scikit-plot) (4.1.1)\n",
            "Requirement already satisfied: six>=1.5 in /usr/local/lib/python3.7/dist-packages (from python-dateutil>=2.1->matplotlib>=1.4.0->scikit-plot) (1.15.0)\n",
            "Requirement already satisfied: threadpoolctl>=2.0.0 in /usr/local/lib/python3.7/dist-packages (from scikit-learn>=0.18->scikit-plot) (3.1.0)\n",
            "Installing collected packages: scikit-plot\n",
            "Successfully installed scikit-plot-0.3.7\n"
          ]
        }
      ]
    },
    {
      "cell_type": "code",
      "source": [
        "import numpy as np\n",
        "import matplotlib.pyplot as plt\n",
        "import pandas as pd\n",
        "import scipy.io\n",
        "from scipy.io import loadmat\n",
        "from sklearn.model_selection import train_test_split\n",
        "from sklearn.metrics import accuracy_score,confusion_matrix,ConfusionMatrixDisplay\n",
        "import tensorflow as tf\n",
        "import torch\n",
        "from torch import nn\n",
        "from torch.utils.data import DataLoader\n",
        "from torchvision import datasets,transforms\n",
        "from torch import optim\n",
        "from tqdm import tqdm\n",
        "import random\n",
        "import math\n",
        "from sklearn.metrics import roc_curve, roc_auc_score \n",
        "import scikitplot as skplt"
      ],
      "metadata": {
        "id": "McbLo-QkxVA_"
      },
      "execution_count": 38,
      "outputs": []
    },
    {
      "cell_type": "markdown",
      "source": [
        "# Loading Data and Preprocessing"
      ],
      "metadata": {
        "id": "yVygeS33i-DA"
      }
    },
    {
      "cell_type": "code",
      "source": [
        "data=loadmat('Matlab_cancer.mat')"
      ],
      "metadata": {
        "id": "TKOQ3BjFzIlU"
      },
      "execution_count": 5,
      "outputs": []
    },
    {
      "cell_type": "code",
      "source": [
        "device='cuda' if torch.cuda.is_available() else 'cpu'\n",
        "print(f\"Using {device} device\")"
      ],
      "metadata": {
        "colab": {
          "base_uri": "https://localhost:8080/"
        },
        "id": "xzzTDsJKzOic",
        "outputId": "81177f75-0943-4886-8fb8-25f5e86ea65b"
      },
      "execution_count": 6,
      "outputs": [
        {
          "output_type": "stream",
          "name": "stdout",
          "text": [
            "Using cpu device\n"
          ]
        }
      ]
    },
    {
      "cell_type": "code",
      "source": [
        "data_x=data['x']\n",
        "data_y=data['t']"
      ],
      "metadata": {
        "id": "RJi_oolczdlf"
      },
      "execution_count": 7,
      "outputs": []
    },
    {
      "cell_type": "code",
      "source": [
        "data_x"
      ],
      "metadata": {
        "colab": {
          "base_uri": "https://localhost:8080/"
        },
        "id": "5QlxxciPziqm",
        "outputId": "86cb249e-9057-4c58-e8a7-787c8f8899d2"
      },
      "execution_count": 8,
      "outputs": [
        {
          "output_type": "execute_result",
          "data": {
            "text/plain": [
              "array([[0.46290091, 0.37056537, 0.46155037, ..., 0.58252595, 0.63768441,\n",
              "        0.52859127],\n",
              "       [0.40673611, 0.30643103, 0.27898015, ..., 0.4498    , 0.49972172,\n",
              "        0.45315089],\n",
              "       [0.30621525, 0.23971475, 0.20660846, ..., 0.34488742, 0.33761557,\n",
              "        0.41943002],\n",
              "       ...,\n",
              "       [0.08009822, 0.23816822, 0.23361855, ..., 0.15979104, 0.13400809,\n",
              "        0.1597645 ],\n",
              "       [0.14462108, 0.18637254, 0.17546801, ..., 0.10701832, 0.1389127 ,\n",
              "        0.29903768],\n",
              "       [0.10640488, 0.12637318, 0.0999025 , ..., 0.17790702, 0.177601  ,\n",
              "        0.17012326]])"
            ]
          },
          "metadata": {},
          "execution_count": 8
        }
      ]
    },
    {
      "cell_type": "code",
      "source": [
        "data_x=np.transpose(data_x)"
      ],
      "metadata": {
        "id": "k6APWRQ_0Cyq"
      },
      "execution_count": 9,
      "outputs": []
    },
    {
      "cell_type": "code",
      "source": [
        "np.transpose(data_y)"
      ],
      "metadata": {
        "colab": {
          "base_uri": "https://localhost:8080/"
        },
        "id": "QJ7lpdpg0PDP",
        "outputId": "e9a0184c-1fe8-4a57-ba6b-8fe1585abae3"
      },
      "execution_count": 10,
      "outputs": [
        {
          "output_type": "execute_result",
          "data": {
            "text/plain": [
              "array([[1, 0],\n",
              "       [1, 0],\n",
              "       [1, 0],\n",
              "       [1, 0],\n",
              "       [1, 0],\n",
              "       [1, 0],\n",
              "       [1, 0],\n",
              "       [1, 0],\n",
              "       [1, 0],\n",
              "       [1, 0],\n",
              "       [1, 0],\n",
              "       [1, 0],\n",
              "       [1, 0],\n",
              "       [1, 0],\n",
              "       [1, 0],\n",
              "       [1, 0],\n",
              "       [1, 0],\n",
              "       [1, 0],\n",
              "       [1, 0],\n",
              "       [1, 0],\n",
              "       [1, 0],\n",
              "       [1, 0],\n",
              "       [1, 0],\n",
              "       [1, 0],\n",
              "       [1, 0],\n",
              "       [1, 0],\n",
              "       [1, 0],\n",
              "       [1, 0],\n",
              "       [1, 0],\n",
              "       [1, 0],\n",
              "       [1, 0],\n",
              "       [1, 0],\n",
              "       [1, 0],\n",
              "       [1, 0],\n",
              "       [1, 0],\n",
              "       [1, 0],\n",
              "       [1, 0],\n",
              "       [1, 0],\n",
              "       [1, 0],\n",
              "       [1, 0],\n",
              "       [1, 0],\n",
              "       [1, 0],\n",
              "       [1, 0],\n",
              "       [1, 0],\n",
              "       [1, 0],\n",
              "       [1, 0],\n",
              "       [1, 0],\n",
              "       [1, 0],\n",
              "       [1, 0],\n",
              "       [1, 0],\n",
              "       [1, 0],\n",
              "       [1, 0],\n",
              "       [1, 0],\n",
              "       [1, 0],\n",
              "       [1, 0],\n",
              "       [1, 0],\n",
              "       [1, 0],\n",
              "       [1, 0],\n",
              "       [1, 0],\n",
              "       [1, 0],\n",
              "       [1, 0],\n",
              "       [1, 0],\n",
              "       [1, 0],\n",
              "       [1, 0],\n",
              "       [1, 0],\n",
              "       [1, 0],\n",
              "       [1, 0],\n",
              "       [1, 0],\n",
              "       [1, 0],\n",
              "       [1, 0],\n",
              "       [1, 0],\n",
              "       [1, 0],\n",
              "       [1, 0],\n",
              "       [1, 0],\n",
              "       [1, 0],\n",
              "       [1, 0],\n",
              "       [1, 0],\n",
              "       [1, 0],\n",
              "       [1, 0],\n",
              "       [1, 0],\n",
              "       [1, 0],\n",
              "       [1, 0],\n",
              "       [1, 0],\n",
              "       [1, 0],\n",
              "       [1, 0],\n",
              "       [1, 0],\n",
              "       [1, 0],\n",
              "       [1, 0],\n",
              "       [1, 0],\n",
              "       [1, 0],\n",
              "       [1, 0],\n",
              "       [1, 0],\n",
              "       [1, 0],\n",
              "       [1, 0],\n",
              "       [1, 0],\n",
              "       [1, 0],\n",
              "       [1, 0],\n",
              "       [1, 0],\n",
              "       [1, 0],\n",
              "       [1, 0],\n",
              "       [1, 0],\n",
              "       [1, 0],\n",
              "       [1, 0],\n",
              "       [1, 0],\n",
              "       [1, 0],\n",
              "       [1, 0],\n",
              "       [1, 0],\n",
              "       [1, 0],\n",
              "       [1, 0],\n",
              "       [1, 0],\n",
              "       [1, 0],\n",
              "       [1, 0],\n",
              "       [1, 0],\n",
              "       [1, 0],\n",
              "       [1, 0],\n",
              "       [1, 0],\n",
              "       [1, 0],\n",
              "       [1, 0],\n",
              "       [1, 0],\n",
              "       [1, 0],\n",
              "       [1, 0],\n",
              "       [0, 1],\n",
              "       [0, 1],\n",
              "       [0, 1],\n",
              "       [0, 1],\n",
              "       [0, 1],\n",
              "       [0, 1],\n",
              "       [0, 1],\n",
              "       [0, 1],\n",
              "       [0, 1],\n",
              "       [0, 1],\n",
              "       [0, 1],\n",
              "       [0, 1],\n",
              "       [0, 1],\n",
              "       [0, 1],\n",
              "       [0, 1],\n",
              "       [0, 1],\n",
              "       [0, 1],\n",
              "       [0, 1],\n",
              "       [0, 1],\n",
              "       [0, 1],\n",
              "       [0, 1],\n",
              "       [0, 1],\n",
              "       [0, 1],\n",
              "       [0, 1],\n",
              "       [0, 1],\n",
              "       [0, 1],\n",
              "       [0, 1],\n",
              "       [0, 1],\n",
              "       [0, 1],\n",
              "       [0, 1],\n",
              "       [0, 1],\n",
              "       [0, 1],\n",
              "       [0, 1],\n",
              "       [0, 1],\n",
              "       [0, 1],\n",
              "       [0, 1],\n",
              "       [0, 1],\n",
              "       [0, 1],\n",
              "       [0, 1],\n",
              "       [0, 1],\n",
              "       [0, 1],\n",
              "       [0, 1],\n",
              "       [0, 1],\n",
              "       [0, 1],\n",
              "       [0, 1],\n",
              "       [0, 1],\n",
              "       [0, 1],\n",
              "       [0, 1],\n",
              "       [0, 1],\n",
              "       [0, 1],\n",
              "       [0, 1],\n",
              "       [0, 1],\n",
              "       [0, 1],\n",
              "       [0, 1],\n",
              "       [0, 1],\n",
              "       [0, 1],\n",
              "       [0, 1],\n",
              "       [0, 1],\n",
              "       [0, 1],\n",
              "       [0, 1],\n",
              "       [0, 1],\n",
              "       [0, 1],\n",
              "       [0, 1],\n",
              "       [0, 1],\n",
              "       [0, 1],\n",
              "       [0, 1],\n",
              "       [0, 1],\n",
              "       [0, 1],\n",
              "       [0, 1],\n",
              "       [0, 1],\n",
              "       [0, 1],\n",
              "       [0, 1],\n",
              "       [0, 1],\n",
              "       [0, 1],\n",
              "       [0, 1],\n",
              "       [0, 1],\n",
              "       [0, 1],\n",
              "       [0, 1],\n",
              "       [0, 1],\n",
              "       [0, 1],\n",
              "       [0, 1],\n",
              "       [0, 1],\n",
              "       [0, 1],\n",
              "       [0, 1],\n",
              "       [0, 1],\n",
              "       [0, 1],\n",
              "       [0, 1],\n",
              "       [0, 1],\n",
              "       [0, 1],\n",
              "       [0, 1],\n",
              "       [0, 1],\n",
              "       [0, 1],\n",
              "       [0, 1],\n",
              "       [0, 1],\n",
              "       [0, 1]], dtype=uint8)"
            ]
          },
          "metadata": {},
          "execution_count": 10
        }
      ]
    },
    {
      "cell_type": "code",
      "source": [
        "data_y=data_y[0]"
      ],
      "metadata": {
        "id": "61Yk7Faf0SK1"
      },
      "execution_count": 11,
      "outputs": []
    },
    {
      "cell_type": "code",
      "source": [
        "data_x.shape"
      ],
      "metadata": {
        "colab": {
          "base_uri": "https://localhost:8080/"
        },
        "id": "BC0LQ3XA0Y9_",
        "outputId": "99b3aa85-fa84-4704-c754-50ac57c52b67"
      },
      "execution_count": 12,
      "outputs": [
        {
          "output_type": "execute_result",
          "data": {
            "text/plain": [
              "(216, 100)"
            ]
          },
          "metadata": {},
          "execution_count": 12
        }
      ]
    },
    {
      "cell_type": "code",
      "source": [
        "data_y.shape"
      ],
      "metadata": {
        "colab": {
          "base_uri": "https://localhost:8080/"
        },
        "id": "-DExPQSO0c0R",
        "outputId": "2d9a213f-c08c-43b8-e6e6-5369f54b871e"
      },
      "execution_count": 16,
      "outputs": [
        {
          "output_type": "execute_result",
          "data": {
            "text/plain": [
              "(216,)"
            ]
          },
          "metadata": {},
          "execution_count": 16
        }
      ]
    },
    {
      "cell_type": "markdown",
      "source": [
        "# **Splitting Data into Testing, training and Validation sets**"
      ],
      "metadata": {
        "id": "erePz88ajD95"
      }
    },
    {
      "cell_type": "code",
      "source": [
        "train_x,test_x,train_y,test_y=train_test_split(data_x,data_y,train_size=0.8,shuffle=True,random_state=0)\n",
        "train_x,validation_x,train_y,validation_y=train_test_split(data_x,data_y,train_size=0.8,shuffle=True,random_state=0)"
      ],
      "metadata": {
        "id": "xpD1RVt30fCL"
      },
      "execution_count": 18,
      "outputs": []
    },
    {
      "cell_type": "code",
      "source": [
        "train_x.shape,test_x.shape, validation_x.shape"
      ],
      "metadata": {
        "colab": {
          "base_uri": "https://localhost:8080/"
        },
        "id": "hbeyZel61lZj",
        "outputId": "6de25ff3-de52-4f17-e95e-1ff701aef826"
      },
      "execution_count": 19,
      "outputs": [
        {
          "output_type": "execute_result",
          "data": {
            "text/plain": [
              "((172, 100), (44, 100), (44, 100))"
            ]
          },
          "metadata": {},
          "execution_count": 19
        }
      ]
    },
    {
      "cell_type": "code",
      "source": [
        "train_y.shape,test_y.shape, validation_y.shape"
      ],
      "metadata": {
        "colab": {
          "base_uri": "https://localhost:8080/"
        },
        "id": "ZX7BdFJ71woz",
        "outputId": "7f4f4e80-2258-4401-9daa-7cecc3873dee"
      },
      "execution_count": 20,
      "outputs": [
        {
          "output_type": "execute_result",
          "data": {
            "text/plain": [
              "((172,), (44,), (44,))"
            ]
          },
          "metadata": {},
          "execution_count": 20
        }
      ]
    },
    {
      "cell_type": "code",
      "source": [
        "class ArtificialNeuralNetwork1(nn.Module):\n",
        "  def __init__(self):\n",
        "    super(ArtificialNeuralNetwork1,self).__init__()\n",
        "    self.linear_relu_stack=nn.Sequential(\n",
        "        nn.Linear(100,512),\n",
        "        nn.ReLU(),\n",
        "        nn.Linear(512,512),\n",
        "        nn.ReLU(),\n",
        "        nn.Linear(512,1)\n",
        "    )\n",
        "\n",
        "  def forward(self,x):\n",
        "    logits=self.linear_relu_stack(x)\n",
        "    logits=torch.sigmoid(logits)\n",
        "    return logits"
      ],
      "metadata": {
        "id": "OqKW_EWx16Im"
      },
      "execution_count": 21,
      "outputs": []
    },
    {
      "cell_type": "code",
      "source": [
        "class ArtificialNeuralNetwork2(nn.Module):\n",
        "  def __init__(self):\n",
        "    super(ArtificialNeuralNetwork2,self).__init__()\n",
        "    self.linear_relu_stack=nn.Sequential(\n",
        "        nn.Linear(100,256),\n",
        "        nn.ReLU(),\n",
        "        nn.Linear(256,256),\n",
        "        nn.ReLU(),\n",
        "        nn.Linear(256,1)\n",
        "    )\n",
        "\n",
        "  def forward(self,x):\n",
        "    logits=self.linear_relu_stack(x)\n",
        "    logits=torch.sigmoid(logits)\n",
        "    return logits"
      ],
      "metadata": {
        "id": "1Zj1DLGu-Mq-"
      },
      "execution_count": 22,
      "outputs": []
    },
    {
      "cell_type": "code",
      "source": [
        "train_x=torch.from_numpy(train_x.astype(np.float32))\n",
        "test_x=torch.from_numpy(test_x.astype(np.float32))\n",
        "train_y=torch.from_numpy(train_y.astype(np.float32))\n",
        "test_y=torch.from_numpy(test_y.astype(np.float32))"
      ],
      "metadata": {
        "id": "fYH7kc4B4QyH"
      },
      "execution_count": 23,
      "outputs": []
    },
    {
      "cell_type": "code",
      "source": [
        "train_y=train_y.view(train_y.shape[0],1)\n",
        "test_y=test_y.view(test_y.shape[0],1)"
      ],
      "metadata": {
        "id": "UhENKVyA5ob6"
      },
      "execution_count": 24,
      "outputs": []
    },
    {
      "cell_type": "code",
      "source": [
        "train_x.shape,test_x.shape, validation_x.shape"
      ],
      "metadata": {
        "colab": {
          "base_uri": "https://localhost:8080/"
        },
        "id": "nrLZBNHP6L0X",
        "outputId": "0feb257d-f9a4-4493-a5b6-2b65a22547b1"
      },
      "execution_count": 25,
      "outputs": [
        {
          "output_type": "execute_result",
          "data": {
            "text/plain": [
              "(torch.Size([172, 100]), torch.Size([44, 100]), (44, 100))"
            ]
          },
          "metadata": {},
          "execution_count": 25
        }
      ]
    },
    {
      "cell_type": "code",
      "source": [
        "train_y.shape,test_y.shape, validation_y.shape"
      ],
      "metadata": {
        "colab": {
          "base_uri": "https://localhost:8080/"
        },
        "id": "ybSEFjaz6STn",
        "outputId": "2505c568-ca68-4ae4-c2a6-bac799704fda"
      },
      "execution_count": 26,
      "outputs": [
        {
          "output_type": "execute_result",
          "data": {
            "text/plain": [
              "(torch.Size([172, 1]), torch.Size([44, 1]), (44,))"
            ]
          },
          "metadata": {},
          "execution_count": 26
        }
      ]
    },
    {
      "cell_type": "code",
      "source": [
        "train_dataloader=DataLoader(train_x,batch_size=4,shuffle=True)\n",
        "test_dataloader=DataLoader(test_x,batch_size=4,shuffle=True)"
      ],
      "metadata": {
        "id": "he51IIhG6jv7"
      },
      "execution_count": 27,
      "outputs": []
    },
    {
      "cell_type": "markdown",
      "source": [
        "## **Model 1**"
      ],
      "metadata": {
        "id": "IgPPmb1njQkB"
      }
    },
    {
      "cell_type": "code",
      "source": [
        "model=ArtificialNeuralNetwork1()\n",
        "epochs_num=20\n",
        "criterion = nn.BCELoss()\n",
        "learning_rate = 0.001\n",
        "optimizer = optim.Adam(model.parameters(), lr=learning_rate)"
      ],
      "metadata": {
        "id": "lbl0dYSG7OsC"
      },
      "execution_count": 28,
      "outputs": []
    },
    {
      "cell_type": "code",
      "source": [
        "train_accuracy= []\n",
        "for epoch in range(epochs_num):\n",
        "    y_pred = model(train_x)\n",
        "    loss = criterion(y_pred, train_y)\n",
        "    y_predicted_cls = y_pred.round()\n",
        "    acc = y_predicted_cls.eq(train_y).sum() / float(train_y.shape[0])\n",
        "    \n",
        "    train_accuracy.append(acc)\n",
        "\n",
        "    loss.backward()\n",
        "    optimizer.step()\n",
        "\n",
        "    optimizer.zero_grad()\n",
        "\n",
        "    print(f'epoch: {epoch+1}, loss = {loss.item():.4f}, accuracy = {acc}')"
      ],
      "metadata": {
        "colab": {
          "base_uri": "https://localhost:8080/"
        },
        "id": "RDUmv8PV8LnE",
        "outputId": "0a49ff0d-f276-4b4a-a13b-4644cf721623"
      },
      "execution_count": 29,
      "outputs": [
        {
          "output_type": "stream",
          "name": "stdout",
          "text": [
            "epoch: 1, loss = 0.6889, accuracy = 0.7209302186965942\n",
            "epoch: 2, loss = 0.5764, accuracy = 0.8604651093482971\n",
            "epoch: 3, loss = 0.4948, accuracy = 0.8720930218696594\n",
            "epoch: 4, loss = 0.4280, accuracy = 0.8720930218696594\n",
            "epoch: 5, loss = 0.3751, accuracy = 0.8837209343910217\n",
            "epoch: 6, loss = 0.3351, accuracy = 0.8720930218696594\n",
            "epoch: 7, loss = 0.3074, accuracy = 0.854651153087616\n",
            "epoch: 8, loss = 0.2898, accuracy = 0.8604651093482971\n",
            "epoch: 9, loss = 0.2795, accuracy = 0.8662790656089783\n",
            "epoch: 10, loss = 0.2732, accuracy = 0.8720930218696594\n",
            "epoch: 11, loss = 0.2688, accuracy = 0.8662790656089783\n",
            "epoch: 12, loss = 0.2650, accuracy = 0.8720930218696594\n",
            "epoch: 13, loss = 0.2606, accuracy = 0.8779069781303406\n",
            "epoch: 14, loss = 0.2550, accuracy = 0.8837209343910217\n",
            "epoch: 15, loss = 0.2484, accuracy = 0.8895348906517029\n",
            "epoch: 16, loss = 0.2406, accuracy = 0.8895348906517029\n",
            "epoch: 17, loss = 0.2321, accuracy = 0.895348846912384\n",
            "epoch: 18, loss = 0.2230, accuracy = 0.895348846912384\n",
            "epoch: 19, loss = 0.2137, accuracy = 0.895348846912384\n",
            "epoch: 20, loss = 0.2044, accuracy = 0.9186046719551086\n"
          ]
        }
      ]
    },
    {
      "cell_type": "markdown",
      "source": [
        "Accuracy of Model-1"
      ],
      "metadata": {
        "id": "ftwXz4y6jTdA"
      }
    },
    {
      "cell_type": "code",
      "source": [
        "with torch.no_grad():\n",
        "    y_predicted = model(test_x)\n",
        "    y_predicted_cls = y_predicted.round()\n",
        "    acc = y_predicted_cls.eq(test_y).sum() / float(test_y.shape[0])\n",
        "    print(f'accuracy: {acc.item():.4f}')"
      ],
      "metadata": {
        "colab": {
          "base_uri": "https://localhost:8080/"
        },
        "id": "eMhebdPK8bBR",
        "outputId": "b455b9f8-e090-429e-a8c4-e9c6aabd7de1"
      },
      "execution_count": 30,
      "outputs": [
        {
          "output_type": "stream",
          "name": "stdout",
          "text": [
            "accuracy: 0.9318\n"
          ]
        }
      ]
    },
    {
      "cell_type": "markdown",
      "source": [
        "**Confusion Matrix, Specificity and Sensitivity of Model-1**"
      ],
      "metadata": {
        "id": "izUR3h3gjWuo"
      }
    },
    {
      "cell_type": "code",
      "source": [
        "cm = confusion_matrix(test_y, y_predicted.round())\n",
        "disp_rbf = ConfusionMatrixDisplay(cm)\n",
        "disp_rbf.plot()\n",
        "plt.show()\n",
        "\n",
        "sensitivity = cm[0,0]/(cm[0,0]+cm[0,1])\n",
        "print('Sensitivity : ', sensitivity )\n",
        "\n",
        "specificity = cm[1,1]/(cm[1,0]+cm[1,1])\n",
        "print('Specificity : ', specificity)"
      ],
      "metadata": {
        "colab": {
          "base_uri": "https://localhost:8080/",
          "height": 318
        },
        "id": "Kj1W249r8fEU",
        "outputId": "d35719a9-0bfe-4e7d-fb7b-a32220adda2f"
      },
      "execution_count": 47,
      "outputs": [
        {
          "output_type": "display_data",
          "data": {
            "text/plain": [
              "<Figure size 432x288 with 2 Axes>"
            ],
            "image/png": "[encoded data removed]"
          },
          "metadata": {
            "needs_background": "light"
          }
        },
        {
          "output_type": "stream",
          "name": "stdout",
          "text": [
            "Sensitivity :  0.9090909090909091\n",
            "Specificity :  0.8636363636363636\n"
          ]
        }
      ]
    },
    {
      "cell_type": "markdown",
      "source": [
        "**Accuracy-Model1**"
      ],
      "metadata": {
        "id": "SP6e4rnrjd9_"
      }
    },
    {
      "cell_type": "code",
      "source": [
        "plt.plot(train_accuracy)"
      ],
      "metadata": {
        "colab": {
          "base_uri": "https://localhost:8080/",
          "height": 283
        },
        "id": "LH89dvpT8ilQ",
        "outputId": "f26f583f-741a-457b-c6ed-9875d0c4b731"
      },
      "execution_count": 48,
      "outputs": [
        {
          "output_type": "execute_result",
          "data": {
            "text/plain": [
              "[<matplotlib.lines.Line2D at 0x7f8df3f9d5d0>]"
            ]
          },
          "metadata": {},
          "execution_count": 48
        },
        {
          "output_type": "display_data",
          "data": {
            "text/plain": [
              "<Figure size 432x288 with 1 Axes>"
            ],
            "image/png": "[encoded data removed]"
          },
          "metadata": {
            "needs_background": "light"
          }
        }
      ]
    },
    {
      "cell_type": "markdown",
      "source": [
        "**AUROC Score-Model1**"
      ],
      "metadata": {
        "id": "6IoMr0mrjhQw"
      }
    },
    {
      "cell_type": "code",
      "source": [
        "print('AUROC Score: ',roc_auc_score(test_y, y_predicted.round()))"
      ],
      "metadata": {
        "colab": {
          "base_uri": "https://localhost:8080/"
        },
        "id": "9YnsQrqMdCQ2",
        "outputId": "bd67de6f-5452-4543-eb75-79839017c075"
      },
      "execution_count": 40,
      "outputs": [
        {
          "output_type": "stream",
          "name": "stdout",
          "text": [
            "AUROC Score:  0.9318181818181819\n"
          ]
        }
      ]
    },
    {
      "cell_type": "markdown",
      "source": [
        "# Model-2"
      ],
      "metadata": {
        "id": "JheVLX8RjtTI"
      }
    },
    {
      "cell_type": "code",
      "source": [
        "model=ArtificialNeuralNetwork2()\n",
        "epochs_num=20\n",
        "criterion = nn.BCELoss()\n",
        "learning_rate = 0.001\n",
        "optimizer = optim.Adam(model.parameters(), lr=learning_rate)"
      ],
      "metadata": {
        "id": "aWAe_Olr8kic"
      },
      "execution_count": 41,
      "outputs": []
    },
    {
      "cell_type": "code",
      "source": [
        "train_accuracy= []\n",
        "for epoch in range(epochs_num):\n",
        "    y_pred = model(train_x)\n",
        "    loss = criterion(y_pred, train_y)\n",
        "    y_predicted_cls = y_pred.round()\n",
        "    acc = y_predicted_cls.eq(train_y).sum() / float(train_y.shape[0])\n",
        "    \n",
        "    train_accuracy.append(acc)\n",
        "\n",
        "    loss.backward()\n",
        "    optimizer.step()\n",
        "\n",
        "    optimizer.zero_grad()\n",
        "\n",
        "    print(f'epoch: {epoch+1}, loss = {loss.item():.4f}, accuracy = {acc}')"
      ],
      "metadata": {
        "colab": {
          "base_uri": "https://localhost:8080/"
        },
        "id": "gbvTBt74-aUc",
        "outputId": "d59b5a62-80c4-4ede-a1d7-07f5ae08c38b"
      },
      "execution_count": 42,
      "outputs": [
        {
          "output_type": "stream",
          "name": "stdout",
          "text": [
            "epoch: 1, loss = 0.6966, accuracy = 0.5755813717842102\n",
            "epoch: 2, loss = 0.6408, accuracy = 0.854651153087616\n",
            "epoch: 3, loss = 0.5950, accuracy = 0.8313953280448914\n",
            "epoch: 4, loss = 0.5546, accuracy = 0.8488371968269348\n",
            "epoch: 5, loss = 0.5161, accuracy = 0.8720930218696594\n",
            "epoch: 6, loss = 0.4787, accuracy = 0.8779069781303406\n",
            "epoch: 7, loss = 0.4423, accuracy = 0.8779069781303406\n",
            "epoch: 8, loss = 0.4087, accuracy = 0.8895348906517029\n",
            "epoch: 9, loss = 0.3783, accuracy = 0.8895348906517029\n",
            "epoch: 10, loss = 0.3517, accuracy = 0.8837209343910217\n",
            "epoch: 11, loss = 0.3288, accuracy = 0.8779069781303406\n",
            "epoch: 12, loss = 0.3100, accuracy = 0.8720930218696594\n",
            "epoch: 13, loss = 0.2951, accuracy = 0.8604651093482971\n",
            "epoch: 14, loss = 0.2836, accuracy = 0.8662790656089783\n",
            "epoch: 15, loss = 0.2749, accuracy = 0.8662790656089783\n",
            "epoch: 16, loss = 0.2685, accuracy = 0.8720930218696594\n",
            "epoch: 17, loss = 0.2637, accuracy = 0.8779069781303406\n",
            "epoch: 18, loss = 0.2600, accuracy = 0.8779069781303406\n",
            "epoch: 19, loss = 0.2569, accuracy = 0.8779069781303406\n",
            "epoch: 20, loss = 0.2540, accuracy = 0.8779069781303406\n"
          ]
        }
      ]
    },
    {
      "cell_type": "markdown",
      "source": [
        "Accuracy-Model 2"
      ],
      "metadata": {
        "id": "70B4u1UEjxc5"
      }
    },
    {
      "cell_type": "code",
      "source": [
        "with torch.no_grad():\n",
        "    y_predicted = model(test_x)\n",
        "    y_predicted_cls = y_predicted.round()\n",
        "    acc = y_predicted_cls.eq(test_y).sum() / float(test_y.shape[0])\n",
        "    print(f'accuracy: {acc.item():.4f}')"
      ],
      "metadata": {
        "colab": {
          "base_uri": "https://localhost:8080/"
        },
        "id": "YuDODx5O-lv5",
        "outputId": "049bfa42-1781-4418-eb26-f6c3cd85bd02"
      },
      "execution_count": 43,
      "outputs": [
        {
          "output_type": "stream",
          "name": "stdout",
          "text": [
            "accuracy: 0.8864\n"
          ]
        }
      ]
    },
    {
      "cell_type": "markdown",
      "source": [
        "Confusion Matrix, Specificity and Sensitivity- Model 2"
      ],
      "metadata": {
        "id": "ygKpOBVlj5DM"
      }
    },
    {
      "cell_type": "code",
      "source": [
        "cm = confusion_matrix(test_y, y_predicted.round())\n",
        "disp_rbf = ConfusionMatrixDisplay(cm)\n",
        "disp_rbf.plot()\n",
        "plt.show()\n",
        "\n",
        "sensitivity = cm[0,0]/(cm[0,0]+cm[0,1])\n",
        "print('Sensitivity : ', sensitivity )\n",
        "\n",
        "specificity = cm[1,1]/(cm[1,0]+cm[1,1])\n",
        "print('Specificity : ', specificity)"
      ],
      "metadata": {
        "colab": {
          "base_uri": "https://localhost:8080/",
          "height": 283
        },
        "id": "2paMANBP-o7P",
        "outputId": "f4d2b528-2417-4da1-d11b-6907d87b4e51"
      },
      "execution_count": 44,
      "outputs": [
        {
          "output_type": "display_data",
          "data": {
            "text/plain": [
              "<Figure size 432x288 with 2 Axes>"
            ],
            "image/png": "[encoded data removed]"
          },
          "metadata": {
            "needs_background": "light"
          }
        }
      ]
    },
    {
      "cell_type": "markdown",
      "source": [
        "Accuracy-Model 2"
      ],
      "metadata": {
        "id": "bNuZESrpkEfS"
      }
    },
    {
      "cell_type": "code",
      "source": [
        "plt.plot(train_accuracy)"
      ],
      "metadata": {
        "colab": {
          "base_uri": "https://localhost:8080/",
          "height": 283
        },
        "id": "JKK9ycs6-y4k",
        "outputId": "8ec37281-200d-4869-c445-95979b1addcd"
      },
      "execution_count": 45,
      "outputs": [
        {
          "output_type": "execute_result",
          "data": {
            "text/plain": [
              "[<matplotlib.lines.Line2D at 0x7f8df40f4c10>]"
            ]
          },
          "metadata": {},
          "execution_count": 45
        },
        {
          "output_type": "display_data",
          "data": {
            "text/plain": [
              "<Figure size 432x288 with 1 Axes>"
            ],
            "image/png": "[encoded data removed]"
          },
          "metadata": {
            "needs_background": "light"
          }
        }
      ]
    },
    {
      "cell_type": "markdown",
      "source": [
        "AUROC Score-Model 2"
      ],
      "metadata": {
        "id": "xXH5wfdZkG15"
      }
    },
    {
      "cell_type": "code",
      "source": [
        "print('AUROC Score: ',roc_auc_score(test_y, y_predicted.round()))"
      ],
      "metadata": {
        "id": "cSHSjK1Z-zeF",
        "colab": {
          "base_uri": "https://localhost:8080/"
        },
        "outputId": "fb485584-6d73-417b-ea3a-7e148b189b84"
      },
      "execution_count": 46,
      "outputs": [
        {
          "output_type": "stream",
          "name": "stdout",
          "text": [
            "AUROC Score:  0.8863636363636365\n"
          ]
        }
      ]
    }
  ]
}